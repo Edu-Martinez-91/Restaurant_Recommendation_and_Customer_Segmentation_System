{
 "cells": [
  {
   "cell_type": "markdown",
   "metadata": {},
   "source": [
    "# <h1 style=\"text-align: left; color: #FFB347; font-family: 'Bahnschrift Condensed', sans-serif; font-size: 2.5em;\">Connecting to MySQL Workbench\n",
    "</h1>\n"
   ]
  },
  {
   "cell_type": "code",
   "execution_count": 1260,
   "metadata": {},
   "outputs": [],
   "source": [
    "# 📚 Basic libraries\n",
    "import pandas as pd # data manipulation\n",
    "import numpy as np # numerical operations\n",
    "import warnings # warning messages management\n",
    "import matplotlib.pyplot as plt # plotting\n",
    "import seaborn as sns # plotting\n",
    "colors = ['#FF7F7F', '#FFF9C4', '#A5D6A7', '#81D4FA', '#F1F1F1']\n",
    "\n",
    "# 📊 Statistical libraries\n",
    "from scipy.stats import chi2_contingency # 🧮 Chi-squared test for independence\n",
    "from scipy.stats.contingency import association # 📈 Measures association strength between categorical variables\n",
    "import scipy.stats as st # ⚙️ General statistical functions\n",
    "import statsmodels.api as sm # 📐 Advanced statistical models and testing\n",
    "import statsmodels.formula.api as smf # 📝 Formula-based interface for statistical models\n",
    "\n",
    "# Set the color palette for all plots by default\n",
    "plt.rcParams['axes.prop_cycle'] = plt.cycler(color=colors)\n",
    "# ⚙️ Settings\n",
    "pd.set_option('display.max_columns', None) # display all columns\n",
    "warnings.filterwarnings('ignore') # ignore warnings\n",
    "\n",
    "# 🌐 New Libraries\n",
    "from getpass import getpass # get password without showing it\n",
    "import pymysql # MySQL connection\n",
    "import requests # HTTP requests\n",
    "import time # time operations\n",
    "\n",
    "# ⚙️ Settings\n",
    "pd.set_option('display.max_columns', None) # display all columns\n",
    "warnings.filterwarnings('ignore') # ignore warnings\n",
    "\n",
    "def create_connection(): # create a connection to a MySQL database\n",
    "    \"\"\"\n",
    "    Create a connection to a MySQL database.\n",
    "    Prompts the user for the database password and database name.\n",
    "    \n",
    "    Returns:\n",
    "        cnx: pymysql.connections.Connection object\n",
    "            The connection object to the MySQL database.\n",
    "    \"\"\"\n",
    "    password = getpass(\"Please, kindly insert your password: \")\n",
    "    database = input(\"Please, kindly insert your database name: \")\n",
    "    cnx = pymysql.connect(user='root', password=password,\n",
    "                          host='localhost', database=database)\n",
    "    if cnx.open:\n",
    "        print(\"Connection open\")\n",
    "    else:\n",
    "        print(\"Connection is not successfully open\")\n",
    "    return cnx"
   ]
  },
  {
   "cell_type": "code",
   "execution_count": 1261,
   "metadata": {},
   "outputs": [
    {
     "name": "stdout",
     "output_type": "stream",
     "text": [
      "Connection open\n"
     ]
    }
   ],
   "source": [
    "# We enter the password and the database \n",
    "connection = create_connection()"
   ]
  },
  {
   "cell_type": "markdown",
   "metadata": {},
   "source": [
    "## <h1 style=\"text-align: left; color: #FFB347; font-family: 'Bahnschrift', sans-serif; font-size: 1.5em;\">Testing the connection\n",
    "</h1>\n"
   ]
  },
  {
   "cell_type": "code",
   "execution_count": 1262,
   "metadata": {},
   "outputs": [
    {
     "data": {
      "text/html": [
       "<div>\n",
       "<style scoped>\n",
       "    .dataframe tbody tr th:only-of-type {\n",
       "        vertical-align: middle;\n",
       "    }\n",
       "\n",
       "    .dataframe tbody tr th {\n",
       "        vertical-align: top;\n",
       "    }\n",
       "\n",
       "    .dataframe thead th {\n",
       "        text-align: right;\n",
       "    }\n",
       "</style>\n",
       "<table border=\"1\" class=\"dataframe\">\n",
       "  <thead>\n",
       "    <tr style=\"text-align: right;\">\n",
       "      <th></th>\n",
       "      <th>placeID</th>\n",
       "      <th>latitude</th>\n",
       "      <th>longitude</th>\n",
       "      <th>the_geom_meter</th>\n",
       "      <th>name</th>\n",
       "      <th>address</th>\n",
       "      <th>city</th>\n",
       "      <th>state</th>\n",
       "      <th>country</th>\n",
       "      <th>fax</th>\n",
       "      <th>zip</th>\n",
       "      <th>alcohol</th>\n",
       "      <th>smoking_area</th>\n",
       "      <th>dress_code</th>\n",
       "      <th>accessibility</th>\n",
       "      <th>price</th>\n",
       "      <th>url</th>\n",
       "      <th>Rambience</th>\n",
       "      <th>franchise</th>\n",
       "      <th>area</th>\n",
       "      <th>other_services</th>\n",
       "      <th>Rcuisine</th>\n",
       "      <th>parking_lot</th>\n",
       "      <th>Rpayment</th>\n",
       "      <th>hours</th>\n",
       "      <th>days</th>\n",
       "    </tr>\n",
       "  </thead>\n",
       "  <tbody>\n",
       "    <tr>\n",
       "      <th>0</th>\n",
       "      <td>135109</td>\n",
       "      <td>18.921785</td>\n",
       "      <td>-99.235350</td>\n",
       "      <td>0101000020957F0000A6BF695F136F5AC1DADF87B20556...</td>\n",
       "      <td>Paniroles</td>\n",
       "      <td>?</td>\n",
       "      <td>?</td>\n",
       "      <td>?</td>\n",
       "      <td>?</td>\n",
       "      <td>?</td>\n",
       "      <td>?</td>\n",
       "      <td>Wine-Beer</td>\n",
       "      <td>not permitted</td>\n",
       "      <td>informal</td>\n",
       "      <td>no_accessibility</td>\n",
       "      <td>medium</td>\n",
       "      <td>?</td>\n",
       "      <td>quiet</td>\n",
       "      <td>f</td>\n",
       "      <td>closed</td>\n",
       "      <td>Internet</td>\n",
       "      <td>Italian</td>\n",
       "      <td>none</td>\n",
       "      <td>cash</td>\n",
       "      <td>08:00-21:00;</td>\n",
       "      <td>Mon;Tue;Wed;Thu;Fri;</td>\n",
       "    </tr>\n",
       "    <tr>\n",
       "      <th>1</th>\n",
       "      <td>135109</td>\n",
       "      <td>18.921785</td>\n",
       "      <td>-99.235350</td>\n",
       "      <td>0101000020957F0000A6BF695F136F5AC1DADF87B20556...</td>\n",
       "      <td>Paniroles</td>\n",
       "      <td>?</td>\n",
       "      <td>?</td>\n",
       "      <td>?</td>\n",
       "      <td>?</td>\n",
       "      <td>?</td>\n",
       "      <td>?</td>\n",
       "      <td>Wine-Beer</td>\n",
       "      <td>not permitted</td>\n",
       "      <td>informal</td>\n",
       "      <td>no_accessibility</td>\n",
       "      <td>medium</td>\n",
       "      <td>?</td>\n",
       "      <td>quiet</td>\n",
       "      <td>f</td>\n",
       "      <td>closed</td>\n",
       "      <td>Internet</td>\n",
       "      <td>Italian</td>\n",
       "      <td>none</td>\n",
       "      <td>cash</td>\n",
       "      <td>08:00-21:00;</td>\n",
       "      <td>Sat;</td>\n",
       "    </tr>\n",
       "    <tr>\n",
       "      <th>2</th>\n",
       "      <td>135109</td>\n",
       "      <td>18.921785</td>\n",
       "      <td>-99.235350</td>\n",
       "      <td>0101000020957F0000A6BF695F136F5AC1DADF87B20556...</td>\n",
       "      <td>Paniroles</td>\n",
       "      <td>?</td>\n",
       "      <td>?</td>\n",
       "      <td>?</td>\n",
       "      <td>?</td>\n",
       "      <td>?</td>\n",
       "      <td>?</td>\n",
       "      <td>Wine-Beer</td>\n",
       "      <td>not permitted</td>\n",
       "      <td>informal</td>\n",
       "      <td>no_accessibility</td>\n",
       "      <td>medium</td>\n",
       "      <td>?</td>\n",
       "      <td>quiet</td>\n",
       "      <td>f</td>\n",
       "      <td>closed</td>\n",
       "      <td>Internet</td>\n",
       "      <td>Italian</td>\n",
       "      <td>none</td>\n",
       "      <td>cash</td>\n",
       "      <td>08:00-21:00;</td>\n",
       "      <td>Sun;</td>\n",
       "    </tr>\n",
       "    <tr>\n",
       "      <th>3</th>\n",
       "      <td>135106</td>\n",
       "      <td>22.149709</td>\n",
       "      <td>-100.976093</td>\n",
       "      <td>0101000020957F0000649D6F21634858C119AE9BF528A3...</td>\n",
       "      <td>El Rinc�n de San Francisco</td>\n",
       "      <td>Universidad 169</td>\n",
       "      <td>San Luis Potosi</td>\n",
       "      <td>San Luis Potosi</td>\n",
       "      <td>Mexico</td>\n",
       "      <td>?</td>\n",
       "      <td>78000</td>\n",
       "      <td>Wine-Beer</td>\n",
       "      <td>only at bar</td>\n",
       "      <td>informal</td>\n",
       "      <td>partially</td>\n",
       "      <td>medium</td>\n",
       "      <td>?</td>\n",
       "      <td>familiar</td>\n",
       "      <td>f</td>\n",
       "      <td>open</td>\n",
       "      <td>none</td>\n",
       "      <td>Mexican</td>\n",
       "      <td>none</td>\n",
       "      <td>MasterCard-Eurocard</td>\n",
       "      <td>18:00-23:30;</td>\n",
       "      <td>Mon;Tue;Wed;Thu;Fri;</td>\n",
       "    </tr>\n",
       "    <tr>\n",
       "      <th>4</th>\n",
       "      <td>135106</td>\n",
       "      <td>22.149709</td>\n",
       "      <td>-100.976093</td>\n",
       "      <td>0101000020957F0000649D6F21634858C119AE9BF528A3...</td>\n",
       "      <td>El Rinc�n de San Francisco</td>\n",
       "      <td>Universidad 169</td>\n",
       "      <td>San Luis Potosi</td>\n",
       "      <td>San Luis Potosi</td>\n",
       "      <td>Mexico</td>\n",
       "      <td>?</td>\n",
       "      <td>78000</td>\n",
       "      <td>Wine-Beer</td>\n",
       "      <td>only at bar</td>\n",
       "      <td>informal</td>\n",
       "      <td>partially</td>\n",
       "      <td>medium</td>\n",
       "      <td>?</td>\n",
       "      <td>familiar</td>\n",
       "      <td>f</td>\n",
       "      <td>open</td>\n",
       "      <td>none</td>\n",
       "      <td>Mexican</td>\n",
       "      <td>none</td>\n",
       "      <td>VISA</td>\n",
       "      <td>18:00-23:30;</td>\n",
       "      <td>Mon;Tue;Wed;Thu;Fri;</td>\n",
       "    </tr>\n",
       "  </tbody>\n",
       "</table>\n",
       "</div>"
      ],
      "text/plain": [
       "   placeID   latitude   longitude  \\\n",
       "0   135109  18.921785  -99.235350   \n",
       "1   135109  18.921785  -99.235350   \n",
       "2   135109  18.921785  -99.235350   \n",
       "3   135106  22.149709 -100.976093   \n",
       "4   135106  22.149709 -100.976093   \n",
       "\n",
       "                                      the_geom_meter  \\\n",
       "0  0101000020957F0000A6BF695F136F5AC1DADF87B20556...   \n",
       "1  0101000020957F0000A6BF695F136F5AC1DADF87B20556...   \n",
       "2  0101000020957F0000A6BF695F136F5AC1DADF87B20556...   \n",
       "3  0101000020957F0000649D6F21634858C119AE9BF528A3...   \n",
       "4  0101000020957F0000649D6F21634858C119AE9BF528A3...   \n",
       "\n",
       "                         name          address             city  \\\n",
       "0                   Paniroles                ?                ?   \n",
       "1                   Paniroles                ?                ?   \n",
       "2                   Paniroles                ?                ?   \n",
       "3  El Rinc�n de San Francisco  Universidad 169  San Luis Potosi   \n",
       "4  El Rinc�n de San Francisco  Universidad 169  San Luis Potosi   \n",
       "\n",
       "             state country fax    zip    alcohol   smoking_area dress_code  \\\n",
       "0                ?       ?   ?      ?  Wine-Beer  not permitted   informal   \n",
       "1                ?       ?   ?      ?  Wine-Beer  not permitted   informal   \n",
       "2                ?       ?   ?      ?  Wine-Beer  not permitted   informal   \n",
       "3  San Luis Potosi  Mexico   ?  78000  Wine-Beer    only at bar   informal   \n",
       "4  San Luis Potosi  Mexico   ?  78000  Wine-Beer    only at bar   informal   \n",
       "\n",
       "      accessibility   price url Rambience franchise    area other_services  \\\n",
       "0  no_accessibility  medium   ?     quiet         f  closed       Internet   \n",
       "1  no_accessibility  medium   ?     quiet         f  closed       Internet   \n",
       "2  no_accessibility  medium   ?     quiet         f  closed       Internet   \n",
       "3         partially  medium   ?  familiar         f    open           none   \n",
       "4         partially  medium   ?  familiar         f    open           none   \n",
       "\n",
       "  Rcuisine parking_lot             Rpayment         hours  \\\n",
       "0  Italian        none                 cash  08:00-21:00;   \n",
       "1  Italian        none                 cash  08:00-21:00;   \n",
       "2  Italian        none                 cash  08:00-21:00;   \n",
       "3  Mexican        none  MasterCard-Eurocard  18:00-23:30;   \n",
       "4  Mexican        none                 VISA  18:00-23:30;   \n",
       "\n",
       "                   days  \n",
       "0  Mon;Tue;Wed;Thu;Fri;  \n",
       "1                  Sat;  \n",
       "2                  Sun;  \n",
       "3  Mon;Tue;Wed;Thu;Fri;  \n",
       "4  Mon;Tue;Wed;Thu;Fri;  "
      ]
     },
     "execution_count": 1262,
     "metadata": {},
     "output_type": "execute_result"
    }
   ],
   "source": [
    "query = \"SELECT * FROM location l JOIN rest_cui rc USING (placeID) JOIN if_parking USING (placeID) JOIN rest_pay USING (placeID) JOIN opening USING(placeID);\"\n",
    "df_location = pd.read_sql(query, connection)\n",
    "df_location.head()"
   ]
  },
  {
   "cell_type": "markdown",
   "metadata": {},
   "source": [
    "As with the customer dataframe, we will remove duplicates based on the restaurant ID to avoid overrepresentation of those that have multiple types of parking, payment methods, or more than one business style."
   ]
  },
  {
   "cell_type": "code",
   "execution_count": 1263,
   "metadata": {},
   "outputs": [],
   "source": [
    "df_location.drop_duplicates(subset=\"placeID\", inplace=True)"
   ]
  },
  {
   "cell_type": "markdown",
   "metadata": {},
   "source": [
    "# <h1 style=\"text-align: left; color: #FFB347; font-family: 'Bahnschrift Condensed', sans-serif; font-size: 2.5em;\">Cleaning column by column\n",
    "</h1>\n"
   ]
  },
  {
   "cell_type": "markdown",
   "metadata": {},
   "source": [
    "## <h1 style=\"text-align: left; color: #FFB347; font-family: 'Bahnschrift', sans-serif; font-size: 1.5em;\">City</h1>\n"
   ]
  },
  {
   "cell_type": "code",
   "execution_count": 1264,
   "metadata": {},
   "outputs": [],
   "source": [
    "df_location.loc[df_location[\"city\"] == \"San Luis Potosi.\", \"city\"] = \"San Luis Potosi\""
   ]
  },
  {
   "cell_type": "code",
   "execution_count": 1265,
   "metadata": {},
   "outputs": [
    {
     "data": {
      "text/plain": [
       "city\n",
       "San Luis Potosi     46\n",
       "?                   11\n",
       "Cuernavaca           6\n",
       "san luis potosi      5\n",
       "victoria             5\n",
       "Ciudad Victoria      2\n",
       "Soledad              1\n",
       "san luis potos       1\n",
       "san luis potosi      1\n",
       "s.l.p                1\n",
       "cuernavaca           1\n",
       "s.l.p.               1\n",
       "Jiutepec             1\n",
       "Cd Victoria          1\n",
       "Cd. Victoria         1\n",
       "victoria             1\n",
       "Name: count, dtype: int64"
      ]
     },
     "execution_count": 1265,
     "metadata": {},
     "output_type": "execute_result"
    }
   ],
   "source": [
    "df_location.city.value_counts()"
   ]
  },
  {
   "cell_type": "code",
   "execution_count": 1266,
   "metadata": {},
   "outputs": [],
   "source": [
    "df_location['city'] = df_location['city'].str.replace(r'\\b.*San Luis Potosi.    .*\\b', 'San Luis Potosi', regex=True)\n"
   ]
  },
  {
   "cell_type": "code",
   "execution_count": 1267,
   "metadata": {},
   "outputs": [],
   "source": [
    "df_location['city'] = df_location['city'].str.replace(r'\\b.*San Luis Potosi .*\\b', 'San Luis Potosi', regex=True)\n"
   ]
  },
  {
   "cell_type": "code",
   "execution_count": 1268,
   "metadata": {},
   "outputs": [],
   "source": [
    "df_location['city'] = df_location['city'].str.replace(r'\\b.*Potos.*\\b', 'San Luis Potosi', regex=True)\n"
   ]
  },
  {
   "cell_type": "code",
   "execution_count": 1269,
   "metadata": {},
   "outputs": [],
   "source": [
    "df_location['city'] = df_location['city'].str.replace(r'\\b.*s.l.p.*\\b', 'San Luis Potosi', regex=True)\n"
   ]
  },
  {
   "cell_type": "code",
   "execution_count": 1270,
   "metadata": {},
   "outputs": [],
   "source": [
    "df_location['city'] = df_location['city'].str.replace(r'\\b.*San Luis Potosi .*\\b', 'San Luis Potosi', regex=True)\n"
   ]
  },
  {
   "cell_type": "code",
   "execution_count": 1271,
   "metadata": {},
   "outputs": [],
   "source": [
    "df_location['city'] = df_location['city'].str.replace(r'\\bSan Luis Potosi\\.\\b', 'San Luis Potosi', regex=True)\n"
   ]
  },
  {
   "cell_type": "code",
   "execution_count": 1272,
   "metadata": {},
   "outputs": [],
   "source": [
    "df_location['city'] = df_location['city'].str.strip()"
   ]
  },
  {
   "cell_type": "code",
   "execution_count": 1273,
   "metadata": {},
   "outputs": [],
   "source": [
    "df_location['city'] = df_location['city'].str.replace(r'\\b.*ictoria.*\\b', 'Ciudad Victoria', regex=True)\n"
   ]
  },
  {
   "cell_type": "code",
   "execution_count": 1274,
   "metadata": {},
   "outputs": [],
   "source": [
    "\n",
    "df_location['city'] = df_location['city'].str.strip()  # Eliminar espacios al inicio y final\n",
    "df_location['city'] = df_location['city'].str.lower()  # Convertir a minúsculas\n",
    "\n",
    "\n",
    "df_location['city'] = df_location['city'].str.replace(r'\\bsan luis potosi[\\.\\s]*\\b', 'san luis potosi', regex=True)\n",
    "\n",
    "\n",
    "df_location['city'] = df_location['city'].str.title()"
   ]
  },
  {
   "cell_type": "code",
   "execution_count": 1275,
   "metadata": {},
   "outputs": [],
   "source": [
    "df_location['city'] = df_location['city'].str.replace(r'\\b.*Slp.*\\b', 'San Luis Potosi', regex=True)\n"
   ]
  },
  {
   "cell_type": "code",
   "execution_count": 1276,
   "metadata": {},
   "outputs": [],
   "source": [
    "df_location.city = df_location.city.replace(\"?\", None).ffill()"
   ]
  },
  {
   "cell_type": "code",
   "execution_count": 1277,
   "metadata": {},
   "outputs": [],
   "source": [
    "df_location.loc[df_location[\"city\"] == \"San Luis Potosi.\", \"city\"] = \"San Luis Potosi\""
   ]
  },
  {
   "cell_type": "code",
   "execution_count": 1278,
   "metadata": {},
   "outputs": [],
   "source": [
    "df_location['city'] = df_location['city'].str.replace(r'.*Potos.*', 'San Luis Potosi', regex=True)"
   ]
  },
  {
   "cell_type": "code",
   "execution_count": 1279,
   "metadata": {},
   "outputs": [
    {
     "data": {
      "text/plain": [
       "city\n",
       "San Luis Potosi    60\n",
       "Ciudad Victoria    15\n",
       "Cuernavaca          7\n",
       "Soledad             1\n",
       "Jiutepec            1\n",
       "Name: count, dtype: int64"
      ]
     },
     "execution_count": 1279,
     "metadata": {},
     "output_type": "execute_result"
    }
   ],
   "source": [
    "df_location.city.value_counts()"
   ]
  },
  {
   "cell_type": "markdown",
   "metadata": {},
   "source": [
    "## <h1 style=\"text-align: left; color: #FFB347; font-family: 'Bahnschrift', sans-serif; font-size: 1.5em;\">State</h1>\n"
   ]
  },
  {
   "cell_type": "code",
   "execution_count": 1280,
   "metadata": {},
   "outputs": [
    {
     "data": {
      "text/plain": [
       "state\n",
       "SLP                32\n",
       "San Luis Potosi    14\n",
       "?                  10\n",
       "Morelos             7\n",
       "Tamaulipas          7\n",
       "san luis potosi     4\n",
       "tamaulipas          3\n",
       "S.L.P.              2\n",
       "mexico              2\n",
       "san luis potos      1\n",
       "slp                 1\n",
       "s.l.p.              1\n",
       "morelos             1\n",
       "Name: count, dtype: int64"
      ]
     },
     "execution_count": 1280,
     "metadata": {},
     "output_type": "execute_result"
    }
   ],
   "source": [
    "df_location.state.value_counts()"
   ]
  },
  {
   "cell_type": "code",
   "execution_count": 1281,
   "metadata": {},
   "outputs": [],
   "source": [
    "df_location.state = df_location.state.replace(\"?\", None).ffill()"
   ]
  },
  {
   "cell_type": "code",
   "execution_count": 1282,
   "metadata": {},
   "outputs": [
    {
     "data": {
      "text/plain": [
       "state\n",
       "SLP                32\n",
       "San Luis Potosi    18\n",
       "Tamaulipas          9\n",
       "Morelos             7\n",
       "san luis potosi     7\n",
       "tamaulipas          3\n",
       "S.L.P.              2\n",
       "mexico              2\n",
       "san luis potos      1\n",
       "slp                 1\n",
       "s.l.p.              1\n",
       "morelos             1\n",
       "Name: count, dtype: int64"
      ]
     },
     "execution_count": 1282,
     "metadata": {},
     "output_type": "execute_result"
    }
   ],
   "source": [
    "df_location.state.value_counts()"
   ]
  },
  {
   "cell_type": "code",
   "execution_count": 1283,
   "metadata": {},
   "outputs": [],
   "source": [
    "df_location['state'] = df_location['state'].str.replace(r'\\b.*S.L.*\\b', 'San Luis Potosi', regex=True)\n"
   ]
  },
  {
   "cell_type": "code",
   "execution_count": 1284,
   "metadata": {},
   "outputs": [],
   "source": [
    "df_location['state'] = df_location['state'].str.replace(r'\\b.*SLP.*\\b', 'San Luis Potosi', regex=True)\n"
   ]
  },
  {
   "cell_type": "code",
   "execution_count": 1285,
   "metadata": {},
   "outputs": [],
   "source": [
    "df_location['state'] = df_location['state'].str.replace(r'\\b.*slp.*\\b', 'San Luis Potosi', regex=True)\n"
   ]
  },
  {
   "cell_type": "code",
   "execution_count": 1286,
   "metadata": {},
   "outputs": [],
   "source": [
    "df_location['state'] = df_location['state'].str.replace(r'\\b.*s.l.p.*\\b', 'San Luis Potosi', regex=True)\n"
   ]
  },
  {
   "cell_type": "code",
   "execution_count": 1287,
   "metadata": {},
   "outputs": [],
   "source": [
    "df_location['state'] = df_location['state'].str.replace(r'\\b.*uis*\\b', 'San Luis Potosi', regex=True)\n"
   ]
  },
  {
   "cell_type": "code",
   "execution_count": 1288,
   "metadata": {},
   "outputs": [],
   "source": [
    "df_location[\"state\"] = df_location[\"state\"].str.replace(\n",
    "    r\"^(San Luis Potosi) \\w+\\b\", r\"\\1\", regex=True\n",
    ")"
   ]
  },
  {
   "cell_type": "code",
   "execution_count": 1289,
   "metadata": {},
   "outputs": [],
   "source": [
    "df_location['state'] = df_location['state'].str.replace(r'\\b.*amaulipas.*\\b', 'Tamaulipas', regex=True)\n"
   ]
  },
  {
   "cell_type": "code",
   "execution_count": 1290,
   "metadata": {},
   "outputs": [],
   "source": [
    "df_location['state'] = df_location['state'].str.replace(r'\\b.*orelos.*\\b', 'Morelos', regex=True)\n"
   ]
  },
  {
   "cell_type": "code",
   "execution_count": 1291,
   "metadata": {},
   "outputs": [
    {
     "data": {
      "text/html": [
       "<div>\n",
       "<style scoped>\n",
       "    .dataframe tbody tr th:only-of-type {\n",
       "        vertical-align: middle;\n",
       "    }\n",
       "\n",
       "    .dataframe tbody tr th {\n",
       "        vertical-align: top;\n",
       "    }\n",
       "\n",
       "    .dataframe thead th {\n",
       "        text-align: right;\n",
       "    }\n",
       "</style>\n",
       "<table border=\"1\" class=\"dataframe\">\n",
       "  <thead>\n",
       "    <tr style=\"text-align: right;\">\n",
       "      <th></th>\n",
       "      <th>placeID</th>\n",
       "      <th>latitude</th>\n",
       "      <th>longitude</th>\n",
       "      <th>the_geom_meter</th>\n",
       "      <th>name</th>\n",
       "      <th>address</th>\n",
       "      <th>city</th>\n",
       "      <th>state</th>\n",
       "      <th>country</th>\n",
       "      <th>fax</th>\n",
       "      <th>zip</th>\n",
       "      <th>alcohol</th>\n",
       "      <th>smoking_area</th>\n",
       "      <th>dress_code</th>\n",
       "      <th>accessibility</th>\n",
       "      <th>price</th>\n",
       "      <th>url</th>\n",
       "      <th>Rambience</th>\n",
       "      <th>franchise</th>\n",
       "      <th>area</th>\n",
       "      <th>other_services</th>\n",
       "      <th>Rcuisine</th>\n",
       "      <th>parking_lot</th>\n",
       "      <th>Rpayment</th>\n",
       "      <th>hours</th>\n",
       "      <th>days</th>\n",
       "    </tr>\n",
       "  </thead>\n",
       "  <tbody>\n",
       "    <tr>\n",
       "      <th>399</th>\n",
       "      <td>132955</td>\n",
       "      <td>22.147622</td>\n",
       "      <td>-101.010275</td>\n",
       "      <td>0101000020957F000068BE7C87C24758C1920A360A08AD...</td>\n",
       "      <td>emilianos</td>\n",
       "      <td>venustiano carranza</td>\n",
       "      <td>San Luis Potosi</td>\n",
       "      <td>mexico</td>\n",
       "      <td>?</td>\n",
       "      <td>?</td>\n",
       "      <td>?</td>\n",
       "      <td>Wine-Beer</td>\n",
       "      <td>none</td>\n",
       "      <td>informal</td>\n",
       "      <td>completely</td>\n",
       "      <td>low</td>\n",
       "      <td>?</td>\n",
       "      <td>familiar</td>\n",
       "      <td>t</td>\n",
       "      <td>closed</td>\n",
       "      <td>variety</td>\n",
       "      <td>Bar_Pub_Brewery</td>\n",
       "      <td>none</td>\n",
       "      <td>Carte_Blanche</td>\n",
       "      <td>00:00-23:30;</td>\n",
       "      <td>Mon;Tue;Wed;Thu;Fri;</td>\n",
       "    </tr>\n",
       "    <tr>\n",
       "      <th>459</th>\n",
       "      <td>132872</td>\n",
       "      <td>22.173596</td>\n",
       "      <td>-100.994603</td>\n",
       "      <td>0101000020957F0000942C3434384458C1C2D3499804A7...</td>\n",
       "      <td>Pizzeria Julios</td>\n",
       "      <td>?</td>\n",
       "      <td>San Luis Potosi</td>\n",
       "      <td>mexico</td>\n",
       "      <td>?</td>\n",
       "      <td>?</td>\n",
       "      <td>?</td>\n",
       "      <td>No_Alcohol_Served</td>\n",
       "      <td>not permitted</td>\n",
       "      <td>informal</td>\n",
       "      <td>partially</td>\n",
       "      <td>medium</td>\n",
       "      <td>?</td>\n",
       "      <td>familiar</td>\n",
       "      <td>f</td>\n",
       "      <td>closed</td>\n",
       "      <td>none</td>\n",
       "      <td>American</td>\n",
       "      <td>public</td>\n",
       "      <td>bank_debit_cards</td>\n",
       "      <td>09:00-21:00;</td>\n",
       "      <td>Mon;Tue;Wed;Thu;Fri;</td>\n",
       "    </tr>\n",
       "  </tbody>\n",
       "</table>\n",
       "</div>"
      ],
      "text/plain": [
       "     placeID   latitude   longitude  \\\n",
       "399   132955  22.147622 -101.010275   \n",
       "459   132872  22.173596 -100.994603   \n",
       "\n",
       "                                        the_geom_meter             name  \\\n",
       "399  0101000020957F000068BE7C87C24758C1920A360A08AD...        emilianos   \n",
       "459  0101000020957F0000942C3434384458C1C2D3499804A7...  Pizzeria Julios   \n",
       "\n",
       "                 address             city   state country fax zip  \\\n",
       "399  venustiano carranza  San Luis Potosi  mexico       ?   ?   ?   \n",
       "459                    ?  San Luis Potosi  mexico       ?   ?   ?   \n",
       "\n",
       "               alcohol   smoking_area dress_code accessibility   price url  \\\n",
       "399          Wine-Beer           none   informal    completely     low   ?   \n",
       "459  No_Alcohol_Served  not permitted   informal     partially  medium   ?   \n",
       "\n",
       "    Rambience franchise    area other_services         Rcuisine parking_lot  \\\n",
       "399  familiar         t  closed        variety  Bar_Pub_Brewery        none   \n",
       "459  familiar         f  closed           none         American      public   \n",
       "\n",
       "             Rpayment         hours                  days  \n",
       "399     Carte_Blanche  00:00-23:30;  Mon;Tue;Wed;Thu;Fri;  \n",
       "459  bank_debit_cards  09:00-21:00;  Mon;Tue;Wed;Thu;Fri;  "
      ]
     },
     "execution_count": 1291,
     "metadata": {},
     "output_type": "execute_result"
    }
   ],
   "source": [
    "df_location[df_location[\"state\"] == \"mexico\"]"
   ]
  },
  {
   "cell_type": "code",
   "execution_count": 1292,
   "metadata": {},
   "outputs": [],
   "source": [
    "df_location.state = df_location.state.apply(lambda x: \"San Luis Potosi\" if x == \"mexico\" else x)"
   ]
  },
  {
   "cell_type": "code",
   "execution_count": 1293,
   "metadata": {},
   "outputs": [],
   "source": [
    "df_location['state'] = df_location['state'].str.replace(r'.*Potos.*', 'San Luis Potosi', regex=True)"
   ]
  },
  {
   "cell_type": "code",
   "execution_count": 1294,
   "metadata": {},
   "outputs": [
    {
     "data": {
      "text/plain": [
       "state\n",
       "San Luis Potosi    64\n",
       "Tamaulipas         12\n",
       "Morelos             8\n",
       "Name: count, dtype: int64"
      ]
     },
     "execution_count": 1294,
     "metadata": {},
     "output_type": "execute_result"
    }
   ],
   "source": [
    "df_location.state.value_counts()"
   ]
  },
  {
   "cell_type": "markdown",
   "metadata": {},
   "source": [
    "## <h1 style=\"text-align: left; color: #FFB347; font-family: 'Bahnschrift', sans-serif; font-size: 1.5em;\">Country</h1>\n"
   ]
  },
  {
   "cell_type": "code",
   "execution_count": 1295,
   "metadata": {},
   "outputs": [],
   "source": [
    "df_location['country'] = 'Mexico'"
   ]
  },
  {
   "cell_type": "code",
   "execution_count": 1296,
   "metadata": {},
   "outputs": [
    {
     "data": {
      "text/plain": [
       "country\n",
       "Mexico    85\n",
       "Name: count, dtype: int64"
      ]
     },
     "execution_count": 1296,
     "metadata": {},
     "output_type": "execute_result"
    }
   ],
   "source": [
    "df_location.country.value_counts()"
   ]
  },
  {
   "cell_type": "markdown",
   "metadata": {},
   "source": [
    "## <h1 style=\"text-align: left; color: #FFB347; font-family: 'Bahnschrift', sans-serif; font-size: 1.5em;\">Drink level</h1>\n"
   ]
  },
  {
   "cell_type": "code",
   "execution_count": 1297,
   "metadata": {},
   "outputs": [
    {
     "data": {
      "text/plain": [
       "alcohol\n",
       "No_Alcohol_Served    56\n",
       "Wine-Beer            22\n",
       "Full_Bar              7\n",
       "Name: count, dtype: int64"
      ]
     },
     "execution_count": 1297,
     "metadata": {},
     "output_type": "execute_result"
    }
   ],
   "source": [
    "df_location.alcohol.value_counts()"
   ]
  },
  {
   "cell_type": "code",
   "execution_count": 1298,
   "metadata": {},
   "outputs": [],
   "source": [
    "df_location['alcohol'] = df_location['alcohol'].str.replace(r'\\b.*No_Alcohol_Served.*\\b', 'No alcohol', regex=True)\n"
   ]
  },
  {
   "cell_type": "code",
   "execution_count": 1299,
   "metadata": {},
   "outputs": [],
   "source": [
    "df_location['alcohol'] = df_location['alcohol'].str.replace(r'\\b.*Wine-Beer.*\\b', 'Wine/ Beer', regex=True)\n"
   ]
  },
  {
   "cell_type": "code",
   "execution_count": 1300,
   "metadata": {},
   "outputs": [],
   "source": [
    "df_location['alcohol'] = df_location['alcohol'].str.replace(r'\\b.*Full_Bar.*\\b', 'Full Bar', regex=True)\n"
   ]
  },
  {
   "cell_type": "code",
   "execution_count": 1301,
   "metadata": {},
   "outputs": [
    {
     "data": {
      "text/plain": [
       "alcohol\n",
       "No alcohol    56\n",
       "Wine/ Beer    22\n",
       "Full Bar       7\n",
       "Name: count, dtype: int64"
      ]
     },
     "execution_count": 1301,
     "metadata": {},
     "output_type": "execute_result"
    }
   ],
   "source": [
    "df_location.alcohol.value_counts()"
   ]
  },
  {
   "cell_type": "markdown",
   "metadata": {},
   "source": [
    "## <h1 style=\"text-align: left; color: #FFB347; font-family: 'Bahnschrift', sans-serif; font-size: 1.5em;\">Smoking Area</h1>\n"
   ]
  },
  {
   "cell_type": "code",
   "execution_count": 1302,
   "metadata": {},
   "outputs": [],
   "source": [
    "df_location['smoking_area'] = df_location['smoking_area'].str.capitalize()"
   ]
  },
  {
   "cell_type": "code",
   "execution_count": 1303,
   "metadata": {},
   "outputs": [
    {
     "data": {
      "text/plain": [
       "smoking_area\n",
       "None             36\n",
       "Not permitted    24\n",
       "Section          15\n",
       "Permitted         9\n",
       "Only at bar       1\n",
       "Name: count, dtype: int64"
      ]
     },
     "execution_count": 1303,
     "metadata": {},
     "output_type": "execute_result"
    }
   ],
   "source": [
    "df_location.smoking_area.value_counts()"
   ]
  },
  {
   "cell_type": "markdown",
   "metadata": {},
   "source": [
    "## <h1 style=\"text-align: left; color: #FFB347; font-family: 'Bahnschrift', sans-serif; font-size: 1.5em;\">Dress code</h1>\n"
   ]
  },
  {
   "cell_type": "code",
   "execution_count": 1304,
   "metadata": {},
   "outputs": [],
   "source": [
    "df_location['dress_code'] = df_location['dress_code'].str.capitalize()"
   ]
  },
  {
   "cell_type": "code",
   "execution_count": 1305,
   "metadata": {},
   "outputs": [
    {
     "data": {
      "text/plain": [
       "dress_code\n",
       "Informal    76\n",
       "Casual       8\n",
       "Formal       1\n",
       "Name: count, dtype: int64"
      ]
     },
     "execution_count": 1305,
     "metadata": {},
     "output_type": "execute_result"
    }
   ],
   "source": [
    "df_location.dress_code.value_counts()"
   ]
  },
  {
   "cell_type": "markdown",
   "metadata": {},
   "source": [
    "## <h1 style=\"text-align: left; color: #FFB347; font-family: 'Bahnschrift', sans-serif; font-size: 1.5em;\">Accesibility</h1>\n"
   ]
  },
  {
   "cell_type": "code",
   "execution_count": 1306,
   "metadata": {},
   "outputs": [],
   "source": [
    "df_location['accessibility'] = df_location['accessibility'].str.capitalize()"
   ]
  },
  {
   "cell_type": "code",
   "execution_count": 1307,
   "metadata": {},
   "outputs": [],
   "source": [
    "df_location['accessibility'] = df_location['accessibility'].str.replace(r'\\b.*No_accessibility.*\\b', 'No accessibility', regex=True)\n"
   ]
  },
  {
   "cell_type": "code",
   "execution_count": 1308,
   "metadata": {},
   "outputs": [
    {
     "data": {
      "text/plain": [
       "accessibility\n",
       "No accessibility    47\n",
       "Completely          30\n",
       "Partially            8\n",
       "Name: count, dtype: int64"
      ]
     },
     "execution_count": 1308,
     "metadata": {},
     "output_type": "execute_result"
    }
   ],
   "source": [
    "df_location.accessibility.value_counts()"
   ]
  },
  {
   "cell_type": "markdown",
   "metadata": {},
   "source": [
    "## <h1 style=\"text-align: left; color: #FFB347; font-family: 'Bahnschrift', sans-serif; font-size: 1.5em;\">Price</h1>\n"
   ]
  },
  {
   "cell_type": "code",
   "execution_count": 1309,
   "metadata": {},
   "outputs": [],
   "source": [
    "df_location['price'] = df_location['price'].str.capitalize()"
   ]
  },
  {
   "cell_type": "code",
   "execution_count": 1310,
   "metadata": {},
   "outputs": [],
   "source": [
    "df_location = df_location.applymap(lambda x: str(x).replace('_', ' ').title())"
   ]
  },
  {
   "cell_type": "code",
   "execution_count": 1311,
   "metadata": {},
   "outputs": [
    {
     "data": {
      "text/plain": [
       "price\n",
       "Medium    46\n",
       "Low       27\n",
       "High      12\n",
       "Name: count, dtype: int64"
      ]
     },
     "execution_count": 1311,
     "metadata": {},
     "output_type": "execute_result"
    }
   ],
   "source": [
    "df_location.price.value_counts()"
   ]
  },
  {
   "cell_type": "markdown",
   "metadata": {},
   "source": [
    "## <h1 style=\"text-align: left; color: #FFB347; font-family: 'Bahnschrift', sans-serif; font-size: 1.5em;\">Rambience</h1>\n"
   ]
  },
  {
   "cell_type": "code",
   "execution_count": 1312,
   "metadata": {},
   "outputs": [
    {
     "data": {
      "text/plain": [
       "Rambience\n",
       "Familiar    76\n",
       "Quiet        9\n",
       "Name: count, dtype: int64"
      ]
     },
     "execution_count": 1312,
     "metadata": {},
     "output_type": "execute_result"
    }
   ],
   "source": [
    "df_location.Rambience.value_counts()"
   ]
  },
  {
   "cell_type": "markdown",
   "metadata": {},
   "source": [
    "## <h1 style=\"text-align: left; color: #FFB347; font-family: 'Bahnschrift', sans-serif; font-size: 1.5em;\">Franchise</h1>\n"
   ]
  },
  {
   "cell_type": "code",
   "execution_count": 1313,
   "metadata": {},
   "outputs": [
    {
     "data": {
      "text/plain": [
       "franchise\n",
       "F    67\n",
       "T    18\n",
       "Name: count, dtype: int64"
      ]
     },
     "execution_count": 1313,
     "metadata": {},
     "output_type": "execute_result"
    }
   ],
   "source": [
    "df_location.franchise.value_counts()"
   ]
  },
  {
   "cell_type": "markdown",
   "metadata": {},
   "source": [
    "## <h1 style=\"text-align: left; color: #FFB347; font-family: 'Bahnschrift', sans-serif; font-size: 1.5em;\">Area</h1>\n"
   ]
  },
  {
   "cell_type": "code",
   "execution_count": 1314,
   "metadata": {},
   "outputs": [
    {
     "data": {
      "text/plain": [
       "area\n",
       "Closed    71\n",
       "Open      14\n",
       "Name: count, dtype: int64"
      ]
     },
     "execution_count": 1314,
     "metadata": {},
     "output_type": "execute_result"
    }
   ],
   "source": [
    "df_location.area.value_counts()"
   ]
  },
  {
   "cell_type": "markdown",
   "metadata": {},
   "source": [
    "## <h1 style=\"text-align: left; color: #FFB347; font-family: 'Bahnschrift', sans-serif; font-size: 1.5em;\">Other services</h1>\n"
   ]
  },
  {
   "cell_type": "code",
   "execution_count": 1315,
   "metadata": {},
   "outputs": [
    {
     "data": {
      "text/plain": [
       "other_services\n",
       "None        76\n",
       "Variety      6\n",
       "Internet     3\n",
       "Name: count, dtype: int64"
      ]
     },
     "execution_count": 1315,
     "metadata": {},
     "output_type": "execute_result"
    }
   ],
   "source": [
    "df_location.other_services.value_counts()"
   ]
  },
  {
   "cell_type": "code",
   "execution_count": 1316,
   "metadata": {},
   "outputs": [
    {
     "data": {
      "text/html": [
       "<div>\n",
       "<style scoped>\n",
       "    .dataframe tbody tr th:only-of-type {\n",
       "        vertical-align: middle;\n",
       "    }\n",
       "\n",
       "    .dataframe tbody tr th {\n",
       "        vertical-align: top;\n",
       "    }\n",
       "\n",
       "    .dataframe thead th {\n",
       "        text-align: right;\n",
       "    }\n",
       "</style>\n",
       "<table border=\"1\" class=\"dataframe\">\n",
       "  <thead>\n",
       "    <tr style=\"text-align: right;\">\n",
       "      <th></th>\n",
       "      <th>placeID</th>\n",
       "      <th>latitude</th>\n",
       "      <th>longitude</th>\n",
       "      <th>the_geom_meter</th>\n",
       "      <th>name</th>\n",
       "      <th>address</th>\n",
       "      <th>city</th>\n",
       "      <th>state</th>\n",
       "      <th>country</th>\n",
       "      <th>fax</th>\n",
       "      <th>zip</th>\n",
       "      <th>alcohol</th>\n",
       "      <th>smoking_area</th>\n",
       "      <th>dress_code</th>\n",
       "      <th>accessibility</th>\n",
       "      <th>price</th>\n",
       "      <th>url</th>\n",
       "      <th>Rambience</th>\n",
       "      <th>franchise</th>\n",
       "      <th>area</th>\n",
       "      <th>other_services</th>\n",
       "      <th>Rcuisine</th>\n",
       "      <th>parking_lot</th>\n",
       "      <th>Rpayment</th>\n",
       "      <th>hours</th>\n",
       "      <th>days</th>\n",
       "    </tr>\n",
       "  </thead>\n",
       "  <tbody>\n",
       "    <tr>\n",
       "      <th>0</th>\n",
       "      <td>135109</td>\n",
       "      <td>18.9217848</td>\n",
       "      <td>-99.2353499</td>\n",
       "      <td>0101000020957F0000A6Bf695F136F5Ac1Dadf87B20556...</td>\n",
       "      <td>Paniroles</td>\n",
       "      <td>?</td>\n",
       "      <td>None</td>\n",
       "      <td>None</td>\n",
       "      <td>Mexico</td>\n",
       "      <td>?</td>\n",
       "      <td>?</td>\n",
       "      <td>Wine/ Beer</td>\n",
       "      <td>Not Permitted</td>\n",
       "      <td>Informal</td>\n",
       "      <td>No Accessibility</td>\n",
       "      <td>Medium</td>\n",
       "      <td>?</td>\n",
       "      <td>Quiet</td>\n",
       "      <td>F</td>\n",
       "      <td>Closed</td>\n",
       "      <td>Internet</td>\n",
       "      <td>Italian</td>\n",
       "      <td>None</td>\n",
       "      <td>Cash</td>\n",
       "      <td>08:00-21:00;</td>\n",
       "      <td>Mon;Tue;Wed;Thu;Fri;</td>\n",
       "    </tr>\n",
       "    <tr>\n",
       "      <th>3</th>\n",
       "      <td>135106</td>\n",
       "      <td>22.1497088</td>\n",
       "      <td>-100.9760928</td>\n",
       "      <td>0101000020957F0000649D6F21634858C119Ae9Bf528A3...</td>\n",
       "      <td>El Rinc�N De San Francisco</td>\n",
       "      <td>Universidad 169</td>\n",
       "      <td>San Luis Potosi</td>\n",
       "      <td>San Luis Potosi</td>\n",
       "      <td>Mexico</td>\n",
       "      <td>?</td>\n",
       "      <td>78000</td>\n",
       "      <td>Wine/ Beer</td>\n",
       "      <td>Only At Bar</td>\n",
       "      <td>Informal</td>\n",
       "      <td>Partially</td>\n",
       "      <td>Medium</td>\n",
       "      <td>?</td>\n",
       "      <td>Familiar</td>\n",
       "      <td>F</td>\n",
       "      <td>Open</td>\n",
       "      <td>None</td>\n",
       "      <td>Mexican</td>\n",
       "      <td>None</td>\n",
       "      <td>Mastercard-Eurocard</td>\n",
       "      <td>18:00-23:30;</td>\n",
       "      <td>Mon;Tue;Wed;Thu;Fri;</td>\n",
       "    </tr>\n",
       "    <tr>\n",
       "      <th>12</th>\n",
       "      <td>135104</td>\n",
       "      <td>23.7529821</td>\n",
       "      <td>-99.1684341</td>\n",
       "      <td>0101000020957F00007Cdf5Eafc58157C1645743B23E4F...</td>\n",
       "      <td>Vips</td>\n",
       "      <td>?</td>\n",
       "      <td>San Luis Potosi</td>\n",
       "      <td>San Luis Potosi</td>\n",
       "      <td>Mexico</td>\n",
       "      <td>?</td>\n",
       "      <td>?</td>\n",
       "      <td>Full Bar</td>\n",
       "      <td>Not Permitted</td>\n",
       "      <td>Informal</td>\n",
       "      <td>Completely</td>\n",
       "      <td>Medium</td>\n",
       "      <td>?</td>\n",
       "      <td>Familiar</td>\n",
       "      <td>T</td>\n",
       "      <td>Closed</td>\n",
       "      <td>Variety</td>\n",
       "      <td>Mexican</td>\n",
       "      <td>Yes</td>\n",
       "      <td>Mastercard-Eurocard</td>\n",
       "      <td>00:00-23:30;</td>\n",
       "      <td>Mon;Tue;Wed;Thu;Fri;</td>\n",
       "    </tr>\n",
       "    <tr>\n",
       "      <th>21</th>\n",
       "      <td>135088</td>\n",
       "      <td>18.8760113</td>\n",
       "      <td>-99.2198896</td>\n",
       "      <td>0101000020957F0000E14Ad4Dbc7765Ac1F7B33C85B153...</td>\n",
       "      <td>Cafeteria Cenidet</td>\n",
       "      <td>Interior Internado Palmira Sn</td>\n",
       "      <td>Cuernavaca</td>\n",
       "      <td>Morelos</td>\n",
       "      <td>Mexico</td>\n",
       "      <td>?</td>\n",
       "      <td>?</td>\n",
       "      <td>No Alcohol</td>\n",
       "      <td>Not Permitted</td>\n",
       "      <td>Informal</td>\n",
       "      <td>No Accessibility</td>\n",
       "      <td>Low</td>\n",
       "      <td>Www.Cenidet.Edu.Mx</td>\n",
       "      <td>Quiet</td>\n",
       "      <td>F</td>\n",
       "      <td>Closed</td>\n",
       "      <td>None</td>\n",
       "      <td>Cafeteria</td>\n",
       "      <td>Public</td>\n",
       "      <td>Cash</td>\n",
       "      <td>09:00-16:00;</td>\n",
       "      <td>Mon;Tue;Wed;Thu;Fri;</td>\n",
       "    </tr>\n",
       "    <tr>\n",
       "      <th>24</th>\n",
       "      <td>135086</td>\n",
       "      <td>22.141421</td>\n",
       "      <td>-101.013955</td>\n",
       "      <td>0101000020957F0000Fa1A0E5A9B4858C17C884C4173Ae...</td>\n",
       "      <td>Mcdonalds Parque Tangamanga</td>\n",
       "      <td>Lateral Salvador Nava Martinez 3145</td>\n",
       "      <td>San Luis Potosi</td>\n",
       "      <td>San Luis Potosi</td>\n",
       "      <td>Mexico</td>\n",
       "      <td>?</td>\n",
       "      <td>78290</td>\n",
       "      <td>No Alcohol</td>\n",
       "      <td>Not Permitted</td>\n",
       "      <td>Informal</td>\n",
       "      <td>No Accessibility</td>\n",
       "      <td>Medium</td>\n",
       "      <td>?</td>\n",
       "      <td>Familiar</td>\n",
       "      <td>T</td>\n",
       "      <td>Closed</td>\n",
       "      <td>None</td>\n",
       "      <td>Burgers</td>\n",
       "      <td>Yes</td>\n",
       "      <td>Mastercard-Eurocard</td>\n",
       "      <td>08:00-23:00;</td>\n",
       "      <td>Mon;Tue;Wed;Thu;Fri;</td>\n",
       "    </tr>\n",
       "  </tbody>\n",
       "</table>\n",
       "</div>"
      ],
      "text/plain": [
       "   placeID    latitude     longitude  \\\n",
       "0   135109  18.9217848   -99.2353499   \n",
       "3   135106  22.1497088  -100.9760928   \n",
       "12  135104  23.7529821   -99.1684341   \n",
       "21  135088  18.8760113   -99.2198896   \n",
       "24  135086   22.141421   -101.013955   \n",
       "\n",
       "                                       the_geom_meter  \\\n",
       "0   0101000020957F0000A6Bf695F136F5Ac1Dadf87B20556...   \n",
       "3   0101000020957F0000649D6F21634858C119Ae9Bf528A3...   \n",
       "12  0101000020957F00007Cdf5Eafc58157C1645743B23E4F...   \n",
       "21  0101000020957F0000E14Ad4Dbc7765Ac1F7B33C85B153...   \n",
       "24  0101000020957F0000Fa1A0E5A9B4858C17C884C4173Ae...   \n",
       "\n",
       "                           name                              address  \\\n",
       "0                     Paniroles                                    ?   \n",
       "3    El Rinc�N De San Francisco                      Universidad 169   \n",
       "12                         Vips                                    ?   \n",
       "21            Cafeteria Cenidet        Interior Internado Palmira Sn   \n",
       "24  Mcdonalds Parque Tangamanga  Lateral Salvador Nava Martinez 3145   \n",
       "\n",
       "               city            state country fax    zip     alcohol  \\\n",
       "0              None             None  Mexico   ?      ?  Wine/ Beer   \n",
       "3   San Luis Potosi  San Luis Potosi  Mexico   ?  78000  Wine/ Beer   \n",
       "12  San Luis Potosi  San Luis Potosi  Mexico   ?      ?    Full Bar   \n",
       "21       Cuernavaca          Morelos  Mexico   ?      ?  No Alcohol   \n",
       "24  San Luis Potosi  San Luis Potosi  Mexico   ?  78290  No Alcohol   \n",
       "\n",
       "     smoking_area dress_code     accessibility   price                 url  \\\n",
       "0   Not Permitted   Informal  No Accessibility  Medium                   ?   \n",
       "3     Only At Bar   Informal         Partially  Medium                   ?   \n",
       "12  Not Permitted   Informal        Completely  Medium                   ?   \n",
       "21  Not Permitted   Informal  No Accessibility     Low  Www.Cenidet.Edu.Mx   \n",
       "24  Not Permitted   Informal  No Accessibility  Medium                   ?   \n",
       "\n",
       "   Rambience franchise    area other_services   Rcuisine parking_lot  \\\n",
       "0      Quiet         F  Closed       Internet    Italian        None   \n",
       "3   Familiar         F    Open           None    Mexican        None   \n",
       "12  Familiar         T  Closed        Variety    Mexican         Yes   \n",
       "21     Quiet         F  Closed           None  Cafeteria      Public   \n",
       "24  Familiar         T  Closed           None    Burgers         Yes   \n",
       "\n",
       "               Rpayment         hours                  days  \n",
       "0                  Cash  08:00-21:00;  Mon;Tue;Wed;Thu;Fri;  \n",
       "3   Mastercard-Eurocard  18:00-23:30;  Mon;Tue;Wed;Thu;Fri;  \n",
       "12  Mastercard-Eurocard  00:00-23:30;  Mon;Tue;Wed;Thu;Fri;  \n",
       "21                 Cash  09:00-16:00;  Mon;Tue;Wed;Thu;Fri;  \n",
       "24  Mastercard-Eurocard  08:00-23:00;  Mon;Tue;Wed;Thu;Fri;  "
      ]
     },
     "execution_count": 1316,
     "metadata": {},
     "output_type": "execute_result"
    }
   ],
   "source": [
    "df_location.head()"
   ]
  },
  {
   "cell_type": "code",
   "execution_count": 1317,
   "metadata": {},
   "outputs": [
    {
     "data": {
      "text/html": [
       "<div>\n",
       "<style scoped>\n",
       "    .dataframe tbody tr th:only-of-type {\n",
       "        vertical-align: middle;\n",
       "    }\n",
       "\n",
       "    .dataframe tbody tr th {\n",
       "        vertical-align: top;\n",
       "    }\n",
       "\n",
       "    .dataframe thead th {\n",
       "        text-align: right;\n",
       "    }\n",
       "</style>\n",
       "<table border=\"1\" class=\"dataframe\">\n",
       "  <thead>\n",
       "    <tr style=\"text-align: right;\">\n",
       "      <th></th>\n",
       "      <th>placeID</th>\n",
       "      <th>latitude</th>\n",
       "      <th>longitude</th>\n",
       "      <th>the_geom_meter</th>\n",
       "      <th>name</th>\n",
       "      <th>address</th>\n",
       "      <th>city</th>\n",
       "      <th>state</th>\n",
       "      <th>country</th>\n",
       "      <th>fax</th>\n",
       "      <th>zip</th>\n",
       "      <th>alcohol</th>\n",
       "      <th>smoking_area</th>\n",
       "      <th>dress_code</th>\n",
       "      <th>accessibility</th>\n",
       "      <th>price</th>\n",
       "      <th>url</th>\n",
       "      <th>Rambience</th>\n",
       "      <th>franchise</th>\n",
       "      <th>area</th>\n",
       "      <th>other_services</th>\n",
       "      <th>Rcuisine</th>\n",
       "      <th>parking_lot</th>\n",
       "      <th>Rpayment</th>\n",
       "      <th>hours</th>\n",
       "      <th>days</th>\n",
       "    </tr>\n",
       "  </thead>\n",
       "  <tbody>\n",
       "    <tr>\n",
       "      <th>0</th>\n",
       "      <td>135109</td>\n",
       "      <td>18.9217848</td>\n",
       "      <td>-99.2353499</td>\n",
       "      <td>0101000020957F0000A6Bf695F136F5Ac1Dadf87B20556...</td>\n",
       "      <td>Paniroles</td>\n",
       "      <td>?</td>\n",
       "      <td>None</td>\n",
       "      <td>None</td>\n",
       "      <td>Mexico</td>\n",
       "      <td>?</td>\n",
       "      <td>?</td>\n",
       "      <td>Wine/ Beer</td>\n",
       "      <td>Not Permitted</td>\n",
       "      <td>Informal</td>\n",
       "      <td>No Accessibility</td>\n",
       "      <td>Medium</td>\n",
       "      <td>?</td>\n",
       "      <td>Quiet</td>\n",
       "      <td>F</td>\n",
       "      <td>Closed</td>\n",
       "      <td>Internet</td>\n",
       "      <td>Italian</td>\n",
       "      <td>None</td>\n",
       "      <td>Cash</td>\n",
       "      <td>08:00-21:00;</td>\n",
       "      <td>Mon;Tue;Wed;Thu;Fri;</td>\n",
       "    </tr>\n",
       "    <tr>\n",
       "      <th>3</th>\n",
       "      <td>135106</td>\n",
       "      <td>22.1497088</td>\n",
       "      <td>-100.9760928</td>\n",
       "      <td>0101000020957F0000649D6F21634858C119Ae9Bf528A3...</td>\n",
       "      <td>El Rinc�N De San Francisco</td>\n",
       "      <td>Universidad 169</td>\n",
       "      <td>San Luis Potosi</td>\n",
       "      <td>San Luis Potosi</td>\n",
       "      <td>Mexico</td>\n",
       "      <td>?</td>\n",
       "      <td>78000</td>\n",
       "      <td>Wine/ Beer</td>\n",
       "      <td>Only At Bar</td>\n",
       "      <td>Informal</td>\n",
       "      <td>Partially</td>\n",
       "      <td>Medium</td>\n",
       "      <td>?</td>\n",
       "      <td>Familiar</td>\n",
       "      <td>F</td>\n",
       "      <td>Open</td>\n",
       "      <td>None</td>\n",
       "      <td>Mexican</td>\n",
       "      <td>None</td>\n",
       "      <td>Mastercard-Eurocard</td>\n",
       "      <td>18:00-23:30;</td>\n",
       "      <td>Mon;Tue;Wed;Thu;Fri;</td>\n",
       "    </tr>\n",
       "    <tr>\n",
       "      <th>12</th>\n",
       "      <td>135104</td>\n",
       "      <td>23.7529821</td>\n",
       "      <td>-99.1684341</td>\n",
       "      <td>0101000020957F00007Cdf5Eafc58157C1645743B23E4F...</td>\n",
       "      <td>Vips</td>\n",
       "      <td>?</td>\n",
       "      <td>San Luis Potosi</td>\n",
       "      <td>San Luis Potosi</td>\n",
       "      <td>Mexico</td>\n",
       "      <td>?</td>\n",
       "      <td>?</td>\n",
       "      <td>Full Bar</td>\n",
       "      <td>Not Permitted</td>\n",
       "      <td>Informal</td>\n",
       "      <td>Completely</td>\n",
       "      <td>Medium</td>\n",
       "      <td>?</td>\n",
       "      <td>Familiar</td>\n",
       "      <td>T</td>\n",
       "      <td>Closed</td>\n",
       "      <td>Variety</td>\n",
       "      <td>Mexican</td>\n",
       "      <td>Yes</td>\n",
       "      <td>Mastercard-Eurocard</td>\n",
       "      <td>00:00-23:30;</td>\n",
       "      <td>Mon;Tue;Wed;Thu;Fri;</td>\n",
       "    </tr>\n",
       "    <tr>\n",
       "      <th>21</th>\n",
       "      <td>135088</td>\n",
       "      <td>18.8760113</td>\n",
       "      <td>-99.2198896</td>\n",
       "      <td>0101000020957F0000E14Ad4Dbc7765Ac1F7B33C85B153...</td>\n",
       "      <td>Cafeteria Cenidet</td>\n",
       "      <td>Interior Internado Palmira Sn</td>\n",
       "      <td>Cuernavaca</td>\n",
       "      <td>Morelos</td>\n",
       "      <td>Mexico</td>\n",
       "      <td>?</td>\n",
       "      <td>?</td>\n",
       "      <td>No Alcohol</td>\n",
       "      <td>Not Permitted</td>\n",
       "      <td>Informal</td>\n",
       "      <td>No Accessibility</td>\n",
       "      <td>Low</td>\n",
       "      <td>Www.Cenidet.Edu.Mx</td>\n",
       "      <td>Quiet</td>\n",
       "      <td>F</td>\n",
       "      <td>Closed</td>\n",
       "      <td>None</td>\n",
       "      <td>Cafeteria</td>\n",
       "      <td>Public</td>\n",
       "      <td>Cash</td>\n",
       "      <td>09:00-16:00;</td>\n",
       "      <td>Mon;Tue;Wed;Thu;Fri;</td>\n",
       "    </tr>\n",
       "    <tr>\n",
       "      <th>24</th>\n",
       "      <td>135086</td>\n",
       "      <td>22.141421</td>\n",
       "      <td>-101.013955</td>\n",
       "      <td>0101000020957F0000Fa1A0E5A9B4858C17C884C4173Ae...</td>\n",
       "      <td>Mcdonalds Parque Tangamanga</td>\n",
       "      <td>Lateral Salvador Nava Martinez 3145</td>\n",
       "      <td>San Luis Potosi</td>\n",
       "      <td>San Luis Potosi</td>\n",
       "      <td>Mexico</td>\n",
       "      <td>?</td>\n",
       "      <td>78290</td>\n",
       "      <td>No Alcohol</td>\n",
       "      <td>Not Permitted</td>\n",
       "      <td>Informal</td>\n",
       "      <td>No Accessibility</td>\n",
       "      <td>Medium</td>\n",
       "      <td>?</td>\n",
       "      <td>Familiar</td>\n",
       "      <td>T</td>\n",
       "      <td>Closed</td>\n",
       "      <td>None</td>\n",
       "      <td>Burgers</td>\n",
       "      <td>Yes</td>\n",
       "      <td>Mastercard-Eurocard</td>\n",
       "      <td>08:00-23:00;</td>\n",
       "      <td>Mon;Tue;Wed;Thu;Fri;</td>\n",
       "    </tr>\n",
       "  </tbody>\n",
       "</table>\n",
       "</div>"
      ],
      "text/plain": [
       "   placeID    latitude     longitude  \\\n",
       "0   135109  18.9217848   -99.2353499   \n",
       "3   135106  22.1497088  -100.9760928   \n",
       "12  135104  23.7529821   -99.1684341   \n",
       "21  135088  18.8760113   -99.2198896   \n",
       "24  135086   22.141421   -101.013955   \n",
       "\n",
       "                                       the_geom_meter  \\\n",
       "0   0101000020957F0000A6Bf695F136F5Ac1Dadf87B20556...   \n",
       "3   0101000020957F0000649D6F21634858C119Ae9Bf528A3...   \n",
       "12  0101000020957F00007Cdf5Eafc58157C1645743B23E4F...   \n",
       "21  0101000020957F0000E14Ad4Dbc7765Ac1F7B33C85B153...   \n",
       "24  0101000020957F0000Fa1A0E5A9B4858C17C884C4173Ae...   \n",
       "\n",
       "                           name                              address  \\\n",
       "0                     Paniroles                                    ?   \n",
       "3    El Rinc�N De San Francisco                      Universidad 169   \n",
       "12                         Vips                                    ?   \n",
       "21            Cafeteria Cenidet        Interior Internado Palmira Sn   \n",
       "24  Mcdonalds Parque Tangamanga  Lateral Salvador Nava Martinez 3145   \n",
       "\n",
       "               city            state country fax    zip     alcohol  \\\n",
       "0              None             None  Mexico   ?      ?  Wine/ Beer   \n",
       "3   San Luis Potosi  San Luis Potosi  Mexico   ?  78000  Wine/ Beer   \n",
       "12  San Luis Potosi  San Luis Potosi  Mexico   ?      ?    Full Bar   \n",
       "21       Cuernavaca          Morelos  Mexico   ?      ?  No Alcohol   \n",
       "24  San Luis Potosi  San Luis Potosi  Mexico   ?  78290  No Alcohol   \n",
       "\n",
       "     smoking_area dress_code     accessibility   price                 url  \\\n",
       "0   Not Permitted   Informal  No Accessibility  Medium                   ?   \n",
       "3     Only At Bar   Informal         Partially  Medium                   ?   \n",
       "12  Not Permitted   Informal        Completely  Medium                   ?   \n",
       "21  Not Permitted   Informal  No Accessibility     Low  Www.Cenidet.Edu.Mx   \n",
       "24  Not Permitted   Informal  No Accessibility  Medium                   ?   \n",
       "\n",
       "   Rambience franchise    area other_services   Rcuisine parking_lot  \\\n",
       "0      Quiet         F  Closed       Internet    Italian        None   \n",
       "3   Familiar         F    Open           None    Mexican        None   \n",
       "12  Familiar         T  Closed        Variety    Mexican         Yes   \n",
       "21     Quiet         F  Closed           None  Cafeteria      Public   \n",
       "24  Familiar         T  Closed           None    Burgers         Yes   \n",
       "\n",
       "               Rpayment         hours                  days  \n",
       "0                  Cash  08:00-21:00;  Mon;Tue;Wed;Thu;Fri;  \n",
       "3   Mastercard-Eurocard  18:00-23:30;  Mon;Tue;Wed;Thu;Fri;  \n",
       "12  Mastercard-Eurocard  00:00-23:30;  Mon;Tue;Wed;Thu;Fri;  \n",
       "21                 Cash  09:00-16:00;  Mon;Tue;Wed;Thu;Fri;  \n",
       "24  Mastercard-Eurocard  08:00-23:00;  Mon;Tue;Wed;Thu;Fri;  "
      ]
     },
     "execution_count": 1317,
     "metadata": {},
     "output_type": "execute_result"
    }
   ],
   "source": [
    "df_location.head()"
   ]
  },
  {
   "cell_type": "markdown",
   "metadata": {},
   "source": [
    "## <h1 style=\"text-align: left; color: #FFB347; font-family: 'Bahnschrift', sans-serif; font-size: 1.5em;\">Rcuisine</h1>\n"
   ]
  },
  {
   "cell_type": "code",
   "execution_count": 1318,
   "metadata": {},
   "outputs": [
    {
     "data": {
      "text/plain": [
       "Rcuisine\n",
       "Mexican             22\n",
       "Bar                 11\n",
       "Fast Food            6\n",
       "Cafeteria            6\n",
       "Seafood              5\n",
       "Burgers              4\n",
       "Italian              4\n",
       "American             4\n",
       "Japanese             4\n",
       "Pizzeria             3\n",
       "Chinese              3\n",
       "International        3\n",
       "Family               2\n",
       "Cafe-Coffee Shop     1\n",
       "Contemporary         1\n",
       "Breakfast-Brunch     1\n",
       "Bar Pub Brewery      1\n",
       "Bakery               1\n",
       "Vietnamese           1\n",
       "Armenian             1\n",
       "Regional             1\n",
       "Name: count, dtype: int64"
      ]
     },
     "execution_count": 1318,
     "metadata": {},
     "output_type": "execute_result"
    }
   ],
   "source": [
    "df_location.Rcuisine.value_counts()"
   ]
  },
  {
   "cell_type": "markdown",
   "metadata": {},
   "source": [
    "## <h1 style=\"text-align: left; color: #FFB347; font-family: 'Bahnschrift', sans-serif; font-size: 1.5em;\">Parking lot</h1>\n"
   ]
  },
  {
   "cell_type": "code",
   "execution_count": 1319,
   "metadata": {},
   "outputs": [
    {
     "data": {
      "text/plain": [
       "parking_lot\n",
       "None             35\n",
       "Yes              32\n",
       "Public           16\n",
       "Valet Parking     2\n",
       "Name: count, dtype: int64"
      ]
     },
     "execution_count": 1319,
     "metadata": {},
     "output_type": "execute_result"
    }
   ],
   "source": [
    "df_location.parking_lot.value_counts()"
   ]
  },
  {
   "cell_type": "markdown",
   "metadata": {},
   "source": [
    "## <h1 style=\"text-align: left; color: #FFB347; font-family: 'Bahnschrift', sans-serif; font-size: 1.5em;\">Rpayment</h1>\n"
   ]
  },
  {
   "cell_type": "code",
   "execution_count": 1320,
   "metadata": {},
   "outputs": [
    {
     "data": {
      "text/plain": [
       "Rpayment\n",
       "Cash                   46\n",
       "American Express       14\n",
       "Mastercard-Eurocard    11\n",
       "Bank Debit Cards       11\n",
       "Visa                    2\n",
       "Carte Blanche           1\n",
       "Name: count, dtype: int64"
      ]
     },
     "execution_count": 1320,
     "metadata": {},
     "output_type": "execute_result"
    }
   ],
   "source": [
    "df_location.Rpayment.value_counts()"
   ]
  },
  {
   "cell_type": "markdown",
   "metadata": {},
   "source": [
    "# <h1 style=\"text-align: left; color: #FFB347; font-family: 'Bahnschrift Condensed', sans-serif; font-size: 2.5em;\">Exploratory Análisis\n",
    "</h1>\n"
   ]
  },
  {
   "cell_type": "markdown",
   "metadata": {},
   "source": [
    "## <h1 style=\"text-align: left; color: #FFB347; font-family: 'Bahnschrift', sans-serif; font-size: 1.5em;\">Type of food</h1>\n"
   ]
  },
  {
   "cell_type": "code",
   "execution_count": 1321,
   "metadata": {},
   "outputs": [
    {
     "data": {
      "text/plain": [
       "' percentages = df_location[\\'Rcuisine\\'].value_counts(normalize=True)\\ncategories_to_replace = percentages[percentages < 0.03].index\\ndf_location[\\'Rcuisine\\'] = df_location[\\'Rcuisine\\'].replace(categories_to_replace, \\'Others\\')\\nfreq_rcuisine_replaced = df_location.Rcuisine.value_counts().sort_values(ascending=False)\\nfreq_rcuisine_replaced\\n\\nfreq_rcuisine=df_location[\"Rcuisine\"].value_counts()\\nfreq_rcuisine.plot.pie(autopct=\\'%1.0f%%\\' ,startangle=90)\\nplt.show() '"
      ]
     },
     "execution_count": 1321,
     "metadata": {},
     "output_type": "execute_result"
    }
   ],
   "source": [
    "## We deactivate this cell when we want to run the code  \n",
    "## to create `df_location_filter` and `df_location_filter_collapsed`,  \n",
    "## to avoid reducing the variety of cuisine types in the filter.  \n",
    "## However, we deactivate it for `df_location` as it is intended  \n",
    "## for visualization, and to make it more user-friendly,  \n",
    "## we group the less represented categories under \"Others\".  \n",
    "\n",
    "\"\"\" percentages = df_location['Rcuisine'].value_counts(normalize=True)\n",
    "categories_to_replace = percentages[percentages < 0.03].index\n",
    "df_location['Rcuisine'] = df_location['Rcuisine'].replace(categories_to_replace, 'Others')\n",
    "freq_rcuisine_replaced = df_location.Rcuisine.value_counts().sort_values(ascending=False)\n",
    "freq_rcuisine_replaced\n",
    "\n",
    "freq_rcuisine=df_location[\"Rcuisine\"].value_counts()\n",
    "freq_rcuisine.plot.pie(autopct='%1.0f%%' ,startangle=90)\n",
    "plt.show() \"\"\"\n"
   ]
  },
  {
   "cell_type": "code",
   "execution_count": null,
   "metadata": {},
   "outputs": [],
   "source": []
  },
  {
   "cell_type": "markdown",
   "metadata": {},
   "source": [
    "# <h1 style=\"text-align: left; color: #FFB347; font-family: 'Bahnschrift Condensed', sans-serif; font-size: 2.5em;\">Exporting the datasets\n",
    "</h1>\n"
   ]
  },
  {
   "cell_type": "code",
   "execution_count": 1322,
   "metadata": {},
   "outputs": [],
   "source": [
    "## df_location.to_csv(\"../data/df_location.csv\",index=False)"
   ]
  },
  {
   "cell_type": "markdown",
   "metadata": {},
   "source": [
    "## <h1 style=\"text-align: left; color: #FFB347; font-family: 'Bahnschrift', sans-serif; font-size: 1.5em;\">Renaming and dropping columns for Dataframe filter oriented</h1>\n"
   ]
  },
  {
   "cell_type": "code",
   "execution_count": 1323,
   "metadata": {},
   "outputs": [],
   "source": [
    "rename_dict = {\n",
    "    \"placeID\": \"Place ID\",\n",
    "    \"latitude\": \"R Latitude\",\n",
    "    \"longitude\": \"R Longitude\",\n",
    "    \"the_geom_meter\": \"Geometrical Meter\",\n",
    "    \"name\": \"Restaurant Name\",\n",
    "    \"address\": \"Address\",\n",
    "    \"city\": \"City\",\n",
    "    \"state\": \"State\",\n",
    "    \"country\": \"Country\",\n",
    "    \"fax\": \"Fax\",\n",
    "    \"zip\": \"ZIP Code\",\n",
    "    \"alcohol\": \"Alcohol Availability\",\n",
    "    \"smoking_area\": \"Smoking Area\",\n",
    "    \"dress_code\": \"Dress Code\",\n",
    "    \"accessibility\": \"Accessibility\",\n",
    "    \"price\": \"Price Range\",\n",
    "    \"url\": \"Website\",\n",
    "    \"Rambience\": \"Ambience\",\n",
    "    \"franchise\": \"Franchise\",\n",
    "    \"area\": \"Area\",\n",
    "    \"other_services\": \"Other Services\",\n",
    "    \"Rcuisine\": \"Cuisine Type\",\n",
    "    \"parking_lot\": \"Parking Availability\",\n",
    "    \"Rpayment\": \"Payment Methods\",\n",
    "    \"hours\": \"Opening Hours\",\n",
    "    \"days\": \"Operating Days\"\n",
    "}\n",
    "\n",
    "# Renombrar las columnas del DataFrame\n",
    "df_location = df_location.rename(columns=rename_dict)\n"
   ]
  },
  {
   "cell_type": "code",
   "execution_count": 1324,
   "metadata": {},
   "outputs": [],
   "source": [
    "df_location=df_location.drop(columns=[\"Geometrical Meter\",\"Fax\",\"Website\",\"Franchise\"])"
   ]
  },
  {
   "cell_type": "code",
   "execution_count": 1325,
   "metadata": {},
   "outputs": [],
   "source": [
    "## This cell will just be activated in case we haven't\n",
    "## dropped the duplicates \n",
    "## df_location.to_csv(\"../data/df_location_filter.csv\",index=False)"
   ]
  },
  {
   "cell_type": "code",
   "execution_count": null,
   "metadata": {},
   "outputs": [],
   "source": [
    "## This cell will just be activated in case we have dropped\n",
    "## the duplicates at the beginning of the notebook.\n",
    "## df_location.to_csv(\"../data/df_location_filter_collapsed.csv\",index=False)"
   ]
  }
 ],
 "metadata": {
  "kernelspec": {
   "display_name": "Python 3",
   "language": "python",
   "name": "python3"
  },
  "language_info": {
   "codemirror_mode": {
    "name": "ipython",
    "version": 3
   },
   "file_extension": ".py",
   "mimetype": "text/x-python",
   "name": "python",
   "nbconvert_exporter": "python",
   "pygments_lexer": "ipython3",
   "version": "3.11.9"
  }
 },
 "nbformat": 4,
 "nbformat_minor": 2
}
