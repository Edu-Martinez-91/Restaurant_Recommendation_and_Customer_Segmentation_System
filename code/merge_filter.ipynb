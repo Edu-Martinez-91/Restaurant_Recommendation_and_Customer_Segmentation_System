{
 "cells": [
  {
   "cell_type": "code",
   "execution_count": null,
   "metadata": {},
   "outputs": [],
   "source": []
  },
  {
   "cell_type": "markdown",
   "metadata": {},
   "source": [
    "# <h1 style=\"text-align: left; color: #FFB347; font-family: 'Bahnschrift Condensed', sans-serif; font-size: 2.5em;\">Connecting to MySQL Workbench\n",
    "</h1>\n"
   ]
  },
  {
   "cell_type": "code",
   "execution_count": 257,
   "metadata": {},
   "outputs": [],
   "source": [
    "# 📚 Basic libraries\n",
    "import pandas as pd # data manipulation\n",
    "import numpy as np # numerical operations\n",
    "import warnings # warning messages management\n",
    "import matplotlib.pyplot as plt # plotting\n",
    "import seaborn as sns # plotting\n",
    "colors = ['#FF7F7F', '#FFF9C4', '#A5D6A7', '#81D4FA', '#F1F1F1']\n",
    "\n",
    "# 📊 Statistical libraries\n",
    "from scipy.stats import chi2_contingency # 🧮 Chi-squared test for independence\n",
    "from scipy.stats.contingency import association # 📈 Measures association strength between categorical variables\n",
    "import scipy.stats as st # ⚙️ General statistical functions\n",
    "import statsmodels.api as sm # 📐 Advanced statistical models and testing\n",
    "import statsmodels.formula.api as smf # 📝 Formula-based interface for statistical models\n",
    "\n",
    "# Set the color palette for all plots by default\n",
    "plt.rcParams['axes.prop_cycle'] = plt.cycler(color=colors)\n",
    "# ⚙️ Settings\n",
    "pd.set_option('display.max_columns', None) # display all columns\n",
    "warnings.filterwarnings('ignore') # ignore warnings\n",
    "\n",
    "# 🌐 New Libraries\n",
    "from getpass import getpass # get password without showing it\n",
    "import pymysql # MySQL connection\n",
    "import requests # HTTP requests\n",
    "import time # time operations\n",
    "\n",
    "# ⚙️ Settings\n",
    "pd.set_option('display.max_columns', None) # display all columns\n",
    "warnings.filterwarnings('ignore') # ignore warnings\n",
    "\n",
    "def create_connection(): # create a connection to a MySQL database\n",
    "    \"\"\"\n",
    "    Create a connection to a MySQL database.\n",
    "    Prompts the user for the database password and database name.\n",
    "    \n",
    "    Returns:\n",
    "        cnx: pymysql.connections.Connection object\n",
    "            The connection object to the MySQL database.\n",
    "    \"\"\"\n",
    "    password = getpass(\"Please, kindly insert your password: \")\n",
    "    database = input(\"Please, kindly insert your database name: \")\n",
    "    cnx = pymysql.connect(user='root', password=password,\n",
    "                          host='localhost', database=database)\n",
    "    if cnx.open:\n",
    "        print(\"Connection open\")\n",
    "    else:\n",
    "        print(\"Connection is not successfully open\")\n",
    "    return cnx"
   ]
  },
  {
   "cell_type": "code",
   "execution_count": 258,
   "metadata": {},
   "outputs": [
    {
     "name": "stdout",
     "output_type": "stream",
     "text": [
      "Connection open\n"
     ]
    }
   ],
   "source": [
    "# We enter the password and the database \n",
    "connection = create_connection()"
   ]
  },
  {
   "cell_type": "code",
   "execution_count": 259,
   "metadata": {},
   "outputs": [],
   "source": [
    "df_user_filter=pd.read_csv(\"../data/df_user_filter.csv\")\n",
    "df_user_filter_collapsed=pd.read_csv(\"../data/df_user_filter_collapsed.csv\")\n",
    "df_location_filter=pd.read_csv(\"../data/df_location_filter.csv\")\n",
    "df_location_filter_collapsed=pd.read_csv(\"../data/df_location_filter_collapsed.csv\")\n",
    "query=\"SELECT * FROM rating;\"\n",
    "df_rating=pd.read_sql(query,connection)"
   ]
  },
  {
   "cell_type": "markdown",
   "metadata": {},
   "source": [
    "# <h1 style=\"text-align: left; color: #FFB347; font-family: 'Bahnschrift Condensed', sans-serif; font-size: 2.5em;\">Formating Rating Dataframe prior to merge\n",
    "</h1>\n"
   ]
  },
  {
   "cell_type": "code",
   "execution_count": 260,
   "metadata": {},
   "outputs": [
    {
     "data": {
      "text/html": [
       "<div>\n",
       "<style scoped>\n",
       "    .dataframe tbody tr th:only-of-type {\n",
       "        vertical-align: middle;\n",
       "    }\n",
       "\n",
       "    .dataframe tbody tr th {\n",
       "        vertical-align: top;\n",
       "    }\n",
       "\n",
       "    .dataframe thead th {\n",
       "        text-align: right;\n",
       "    }\n",
       "</style>\n",
       "<table border=\"1\" class=\"dataframe\">\n",
       "  <thead>\n",
       "    <tr style=\"text-align: right;\">\n",
       "      <th></th>\n",
       "      <th>Place ID</th>\n",
       "      <th>R Latitude</th>\n",
       "      <th>R Longitude</th>\n",
       "      <th>Restaurant Name</th>\n",
       "      <th>Address</th>\n",
       "      <th>City</th>\n",
       "      <th>State</th>\n",
       "      <th>Country</th>\n",
       "      <th>ZIP Code</th>\n",
       "      <th>Alcohol Availability</th>\n",
       "      <th>Smoking Area</th>\n",
       "      <th>Dress Code</th>\n",
       "      <th>Accessibility</th>\n",
       "      <th>Price Range</th>\n",
       "      <th>Ambience</th>\n",
       "      <th>Area</th>\n",
       "      <th>Other Services</th>\n",
       "      <th>Cuisine Type</th>\n",
       "      <th>Parking Availability</th>\n",
       "      <th>Payment Methods</th>\n",
       "      <th>Opening Hours</th>\n",
       "      <th>Operating Days</th>\n",
       "    </tr>\n",
       "  </thead>\n",
       "  <tbody>\n",
       "    <tr>\n",
       "      <th>0</th>\n",
       "      <td>135109</td>\n",
       "      <td>18.921785</td>\n",
       "      <td>-99.23535</td>\n",
       "      <td>Paniroles</td>\n",
       "      <td>?</td>\n",
       "      <td>NaN</td>\n",
       "      <td>NaN</td>\n",
       "      <td>Mexico</td>\n",
       "      <td>?</td>\n",
       "      <td>Wine/ Beer</td>\n",
       "      <td>Not Permitted</td>\n",
       "      <td>Informal</td>\n",
       "      <td>No Accessibility</td>\n",
       "      <td>Medium</td>\n",
       "      <td>Quiet</td>\n",
       "      <td>Closed</td>\n",
       "      <td>Internet</td>\n",
       "      <td>Italian</td>\n",
       "      <td>NaN</td>\n",
       "      <td>Cash</td>\n",
       "      <td>08:00-21:00;</td>\n",
       "      <td>Mon;Tue;Wed;Thu;Fri;</td>\n",
       "    </tr>\n",
       "  </tbody>\n",
       "</table>\n",
       "</div>"
      ],
      "text/plain": [
       "   Place ID  R Latitude  R Longitude Restaurant Name Address City State  \\\n",
       "0    135109   18.921785    -99.23535       Paniroles       ?  NaN   NaN   \n",
       "\n",
       "  Country ZIP Code Alcohol Availability   Smoking Area Dress Code  \\\n",
       "0  Mexico        ?           Wine/ Beer  Not Permitted   Informal   \n",
       "\n",
       "      Accessibility Price Range Ambience    Area Other Services Cuisine Type  \\\n",
       "0  No Accessibility      Medium    Quiet  Closed       Internet      Italian   \n",
       "\n",
       "  Parking Availability Payment Methods Opening Hours        Operating Days  \n",
       "0                  NaN            Cash  08:00-21:00;  Mon;Tue;Wed;Thu;Fri;  "
      ]
     },
     "execution_count": 260,
     "metadata": {},
     "output_type": "execute_result"
    }
   ],
   "source": [
    "df_location_filter.head(1)"
   ]
  },
  {
   "cell_type": "code",
   "execution_count": 261,
   "metadata": {},
   "outputs": [
    {
     "data": {
      "text/html": [
       "<div>\n",
       "<style scoped>\n",
       "    .dataframe tbody tr th:only-of-type {\n",
       "        vertical-align: middle;\n",
       "    }\n",
       "\n",
       "    .dataframe tbody tr th {\n",
       "        vertical-align: top;\n",
       "    }\n",
       "\n",
       "    .dataframe thead th {\n",
       "        text-align: right;\n",
       "    }\n",
       "</style>\n",
       "<table border=\"1\" class=\"dataframe\">\n",
       "  <thead>\n",
       "    <tr style=\"text-align: right;\">\n",
       "      <th></th>\n",
       "      <th>User ID</th>\n",
       "      <th>Latitude</th>\n",
       "      <th>Longitude</th>\n",
       "      <th>Smoking Habit</th>\n",
       "      <th>Drinking Habit</th>\n",
       "      <th>Dress Preference</th>\n",
       "      <th>Preferred Ambience</th>\n",
       "      <th>Transport Mode</th>\n",
       "      <th>Marital Status</th>\n",
       "      <th>People Under Charge</th>\n",
       "      <th>Birth Year</th>\n",
       "      <th>Interest</th>\n",
       "      <th>Personality</th>\n",
       "      <th>Religion</th>\n",
       "      <th>Activity Level</th>\n",
       "      <th>Favorite Color</th>\n",
       "      <th>Weight (kg)</th>\n",
       "      <th>Budget</th>\n",
       "      <th>Height (cm)</th>\n",
       "      <th>Preferred Payment Method</th>\n",
       "      <th>User Preference</th>\n",
       "    </tr>\n",
       "  </thead>\n",
       "  <tbody>\n",
       "    <tr>\n",
       "      <th>0</th>\n",
       "      <td>U1001</td>\n",
       "      <td>22.139997</td>\n",
       "      <td>-100.978803</td>\n",
       "      <td>False</td>\n",
       "      <td>Abstemious</td>\n",
       "      <td>Informal</td>\n",
       "      <td>Family</td>\n",
       "      <td>On foot</td>\n",
       "      <td>Single</td>\n",
       "      <td>Independent</td>\n",
       "      <td>1989</td>\n",
       "      <td>Variety</td>\n",
       "      <td>Thrifty protector</td>\n",
       "      <td>Atheist</td>\n",
       "      <td>Student</td>\n",
       "      <td>Black</td>\n",
       "      <td>69</td>\n",
       "      <td>Medium</td>\n",
       "      <td>1.77</td>\n",
       "      <td>Cash</td>\n",
       "      <td>American</td>\n",
       "    </tr>\n",
       "  </tbody>\n",
       "</table>\n",
       "</div>"
      ],
      "text/plain": [
       "  User ID   Latitude   Longitude  Smoking Habit Drinking Habit  \\\n",
       "0   U1001  22.139997 -100.978803          False     Abstemious   \n",
       "\n",
       "  Dress Preference Preferred Ambience Transport Mode Marital Status  \\\n",
       "0         Informal             Family        On foot         Single   \n",
       "\n",
       "  People Under Charge  Birth Year Interest        Personality Religion  \\\n",
       "0         Independent        1989  Variety  Thrifty protector  Atheist   \n",
       "\n",
       "  Activity Level Favorite Color  Weight (kg)  Budget  Height (cm)  \\\n",
       "0        Student          Black           69  Medium         1.77   \n",
       "\n",
       "  Preferred Payment Method User Preference  \n",
       "0                     Cash        American  "
      ]
     },
     "execution_count": 261,
     "metadata": {},
     "output_type": "execute_result"
    }
   ],
   "source": [
    "df_user_filter.head(1)"
   ]
  },
  {
   "cell_type": "code",
   "execution_count": 262,
   "metadata": {},
   "outputs": [
    {
     "data": {
      "text/html": [
       "<div>\n",
       "<style scoped>\n",
       "    .dataframe tbody tr th:only-of-type {\n",
       "        vertical-align: middle;\n",
       "    }\n",
       "\n",
       "    .dataframe tbody tr th {\n",
       "        vertical-align: top;\n",
       "    }\n",
       "\n",
       "    .dataframe thead th {\n",
       "        text-align: right;\n",
       "    }\n",
       "</style>\n",
       "<table border=\"1\" class=\"dataframe\">\n",
       "  <thead>\n",
       "    <tr style=\"text-align: right;\">\n",
       "      <th></th>\n",
       "      <th>userID</th>\n",
       "      <th>placeID</th>\n",
       "      <th>rating</th>\n",
       "      <th>food_rating</th>\n",
       "      <th>service_rating</th>\n",
       "    </tr>\n",
       "  </thead>\n",
       "  <tbody>\n",
       "    <tr>\n",
       "      <th>0</th>\n",
       "      <td>U1077</td>\n",
       "      <td>135085</td>\n",
       "      <td>2</td>\n",
       "      <td>2</td>\n",
       "      <td>2</td>\n",
       "    </tr>\n",
       "  </tbody>\n",
       "</table>\n",
       "</div>"
      ],
      "text/plain": [
       "  userID  placeID  rating  food_rating  service_rating\n",
       "0  U1077   135085       2            2               2"
      ]
     },
     "execution_count": 262,
     "metadata": {},
     "output_type": "execute_result"
    }
   ],
   "source": [
    "df_rating.head(1)"
   ]
  },
  {
   "cell_type": "code",
   "execution_count": 263,
   "metadata": {},
   "outputs": [],
   "source": [
    "rename_columns = {\n",
    "    \"userID\": \"User ID\",\n",
    "    \"placeID\": \"Place ID\",\n",
    "    \"rating\": \"Rating\",\n",
    "    \"food_rating\": \"Food Rating\",\n",
    "    \"service_rating\": \"Service Rating\"\n",
    "}\n",
    "\n",
    "\n",
    "df_rating.rename(columns=rename_columns, inplace=True)"
   ]
  },
  {
   "cell_type": "markdown",
   "metadata": {},
   "source": [
    "# <h1 style=\"text-align: left; color: #FFB347; font-family: 'Bahnschrift Condensed', sans-serif; font-size: 2.5em;\">NaN Handling\n",
    "</h1>\n"
   ]
  },
  {
   "cell_type": "code",
   "execution_count": 264,
   "metadata": {},
   "outputs": [],
   "source": [
    "df_user_filter[\"Interest\"]=df_user_filter[\"Interest\"].fillna(method=\"ffill\")"
   ]
  },
  {
   "cell_type": "code",
   "execution_count": 265,
   "metadata": {},
   "outputs": [],
   "source": [
    "df_user_filter_collapsed[\"Interest\"]=df_user_filter_collapsed[\"Interest\"].fillna(method=\"ffill\")"
   ]
  },
  {
   "cell_type": "code",
   "execution_count": 266,
   "metadata": {},
   "outputs": [],
   "source": [
    "df_location_filter_collapsed[\"City\"]=df_location_filter_collapsed[\"City\"].fillna(method=\"ffill\")\n",
    "df_location_filter_collapsed[\"City\"]=df_location_filter_collapsed[\"City\"].fillna(method=\"bfill\")\n",
    "df_location_filter_collapsed[\"State\"]=df_location_filter_collapsed[\"State\"].fillna(method=\"ffill\")\n",
    "df_location_filter_collapsed[\"State\"]=df_location_filter_collapsed[\"State\"].fillna(method=\"bfill\")\n",
    "df_location_filter_collapsed[\"Smoking Area\"]=df_location_filter_collapsed[\"Smoking Area\"].fillna(method=\"ffill\")\n",
    "df_location_filter_collapsed[\"Other Services\"]=df_location_filter_collapsed[\"Other Services\"].fillna(method=\"ffill\")\n",
    "df_location_filter_collapsed[\"Parking Availability\"]=df_location_filter_collapsed[\"Parking Availability\"].fillna(method=\"ffill\")\n",
    "df_location_filter_collapsed[\"Parking Availability\"]=df_location_filter_collapsed[\"Parking Availability\"].fillna(method=\"bfill\")\n"
   ]
  },
  {
   "cell_type": "code",
   "execution_count": 267,
   "metadata": {},
   "outputs": [],
   "source": [
    "df_location_filter[\"City\"] = df_location_filter[\"City\"].fillna(method=\"ffill\")\n",
    "df_location_filter[\"City\"] = df_location_filter[\"City\"].fillna(method=\"bfill\")\n",
    "df_location_filter[\"State\"] = df_location_filter[\"State\"].fillna(method=\"ffill\")\n",
    "df_location_filter[\"State\"] = df_location_filter[\"State\"].fillna(method=\"bfill\")\n",
    "df_location_filter[\"Smoking Area\"] = df_location_filter[\"Smoking Area\"].fillna(method=\"ffill\")\n",
    "df_location_filter[\"Other Services\"] = df_location_filter[\"Other Services\"].fillna(method=\"ffill\")\n",
    "df_location_filter[\"Parking Availability\"] = df_location_filter[\"Parking Availability\"].fillna(method=\"ffill\")\n",
    "df_location_filter[\"Parking Availability\"] = df_location_filter[\"Parking Availability\"].fillna(method=\"bfill\")\n"
   ]
  },
  {
   "cell_type": "markdown",
   "metadata": {},
   "source": [
    "# <h1 style=\"text-align: left; color: #FFB347; font-family: 'Bahnschrift Condensed', sans-serif; font-size: 2.5em;\">Merging Dataframes\n",
    "</h1>\n"
   ]
  },
  {
   "cell_type": "code",
   "execution_count": 268,
   "metadata": {},
   "outputs": [],
   "source": [
    "df_users=pd.merge(df_rating,df_user_filter,on=[\"User ID\"],how=\"inner\")\n",
    "df_filter=pd.merge(df_location_filter,df_users,on=[\"Place ID\"], how=\"inner\")"
   ]
  },
  {
   "cell_type": "code",
   "execution_count": 269,
   "metadata": {},
   "outputs": [
    {
     "data": {
      "text/plain": [
       "Place ID                    0\n",
       "R Latitude                  0\n",
       "R Longitude                 0\n",
       "Restaurant Name             0\n",
       "Address                     0\n",
       "City                        0\n",
       "State                       0\n",
       "Country                     0\n",
       "ZIP Code                    0\n",
       "Alcohol Availability        0\n",
       "Smoking Area                0\n",
       "Dress Code                  0\n",
       "Accessibility               0\n",
       "Price Range                 0\n",
       "Ambience                    0\n",
       "Area                        0\n",
       "Other Services              0\n",
       "Cuisine Type                0\n",
       "Parking Availability        0\n",
       "Payment Methods             0\n",
       "Opening Hours               0\n",
       "Operating Days              0\n",
       "User ID                     0\n",
       "Rating                      0\n",
       "Food Rating                 0\n",
       "Service Rating              0\n",
       "Latitude                    0\n",
       "Longitude                   0\n",
       "Smoking Habit               0\n",
       "Drinking Habit              0\n",
       "Dress Preference            0\n",
       "Preferred Ambience          0\n",
       "Transport Mode              0\n",
       "Marital Status              0\n",
       "People Under Charge         0\n",
       "Birth Year                  0\n",
       "Interest                    0\n",
       "Personality                 0\n",
       "Religion                    0\n",
       "Activity Level              0\n",
       "Favorite Color              0\n",
       "Weight (kg)                 0\n",
       "Budget                      0\n",
       "Height (cm)                 0\n",
       "Preferred Payment Method    0\n",
       "User Preference             0\n",
       "dtype: int64"
      ]
     },
     "execution_count": 269,
     "metadata": {},
     "output_type": "execute_result"
    }
   ],
   "source": [
    "df_filter.isna().sum()"
   ]
  },
  {
   "cell_type": "code",
   "execution_count": 270,
   "metadata": {},
   "outputs": [],
   "source": [
    "df_users_collapsed=pd.merge(df_rating, df_user_filter_collapsed, on=[\"User ID\"], how=\"inner\")\n",
    "df_filter_collapsed=pd.merge(df_location_filter_collapsed,df_users_collapsed,on=[\"Place ID\"],how=\"inner\")"
   ]
  },
  {
   "cell_type": "code",
   "execution_count": 271,
   "metadata": {},
   "outputs": [
    {
     "data": {
      "text/plain": [
       "(781, 46)"
      ]
     },
     "execution_count": 271,
     "metadata": {},
     "output_type": "execute_result"
    }
   ],
   "source": [
    "df_filter_collapsed.shape"
   ]
  },
  {
   "cell_type": "markdown",
   "metadata": {},
   "source": [
    "We will keep the datasets with the ratings as digits, in case we want to use them in a machine learning predictive model. However, for now, we will convert them to 'strings' for the filtering model (restaurant recommendation)."
   ]
  },
  {
   "cell_type": "code",
   "execution_count": 272,
   "metadata": {},
   "outputs": [],
   "source": [
    "df_filter_collapsed.to_csv(\"../data/df_filter_collapsed_ratingdigit.csv\",index=False)"
   ]
  },
  {
   "cell_type": "code",
   "execution_count": 273,
   "metadata": {},
   "outputs": [],
   "source": [
    "df_filter.to_csv(\"../data/df_filter_ratingdigit.csv\",index=False)"
   ]
  },
  {
   "cell_type": "markdown",
   "metadata": {},
   "source": [
    "## <h1 style=\"text-align: left; color: #FFB347; font-family: 'Bahnschrift', sans-serif; font-size: 1.5em;\">Changing column location names</h1>\n"
   ]
  },
  {
   "cell_type": "code",
   "execution_count": 274,
   "metadata": {},
   "outputs": [],
   "source": [
    "df_filter = df_filter.rename(columns={\n",
    "    'R Latitude': 'latitude',\n",
    "    'R Longitude': 'longitude',\n",
    "    'Latitude': 'U latitude',\n",
    "    'Longitude': 'U longitude'\n",
    "})\n",
    "\n",
    "df_filter_collapsed = df_filter_collapsed.rename(columns={\n",
    "    'R Latitude': 'latitude',\n",
    "    'R Longitude': 'longitude',\n",
    "    'Latitude': 'U latitude',\n",
    "    'Longitude': 'U longitude'\n",
    "})"
   ]
  },
  {
   "cell_type": "code",
   "execution_count": 280,
   "metadata": {},
   "outputs": [],
   "source": [
    "df_filter_collapsed['Restaurant Name'] = df_filter_collapsed['Restaurant Name'].str.replace(r'.*N De San Francisco.*', 'El Rincon De San Francisco', regex=True)\n",
    "df_filter['Restaurant Name'] = df_filter['Restaurant Name'].str.replace(r'.*N De San Francisco.*', 'El Rincon De San Francisco', regex=True)"
   ]
  },
  {
   "cell_type": "markdown",
   "metadata": {},
   "source": [
    "## <h1 style=\"text-align: left; color: #FFB347; font-family: 'Bahnschrift', sans-serif; font-size: 1.5em;\">Mapping Rating values</h1>\n"
   ]
  },
  {
   "cell_type": "code",
   "execution_count": 177,
   "metadata": {},
   "outputs": [],
   "source": [
    "df_filter_collapsed.replace({0: 'Dissatisfied', 1: 'Neutral', 2: 'Satisfied'}, inplace=True)"
   ]
  },
  {
   "cell_type": "code",
   "execution_count": 276,
   "metadata": {},
   "outputs": [],
   "source": [
    "df_filter.replace({0: 'Dissatisfied', 1: 'Neutral', 2: 'Satisfied'}, inplace=True)"
   ]
  },
  {
   "cell_type": "code",
   "execution_count": 99,
   "metadata": {},
   "outputs": [],
   "source": [
    "##df_filter_collapsed.to_csv(\"../data/df_filter_collapsed.csv\",index=False)"
   ]
  },
  {
   "cell_type": "code",
   "execution_count": null,
   "metadata": {},
   "outputs": [],
   "source": [
    "##df_filter.to_csv(\"../data/df_filter.csv\",index=False)"
   ]
  },
  {
   "cell_type": "markdown",
   "metadata": {},
   "source": []
  }
 ],
 "metadata": {
  "kernelspec": {
   "display_name": "Python 3",
   "language": "python",
   "name": "python3"
  },
  "language_info": {
   "codemirror_mode": {
    "name": "ipython",
    "version": 3
   },
   "file_extension": ".py",
   "mimetype": "text/x-python",
   "name": "python",
   "nbconvert_exporter": "python",
   "pygments_lexer": "ipython3",
   "version": "3.11.9"
  }
 },
 "nbformat": 4,
 "nbformat_minor": 2
}
