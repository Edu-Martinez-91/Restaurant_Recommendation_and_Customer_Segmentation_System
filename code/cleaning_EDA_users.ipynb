{
 "cells": [
  {
   "cell_type": "markdown",
   "metadata": {},
   "source": [
    "# <h1 style=\"text-align: left; color: #FFB347; font-family: 'Bahnschrift Condensed', sans-serif; font-size: 2.5em;\">Connecting to MySQL Workbench\n",
    "</h1>\n"
   ]
  },
  {
   "cell_type": "code",
   "execution_count": 1747,
   "metadata": {},
   "outputs": [],
   "source": [
    "# 📚 Basic libraries\n",
    "import pandas as pd # data manipulation\n",
    "import numpy as np # numerical operations\n",
    "import warnings # warning messages management\n",
    "import matplotlib.pyplot as plt # plotting\n",
    "import seaborn as sns # plotting\n",
    "colors = ['#FF7F7F', '#FFF9C4', '#A5D6A7', '#81D4FA', '#F1F1F1']\n",
    "\n",
    "# 📊 Statistical libraries\n",
    "from scipy.stats import chi2_contingency # 🧮 Chi-squared test for independence\n",
    "from scipy.stats.contingency import association # 📈 Measures association strength between categorical variables\n",
    "import scipy.stats as st # ⚙️ General statistical functions\n",
    "import statsmodels.api as sm # 📐 Advanced statistical models and testing\n",
    "import statsmodels.formula.api as smf # 📝 Formula-based interface for statistical models\n",
    "\n",
    "# Set the color palette for all plots by default\n",
    "plt.rcParams['axes.prop_cycle'] = plt.cycler(color=colors)\n",
    "# ⚙️ Settings\n",
    "pd.set_option('display.max_columns', None) # display all columns\n",
    "warnings.filterwarnings('ignore') # ignore warnings\n",
    "\n",
    "# 🌐 New Libraries\n",
    "from getpass import getpass # get password without showing it\n",
    "import pymysql # MySQL connection\n",
    "import requests # HTTP requests\n",
    "import time # time operations\n",
    "\n",
    "# ⚙️ Settings\n",
    "pd.set_option('display.max_columns', None) # display all columns\n",
    "warnings.filterwarnings('ignore') # ignore warnings\n",
    "\n",
    "def create_connection(): # create a connection to a MySQL database\n",
    "    \"\"\"\n",
    "    Create a connection to a MySQL database.\n",
    "    Prompts the user for the database password and database name.\n",
    "    \n",
    "    Returns:\n",
    "        cnx: pymysql.connections.Connection object\n",
    "            The connection object to the MySQL database.\n",
    "    \"\"\"\n",
    "    password = getpass(\"Please, kindly insert your password: \")\n",
    "    database = input(\"Please, kindly insert your database name: \")\n",
    "    cnx = pymysql.connect(user='root', password=password,\n",
    "                          host='localhost', database=database)\n",
    "    if cnx.open:\n",
    "        print(\"Connection open\")\n",
    "    else:\n",
    "        print(\"Connection is not successfully open\")\n",
    "    return cnx"
   ]
  },
  {
   "cell_type": "code",
   "execution_count": 1748,
   "metadata": {},
   "outputs": [
    {
     "name": "stdout",
     "output_type": "stream",
     "text": [
      "Connection open\n"
     ]
    }
   ],
   "source": [
    "# We enter the password and the database \n",
    "connection = create_connection()"
   ]
  },
  {
   "cell_type": "markdown",
   "metadata": {},
   "source": [
    "## <h1 style=\"text-align: left; color: #FFB347; font-family: 'Bahnschrift', sans-serif; font-size: 1.5em;\">Testing the connection\n",
    "</h1>\n"
   ]
  },
  {
   "cell_type": "code",
   "execution_count": 1749,
   "metadata": {},
   "outputs": [
    {
     "data": {
      "text/html": [
       "<div>\n",
       "<style scoped>\n",
       "    .dataframe tbody tr th:only-of-type {\n",
       "        vertical-align: middle;\n",
       "    }\n",
       "\n",
       "    .dataframe tbody tr th {\n",
       "        vertical-align: top;\n",
       "    }\n",
       "\n",
       "    .dataframe thead th {\n",
       "        text-align: right;\n",
       "    }\n",
       "</style>\n",
       "<table border=\"1\" class=\"dataframe\">\n",
       "  <thead>\n",
       "    <tr style=\"text-align: right;\">\n",
       "      <th></th>\n",
       "      <th>userID</th>\n",
       "      <th>latitude</th>\n",
       "      <th>longitude</th>\n",
       "      <th>smoker</th>\n",
       "      <th>drink_level</th>\n",
       "      <th>dress_preference</th>\n",
       "      <th>ambience</th>\n",
       "      <th>transport</th>\n",
       "      <th>marital_status</th>\n",
       "      <th>hijos</th>\n",
       "      <th>birth_year</th>\n",
       "      <th>interest</th>\n",
       "      <th>personality</th>\n",
       "      <th>religion</th>\n",
       "      <th>activity</th>\n",
       "      <th>color</th>\n",
       "      <th>weight</th>\n",
       "      <th>budget</th>\n",
       "      <th>height</th>\n",
       "      <th>Upayment</th>\n",
       "      <th>Rcuisine</th>\n",
       "    </tr>\n",
       "  </thead>\n",
       "  <tbody>\n",
       "    <tr>\n",
       "      <th>0</th>\n",
       "      <td>U1001</td>\n",
       "      <td>22.139997</td>\n",
       "      <td>-100.978803</td>\n",
       "      <td>false</td>\n",
       "      <td>abstemious</td>\n",
       "      <td>informal</td>\n",
       "      <td>family</td>\n",
       "      <td>on foot</td>\n",
       "      <td>single</td>\n",
       "      <td>independent</td>\n",
       "      <td>1989</td>\n",
       "      <td>variety</td>\n",
       "      <td>thrifty-protector</td>\n",
       "      <td>none</td>\n",
       "      <td>student</td>\n",
       "      <td>black</td>\n",
       "      <td>69</td>\n",
       "      <td>medium</td>\n",
       "      <td>1.77</td>\n",
       "      <td>cash</td>\n",
       "      <td>American</td>\n",
       "    </tr>\n",
       "    <tr>\n",
       "      <th>1</th>\n",
       "      <td>U1002</td>\n",
       "      <td>22.150087</td>\n",
       "      <td>-100.983325</td>\n",
       "      <td>false</td>\n",
       "      <td>abstemious</td>\n",
       "      <td>informal</td>\n",
       "      <td>family</td>\n",
       "      <td>public</td>\n",
       "      <td>single</td>\n",
       "      <td>independent</td>\n",
       "      <td>1990</td>\n",
       "      <td>technology</td>\n",
       "      <td>hunter-ostentatious</td>\n",
       "      <td>Catholic</td>\n",
       "      <td>student</td>\n",
       "      <td>red</td>\n",
       "      <td>40</td>\n",
       "      <td>low</td>\n",
       "      <td>1.87</td>\n",
       "      <td>cash</td>\n",
       "      <td>Mexican</td>\n",
       "    </tr>\n",
       "    <tr>\n",
       "      <th>2</th>\n",
       "      <td>U1003</td>\n",
       "      <td>22.119847</td>\n",
       "      <td>-100.946527</td>\n",
       "      <td>false</td>\n",
       "      <td>social drinker</td>\n",
       "      <td>formal</td>\n",
       "      <td>family</td>\n",
       "      <td>public</td>\n",
       "      <td>single</td>\n",
       "      <td>independent</td>\n",
       "      <td>1989</td>\n",
       "      <td>none</td>\n",
       "      <td>hard-worker</td>\n",
       "      <td>Catholic</td>\n",
       "      <td>student</td>\n",
       "      <td>blue</td>\n",
       "      <td>60</td>\n",
       "      <td>low</td>\n",
       "      <td>1.69</td>\n",
       "      <td>cash</td>\n",
       "      <td>Mexican</td>\n",
       "    </tr>\n",
       "    <tr>\n",
       "      <th>3</th>\n",
       "      <td>U1004</td>\n",
       "      <td>18.867000</td>\n",
       "      <td>-99.183000</td>\n",
       "      <td>false</td>\n",
       "      <td>abstemious</td>\n",
       "      <td>informal</td>\n",
       "      <td>family</td>\n",
       "      <td>public</td>\n",
       "      <td>single</td>\n",
       "      <td>independent</td>\n",
       "      <td>1940</td>\n",
       "      <td>variety</td>\n",
       "      <td>hard-worker</td>\n",
       "      <td>none</td>\n",
       "      <td>professional</td>\n",
       "      <td>green</td>\n",
       "      <td>44</td>\n",
       "      <td>medium</td>\n",
       "      <td>1.53</td>\n",
       "      <td>bank_debit_cards</td>\n",
       "      <td>Bakery</td>\n",
       "    </tr>\n",
       "    <tr>\n",
       "      <th>4</th>\n",
       "      <td>U1004</td>\n",
       "      <td>18.867000</td>\n",
       "      <td>-99.183000</td>\n",
       "      <td>false</td>\n",
       "      <td>abstemious</td>\n",
       "      <td>informal</td>\n",
       "      <td>family</td>\n",
       "      <td>public</td>\n",
       "      <td>single</td>\n",
       "      <td>independent</td>\n",
       "      <td>1940</td>\n",
       "      <td>variety</td>\n",
       "      <td>hard-worker</td>\n",
       "      <td>none</td>\n",
       "      <td>professional</td>\n",
       "      <td>green</td>\n",
       "      <td>44</td>\n",
       "      <td>medium</td>\n",
       "      <td>1.53</td>\n",
       "      <td>cash</td>\n",
       "      <td>Bakery</td>\n",
       "    </tr>\n",
       "  </tbody>\n",
       "</table>\n",
       "</div>"
      ],
      "text/plain": [
       "  userID   latitude   longitude smoker     drink_level dress_preference  \\\n",
       "0  U1001  22.139997 -100.978803  false      abstemious         informal   \n",
       "1  U1002  22.150087 -100.983325  false      abstemious         informal   \n",
       "2  U1003  22.119847 -100.946527  false  social drinker           formal   \n",
       "3  U1004  18.867000  -99.183000  false      abstemious         informal   \n",
       "4  U1004  18.867000  -99.183000  false      abstemious         informal   \n",
       "\n",
       "  ambience transport marital_status        hijos  birth_year    interest  \\\n",
       "0   family   on foot         single  independent        1989     variety   \n",
       "1   family    public         single  independent        1990  technology   \n",
       "2   family    public         single  independent        1989        none   \n",
       "3   family    public         single  independent        1940     variety   \n",
       "4   family    public         single  independent        1940     variety   \n",
       "\n",
       "           personality  religion      activity  color  weight  budget  height  \\\n",
       "0    thrifty-protector      none       student  black      69  medium    1.77   \n",
       "1  hunter-ostentatious  Catholic       student    red      40     low    1.87   \n",
       "2          hard-worker  Catholic       student   blue      60     low    1.69   \n",
       "3          hard-worker      none  professional  green      44  medium    1.53   \n",
       "4          hard-worker      none  professional  green      44  medium    1.53   \n",
       "\n",
       "           Upayment  Rcuisine  \n",
       "0              cash  American  \n",
       "1              cash   Mexican  \n",
       "2              cash   Mexican  \n",
       "3  bank_debit_cards    Bakery  \n",
       "4              cash    Bakery  "
      ]
     },
     "execution_count": 1749,
     "metadata": {},
     "output_type": "execute_result"
    }
   ],
   "source": [
    "query = \"SELECT * FROM user_profile upr JOIN user_pay up USING (userID) JOIN user_cui uc USING (userID);\"\n",
    "df_user = pd.read_sql(query, connection)\n",
    "df_user.head()"
   ]
  },
  {
   "cell_type": "markdown",
   "metadata": {},
   "source": [
    "# <h1 style=\"text-align: left; color: #FFB347; font-family: 'Bahnschrift Condensed', sans-serif; font-size: 2.5em;\">Cleaning columns\n",
    "</h1>\n"
   ]
  },
  {
   "cell_type": "code",
   "execution_count": 1750,
   "metadata": {},
   "outputs": [],
   "source": [
    "# df_user = df_user.applymap(lambda x: str(x).replace('_', ' ').title())\n",
    "# Si corremos esta celda, afectamos a la distribución de las columnas continuas."
   ]
  },
  {
   "cell_type": "code",
   "execution_count": 1751,
   "metadata": {},
   "outputs": [
    {
     "data": {
      "text/html": [
       "<div>\n",
       "<style scoped>\n",
       "    .dataframe tbody tr th:only-of-type {\n",
       "        vertical-align: middle;\n",
       "    }\n",
       "\n",
       "    .dataframe tbody tr th {\n",
       "        vertical-align: top;\n",
       "    }\n",
       "\n",
       "    .dataframe thead th {\n",
       "        text-align: right;\n",
       "    }\n",
       "</style>\n",
       "<table border=\"1\" class=\"dataframe\">\n",
       "  <thead>\n",
       "    <tr style=\"text-align: right;\">\n",
       "      <th></th>\n",
       "      <th>userID</th>\n",
       "      <th>latitude</th>\n",
       "      <th>longitude</th>\n",
       "      <th>smoker</th>\n",
       "      <th>drink_level</th>\n",
       "      <th>dress_preference</th>\n",
       "      <th>ambience</th>\n",
       "      <th>transport</th>\n",
       "      <th>marital_status</th>\n",
       "      <th>hijos</th>\n",
       "      <th>birth_year</th>\n",
       "      <th>interest</th>\n",
       "      <th>personality</th>\n",
       "      <th>religion</th>\n",
       "      <th>activity</th>\n",
       "      <th>color</th>\n",
       "      <th>weight</th>\n",
       "      <th>budget</th>\n",
       "      <th>height</th>\n",
       "      <th>Upayment</th>\n",
       "      <th>Rcuisine</th>\n",
       "    </tr>\n",
       "  </thead>\n",
       "  <tbody>\n",
       "    <tr>\n",
       "      <th>0</th>\n",
       "      <td>U1001</td>\n",
       "      <td>22.139997</td>\n",
       "      <td>-100.978803</td>\n",
       "      <td>false</td>\n",
       "      <td>abstemious</td>\n",
       "      <td>informal</td>\n",
       "      <td>family</td>\n",
       "      <td>on foot</td>\n",
       "      <td>single</td>\n",
       "      <td>independent</td>\n",
       "      <td>1989</td>\n",
       "      <td>variety</td>\n",
       "      <td>thrifty-protector</td>\n",
       "      <td>none</td>\n",
       "      <td>student</td>\n",
       "      <td>black</td>\n",
       "      <td>69</td>\n",
       "      <td>medium</td>\n",
       "      <td>1.77</td>\n",
       "      <td>cash</td>\n",
       "      <td>American</td>\n",
       "    </tr>\n",
       "    <tr>\n",
       "      <th>1</th>\n",
       "      <td>U1002</td>\n",
       "      <td>22.150087</td>\n",
       "      <td>-100.983325</td>\n",
       "      <td>false</td>\n",
       "      <td>abstemious</td>\n",
       "      <td>informal</td>\n",
       "      <td>family</td>\n",
       "      <td>public</td>\n",
       "      <td>single</td>\n",
       "      <td>independent</td>\n",
       "      <td>1990</td>\n",
       "      <td>technology</td>\n",
       "      <td>hunter-ostentatious</td>\n",
       "      <td>Catholic</td>\n",
       "      <td>student</td>\n",
       "      <td>red</td>\n",
       "      <td>40</td>\n",
       "      <td>low</td>\n",
       "      <td>1.87</td>\n",
       "      <td>cash</td>\n",
       "      <td>Mexican</td>\n",
       "    </tr>\n",
       "    <tr>\n",
       "      <th>2</th>\n",
       "      <td>U1003</td>\n",
       "      <td>22.119847</td>\n",
       "      <td>-100.946527</td>\n",
       "      <td>false</td>\n",
       "      <td>social drinker</td>\n",
       "      <td>formal</td>\n",
       "      <td>family</td>\n",
       "      <td>public</td>\n",
       "      <td>single</td>\n",
       "      <td>independent</td>\n",
       "      <td>1989</td>\n",
       "      <td>none</td>\n",
       "      <td>hard-worker</td>\n",
       "      <td>Catholic</td>\n",
       "      <td>student</td>\n",
       "      <td>blue</td>\n",
       "      <td>60</td>\n",
       "      <td>low</td>\n",
       "      <td>1.69</td>\n",
       "      <td>cash</td>\n",
       "      <td>Mexican</td>\n",
       "    </tr>\n",
       "    <tr>\n",
       "      <th>3</th>\n",
       "      <td>U1004</td>\n",
       "      <td>18.867000</td>\n",
       "      <td>-99.183000</td>\n",
       "      <td>false</td>\n",
       "      <td>abstemious</td>\n",
       "      <td>informal</td>\n",
       "      <td>family</td>\n",
       "      <td>public</td>\n",
       "      <td>single</td>\n",
       "      <td>independent</td>\n",
       "      <td>1940</td>\n",
       "      <td>variety</td>\n",
       "      <td>hard-worker</td>\n",
       "      <td>none</td>\n",
       "      <td>professional</td>\n",
       "      <td>green</td>\n",
       "      <td>44</td>\n",
       "      <td>medium</td>\n",
       "      <td>1.53</td>\n",
       "      <td>bank_debit_cards</td>\n",
       "      <td>Bakery</td>\n",
       "    </tr>\n",
       "    <tr>\n",
       "      <th>4</th>\n",
       "      <td>U1004</td>\n",
       "      <td>18.867000</td>\n",
       "      <td>-99.183000</td>\n",
       "      <td>false</td>\n",
       "      <td>abstemious</td>\n",
       "      <td>informal</td>\n",
       "      <td>family</td>\n",
       "      <td>public</td>\n",
       "      <td>single</td>\n",
       "      <td>independent</td>\n",
       "      <td>1940</td>\n",
       "      <td>variety</td>\n",
       "      <td>hard-worker</td>\n",
       "      <td>none</td>\n",
       "      <td>professional</td>\n",
       "      <td>green</td>\n",
       "      <td>44</td>\n",
       "      <td>medium</td>\n",
       "      <td>1.53</td>\n",
       "      <td>cash</td>\n",
       "      <td>Bakery</td>\n",
       "    </tr>\n",
       "  </tbody>\n",
       "</table>\n",
       "</div>"
      ],
      "text/plain": [
       "  userID   latitude   longitude smoker     drink_level dress_preference  \\\n",
       "0  U1001  22.139997 -100.978803  false      abstemious         informal   \n",
       "1  U1002  22.150087 -100.983325  false      abstemious         informal   \n",
       "2  U1003  22.119847 -100.946527  false  social drinker           formal   \n",
       "3  U1004  18.867000  -99.183000  false      abstemious         informal   \n",
       "4  U1004  18.867000  -99.183000  false      abstemious         informal   \n",
       "\n",
       "  ambience transport marital_status        hijos  birth_year    interest  \\\n",
       "0   family   on foot         single  independent        1989     variety   \n",
       "1   family    public         single  independent        1990  technology   \n",
       "2   family    public         single  independent        1989        none   \n",
       "3   family    public         single  independent        1940     variety   \n",
       "4   family    public         single  independent        1940     variety   \n",
       "\n",
       "           personality  religion      activity  color  weight  budget  height  \\\n",
       "0    thrifty-protector      none       student  black      69  medium    1.77   \n",
       "1  hunter-ostentatious  Catholic       student    red      40     low    1.87   \n",
       "2          hard-worker  Catholic       student   blue      60     low    1.69   \n",
       "3          hard-worker      none  professional  green      44  medium    1.53   \n",
       "4          hard-worker      none  professional  green      44  medium    1.53   \n",
       "\n",
       "           Upayment  Rcuisine  \n",
       "0              cash  American  \n",
       "1              cash   Mexican  \n",
       "2              cash   Mexican  \n",
       "3  bank_debit_cards    Bakery  \n",
       "4              cash    Bakery  "
      ]
     },
     "execution_count": 1751,
     "metadata": {},
     "output_type": "execute_result"
    }
   ],
   "source": [
    "df_user.head()"
   ]
  },
  {
   "cell_type": "code",
   "execution_count": 1752,
   "metadata": {},
   "outputs": [
    {
     "data": {
      "text/plain": [
       "['userID',\n",
       " 'latitude',\n",
       " 'longitude',\n",
       " 'smoker',\n",
       " 'drink_level',\n",
       " 'dress_preference',\n",
       " 'ambience',\n",
       " 'transport',\n",
       " 'marital_status',\n",
       " 'hijos',\n",
       " 'birth_year',\n",
       " 'interest',\n",
       " 'personality',\n",
       " 'religion',\n",
       " 'activity',\n",
       " 'color',\n",
       " 'weight',\n",
       " 'budget',\n",
       " 'height',\n",
       " 'Upayment',\n",
       " 'Rcuisine']"
      ]
     },
     "execution_count": 1752,
     "metadata": {},
     "output_type": "execute_result"
    }
   ],
   "source": [
    "df_user.columns.to_list()"
   ]
  },
  {
   "cell_type": "code",
   "execution_count": 1753,
   "metadata": {},
   "outputs": [
    {
     "data": {
      "text/html": [
       "<div>\n",
       "<style scoped>\n",
       "    .dataframe tbody tr th:only-of-type {\n",
       "        vertical-align: middle;\n",
       "    }\n",
       "\n",
       "    .dataframe tbody tr th {\n",
       "        vertical-align: top;\n",
       "    }\n",
       "\n",
       "    .dataframe thead th {\n",
       "        text-align: right;\n",
       "    }\n",
       "</style>\n",
       "<table border=\"1\" class=\"dataframe\">\n",
       "  <thead>\n",
       "    <tr style=\"text-align: right;\">\n",
       "      <th></th>\n",
       "      <th>Upayment</th>\n",
       "      <th>color</th>\n",
       "      <th>personality</th>\n",
       "      <th>interest</th>\n",
       "    </tr>\n",
       "  </thead>\n",
       "  <tbody>\n",
       "    <tr>\n",
       "      <th>0</th>\n",
       "      <td>Cash</td>\n",
       "      <td>Black</td>\n",
       "      <td>Thrifty protector</td>\n",
       "      <td>Variety</td>\n",
       "    </tr>\n",
       "    <tr>\n",
       "      <th>1</th>\n",
       "      <td>Cash</td>\n",
       "      <td>Red</td>\n",
       "      <td>Hunter ostentatious</td>\n",
       "      <td>Technology</td>\n",
       "    </tr>\n",
       "    <tr>\n",
       "      <th>2</th>\n",
       "      <td>Cash</td>\n",
       "      <td>Blue</td>\n",
       "      <td>Hard worker</td>\n",
       "      <td>None</td>\n",
       "    </tr>\n",
       "    <tr>\n",
       "      <th>3</th>\n",
       "      <td>Bank debit cards</td>\n",
       "      <td>Green</td>\n",
       "      <td>Hard worker</td>\n",
       "      <td>Variety</td>\n",
       "    </tr>\n",
       "    <tr>\n",
       "      <th>4</th>\n",
       "      <td>Cash</td>\n",
       "      <td>Green</td>\n",
       "      <td>Hard worker</td>\n",
       "      <td>Variety</td>\n",
       "    </tr>\n",
       "  </tbody>\n",
       "</table>\n",
       "</div>"
      ],
      "text/plain": [
       "           Upayment  color          personality    interest\n",
       "0              Cash  Black    Thrifty protector     Variety\n",
       "1              Cash    Red  Hunter ostentatious  Technology\n",
       "2              Cash   Blue          Hard worker        None\n",
       "3  Bank debit cards  Green          Hard worker     Variety\n",
       "4              Cash  Green          Hard worker     Variety"
      ]
     },
     "execution_count": 1753,
     "metadata": {},
     "output_type": "execute_result"
    }
   ],
   "source": [
    "columns_to_modify = [\"Upayment\", \"color\", \"personality\", \"interest\"]\n",
    "\n",
    "for column in columns_to_modify:\n",
    "    df_user[column] = df_user[column].str.replace(\"_\", \" \").str.replace(\"-\",\" \").str.capitalize()\n",
    "\n",
    "df_user[columns_to_modify].head()\n"
   ]
  },
  {
   "cell_type": "markdown",
   "metadata": {},
   "source": [
    "# <h1 style=\"text-align: left; color: #FFB347; font-family: 'Bahnschrift Condensed', sans-serif; font-size: 2.5em;\">Univariate Categorical Analysis\n",
    "</h1>\n"
   ]
  },
  {
   "cell_type": "markdown",
   "metadata": {},
   "source": [
    "We will drop duplicates based on userID to avoid overrepresentation of users with multiple preferred payment methods or different preferred types of cuisine."
   ]
  },
  {
   "cell_type": "code",
   "execution_count": null,
   "metadata": {},
   "outputs": [],
   "source": [
    "df_user.drop_duplicates(subset=\"userID\", inplace=True)"
   ]
  },
  {
   "cell_type": "markdown",
   "metadata": {},
   "source": [
    "One of the most interesting tables is the user_profile one for exploratory analysis. That is the one we'll begin with:"
   ]
  },
  {
   "cell_type": "code",
   "execution_count": 1755,
   "metadata": {},
   "outputs": [
    {
     "data": {
      "text/html": [
       "<div>\n",
       "<style scoped>\n",
       "    .dataframe tbody tr th:only-of-type {\n",
       "        vertical-align: middle;\n",
       "    }\n",
       "\n",
       "    .dataframe tbody tr th {\n",
       "        vertical-align: top;\n",
       "    }\n",
       "\n",
       "    .dataframe thead th {\n",
       "        text-align: right;\n",
       "    }\n",
       "</style>\n",
       "<table border=\"1\" class=\"dataframe\">\n",
       "  <thead>\n",
       "    <tr style=\"text-align: right;\">\n",
       "      <th></th>\n",
       "      <th>placeID</th>\n",
       "      <th>userID</th>\n",
       "      <th>latitude</th>\n",
       "      <th>longitude</th>\n",
       "      <th>smoker</th>\n",
       "      <th>drink_level</th>\n",
       "      <th>dress_preference</th>\n",
       "      <th>ambience</th>\n",
       "      <th>transport</th>\n",
       "      <th>marital_status</th>\n",
       "      <th>hijos</th>\n",
       "      <th>birth_year</th>\n",
       "      <th>interest</th>\n",
       "      <th>personality</th>\n",
       "      <th>religion</th>\n",
       "      <th>activity</th>\n",
       "      <th>color</th>\n",
       "      <th>weight</th>\n",
       "      <th>budget</th>\n",
       "      <th>height</th>\n",
       "      <th>rating</th>\n",
       "      <th>food_rating</th>\n",
       "      <th>service_rating</th>\n",
       "      <th>latitude</th>\n",
       "      <th>longitude</th>\n",
       "      <th>the_geom_meter</th>\n",
       "      <th>name</th>\n",
       "      <th>address</th>\n",
       "      <th>city</th>\n",
       "      <th>state</th>\n",
       "      <th>country</th>\n",
       "      <th>fax</th>\n",
       "      <th>zip</th>\n",
       "      <th>alcohol</th>\n",
       "      <th>smoking_area</th>\n",
       "      <th>dress_code</th>\n",
       "      <th>accessibility</th>\n",
       "      <th>price</th>\n",
       "      <th>url</th>\n",
       "      <th>Rambience</th>\n",
       "      <th>franchise</th>\n",
       "      <th>area</th>\n",
       "      <th>other_services</th>\n",
       "    </tr>\n",
       "  </thead>\n",
       "  <tbody>\n",
       "    <tr>\n",
       "      <th>0</th>\n",
       "      <td>135051</td>\n",
       "      <td>U1001</td>\n",
       "      <td>22.139997</td>\n",
       "      <td>-100.978803</td>\n",
       "      <td>false</td>\n",
       "      <td>abstemious</td>\n",
       "      <td>informal</td>\n",
       "      <td>family</td>\n",
       "      <td>on foot</td>\n",
       "      <td>single</td>\n",
       "      <td>independent</td>\n",
       "      <td>1989</td>\n",
       "      <td>variety</td>\n",
       "      <td>thrifty-protector</td>\n",
       "      <td>none</td>\n",
       "      <td>student</td>\n",
       "      <td>black</td>\n",
       "      <td>69</td>\n",
       "      <td>medium</td>\n",
       "      <td>1.77</td>\n",
       "      <td>1</td>\n",
       "      <td>1</td>\n",
       "      <td>2</td>\n",
       "      <td>22.151189</td>\n",
       "      <td>-100.977058</td>\n",
       "      <td>0101000020957F0000D6537C4C224858C1DED7F6EB58A3...</td>\n",
       "      <td>Restaurante Versalles</td>\n",
       "      <td>Francisco I. Madero 145 Centro</td>\n",
       "      <td>San Luis Potosi</td>\n",
       "      <td>SLP</td>\n",
       "      <td>Mexico</td>\n",
       "      <td>?</td>\n",
       "      <td>78000</td>\n",
       "      <td>No_Alcohol_Served</td>\n",
       "      <td>section</td>\n",
       "      <td>informal</td>\n",
       "      <td>no_accessibility</td>\n",
       "      <td>low</td>\n",
       "      <td>?</td>\n",
       "      <td>familiar</td>\n",
       "      <td>f</td>\n",
       "      <td>closed</td>\n",
       "      <td>none</td>\n",
       "    </tr>\n",
       "    <tr>\n",
       "      <th>1</th>\n",
       "      <td>135025</td>\n",
       "      <td>U1001</td>\n",
       "      <td>22.139997</td>\n",
       "      <td>-100.978803</td>\n",
       "      <td>false</td>\n",
       "      <td>abstemious</td>\n",
       "      <td>informal</td>\n",
       "      <td>family</td>\n",
       "      <td>on foot</td>\n",
       "      <td>single</td>\n",
       "      <td>independent</td>\n",
       "      <td>1989</td>\n",
       "      <td>variety</td>\n",
       "      <td>thrifty-protector</td>\n",
       "      <td>none</td>\n",
       "      <td>student</td>\n",
       "      <td>black</td>\n",
       "      <td>69</td>\n",
       "      <td>medium</td>\n",
       "      <td>1.77</td>\n",
       "      <td>2</td>\n",
       "      <td>2</td>\n",
       "      <td>2</td>\n",
       "      <td>22.149550</td>\n",
       "      <td>-100.977970</td>\n",
       "      <td>0101000020957F0000C7080D105C4858C108B4006AB4A3...</td>\n",
       "      <td>El Rincon de San Francisco</td>\n",
       "      <td>1a. de Lozada 1</td>\n",
       "      <td>San Luis Potosi</td>\n",
       "      <td>SLP</td>\n",
       "      <td>Mexico</td>\n",
       "      <td>?</td>\n",
       "      <td>?</td>\n",
       "      <td>No_Alcohol_Served</td>\n",
       "      <td>none</td>\n",
       "      <td>informal</td>\n",
       "      <td>no_accessibility</td>\n",
       "      <td>medium</td>\n",
       "      <td>?</td>\n",
       "      <td>familiar</td>\n",
       "      <td>f</td>\n",
       "      <td>closed</td>\n",
       "      <td>none</td>\n",
       "    </tr>\n",
       "    <tr>\n",
       "      <th>2</th>\n",
       "      <td>135033</td>\n",
       "      <td>U1001</td>\n",
       "      <td>22.139997</td>\n",
       "      <td>-100.978803</td>\n",
       "      <td>false</td>\n",
       "      <td>abstemious</td>\n",
       "      <td>informal</td>\n",
       "      <td>family</td>\n",
       "      <td>on foot</td>\n",
       "      <td>single</td>\n",
       "      <td>independent</td>\n",
       "      <td>1989</td>\n",
       "      <td>variety</td>\n",
       "      <td>thrifty-protector</td>\n",
       "      <td>none</td>\n",
       "      <td>student</td>\n",
       "      <td>black</td>\n",
       "      <td>69</td>\n",
       "      <td>medium</td>\n",
       "      <td>1.77</td>\n",
       "      <td>1</td>\n",
       "      <td>1</td>\n",
       "      <td>1</td>\n",
       "      <td>22.141610</td>\n",
       "      <td>-100.973142</td>\n",
       "      <td>0101000020957F00000F624C60B54958C11757339BCCA2...</td>\n",
       "      <td>Restaurant El Muladar de Calzada</td>\n",
       "      <td>De Guadalupe 460 San Miguelito</td>\n",
       "      <td>San Luis Potosi</td>\n",
       "      <td>SLP</td>\n",
       "      <td>Mexico</td>\n",
       "      <td>?</td>\n",
       "      <td>78399</td>\n",
       "      <td>No_Alcohol_Served</td>\n",
       "      <td>section</td>\n",
       "      <td>informal</td>\n",
       "      <td>no_accessibility</td>\n",
       "      <td>medium</td>\n",
       "      <td>?</td>\n",
       "      <td>familiar</td>\n",
       "      <td>f</td>\n",
       "      <td>closed</td>\n",
       "      <td>none</td>\n",
       "    </tr>\n",
       "    <tr>\n",
       "      <th>3</th>\n",
       "      <td>135045</td>\n",
       "      <td>U1001</td>\n",
       "      <td>22.139997</td>\n",
       "      <td>-100.978803</td>\n",
       "      <td>false</td>\n",
       "      <td>abstemious</td>\n",
       "      <td>informal</td>\n",
       "      <td>family</td>\n",
       "      <td>on foot</td>\n",
       "      <td>single</td>\n",
       "      <td>independent</td>\n",
       "      <td>1989</td>\n",
       "      <td>variety</td>\n",
       "      <td>thrifty-protector</td>\n",
       "      <td>none</td>\n",
       "      <td>student</td>\n",
       "      <td>black</td>\n",
       "      <td>69</td>\n",
       "      <td>medium</td>\n",
       "      <td>1.77</td>\n",
       "      <td>1</td>\n",
       "      <td>1</td>\n",
       "      <td>1</td>\n",
       "      <td>22.151189</td>\n",
       "      <td>-100.981790</td>\n",
       "      <td>0101000020957F00000B6735CA004858C108FD525CB2A4...</td>\n",
       "      <td>Restaurante la Gran Via</td>\n",
       "      <td>Venustiano Carranza 560 Centro</td>\n",
       "      <td>San Luis Potosi</td>\n",
       "      <td>SLP</td>\n",
       "      <td>Mexico</td>\n",
       "      <td>?</td>\n",
       "      <td>78000</td>\n",
       "      <td>Wine-Beer</td>\n",
       "      <td>none</td>\n",
       "      <td>casual</td>\n",
       "      <td>no_accessibility</td>\n",
       "      <td>high</td>\n",
       "      <td>lagranvia.com.mx</td>\n",
       "      <td>familiar</td>\n",
       "      <td>f</td>\n",
       "      <td>closed</td>\n",
       "      <td>none</td>\n",
       "    </tr>\n",
       "    <tr>\n",
       "      <th>4</th>\n",
       "      <td>135039</td>\n",
       "      <td>U1001</td>\n",
       "      <td>22.139997</td>\n",
       "      <td>-100.978803</td>\n",
       "      <td>false</td>\n",
       "      <td>abstemious</td>\n",
       "      <td>informal</td>\n",
       "      <td>family</td>\n",
       "      <td>on foot</td>\n",
       "      <td>single</td>\n",
       "      <td>independent</td>\n",
       "      <td>1989</td>\n",
       "      <td>variety</td>\n",
       "      <td>thrifty-protector</td>\n",
       "      <td>none</td>\n",
       "      <td>student</td>\n",
       "      <td>black</td>\n",
       "      <td>69</td>\n",
       "      <td>medium</td>\n",
       "      <td>1.77</td>\n",
       "      <td>1</td>\n",
       "      <td>1</td>\n",
       "      <td>1</td>\n",
       "      <td>22.145893</td>\n",
       "      <td>-100.974870</td>\n",
       "      <td>0101000020957F000040D5CE4E014958C177DC62AE09A3...</td>\n",
       "      <td>Restaurant de Mariscos de Picon</td>\n",
       "      <td>Miguel Barragan 46 Centro</td>\n",
       "      <td>San Luis Potosi</td>\n",
       "      <td>SLP</td>\n",
       "      <td>Mexico</td>\n",
       "      <td>?</td>\n",
       "      <td>79300</td>\n",
       "      <td>No_Alcohol_Served</td>\n",
       "      <td>section</td>\n",
       "      <td>informal</td>\n",
       "      <td>no_accessibility</td>\n",
       "      <td>low</td>\n",
       "      <td>?</td>\n",
       "      <td>familiar</td>\n",
       "      <td>f</td>\n",
       "      <td>closed</td>\n",
       "      <td>none</td>\n",
       "    </tr>\n",
       "  </tbody>\n",
       "</table>\n",
       "</div>"
      ],
      "text/plain": [
       "   placeID userID   latitude   longitude smoker drink_level dress_preference  \\\n",
       "0   135051  U1001  22.139997 -100.978803  false  abstemious         informal   \n",
       "1   135025  U1001  22.139997 -100.978803  false  abstemious         informal   \n",
       "2   135033  U1001  22.139997 -100.978803  false  abstemious         informal   \n",
       "3   135045  U1001  22.139997 -100.978803  false  abstemious         informal   \n",
       "4   135039  U1001  22.139997 -100.978803  false  abstemious         informal   \n",
       "\n",
       "  ambience transport marital_status        hijos  birth_year interest  \\\n",
       "0   family   on foot         single  independent        1989  variety   \n",
       "1   family   on foot         single  independent        1989  variety   \n",
       "2   family   on foot         single  independent        1989  variety   \n",
       "3   family   on foot         single  independent        1989  variety   \n",
       "4   family   on foot         single  independent        1989  variety   \n",
       "\n",
       "         personality religion activity  color  weight  budget  height  rating  \\\n",
       "0  thrifty-protector     none  student  black      69  medium    1.77       1   \n",
       "1  thrifty-protector     none  student  black      69  medium    1.77       2   \n",
       "2  thrifty-protector     none  student  black      69  medium    1.77       1   \n",
       "3  thrifty-protector     none  student  black      69  medium    1.77       1   \n",
       "4  thrifty-protector     none  student  black      69  medium    1.77       1   \n",
       "\n",
       "   food_rating  service_rating   latitude   longitude  \\\n",
       "0            1               2  22.151189 -100.977058   \n",
       "1            2               2  22.149550 -100.977970   \n",
       "2            1               1  22.141610 -100.973142   \n",
       "3            1               1  22.151189 -100.981790   \n",
       "4            1               1  22.145893 -100.974870   \n",
       "\n",
       "                                      the_geom_meter  \\\n",
       "0  0101000020957F0000D6537C4C224858C1DED7F6EB58A3...   \n",
       "1  0101000020957F0000C7080D105C4858C108B4006AB4A3...   \n",
       "2  0101000020957F00000F624C60B54958C11757339BCCA2...   \n",
       "3  0101000020957F00000B6735CA004858C108FD525CB2A4...   \n",
       "4  0101000020957F000040D5CE4E014958C177DC62AE09A3...   \n",
       "\n",
       "                               name                         address  \\\n",
       "0             Restaurante Versalles  Francisco I. Madero 145 Centro   \n",
       "1        El Rincon de San Francisco                 1a. de Lozada 1   \n",
       "2  Restaurant El Muladar de Calzada  De Guadalupe 460 San Miguelito   \n",
       "3           Restaurante la Gran Via  Venustiano Carranza 560 Centro   \n",
       "4   Restaurant de Mariscos de Picon       Miguel Barragan 46 Centro   \n",
       "\n",
       "              city state country fax    zip            alcohol smoking_area  \\\n",
       "0  San Luis Potosi   SLP  Mexico   ?  78000  No_Alcohol_Served      section   \n",
       "1  San Luis Potosi   SLP  Mexico   ?      ?  No_Alcohol_Served         none   \n",
       "2  San Luis Potosi   SLP  Mexico   ?  78399  No_Alcohol_Served      section   \n",
       "3  San Luis Potosi   SLP  Mexico   ?  78000          Wine-Beer         none   \n",
       "4  San Luis Potosi   SLP  Mexico   ?  79300  No_Alcohol_Served      section   \n",
       "\n",
       "  dress_code     accessibility   price               url Rambience franchise  \\\n",
       "0   informal  no_accessibility     low                 ?  familiar         f   \n",
       "1   informal  no_accessibility  medium                 ?  familiar         f   \n",
       "2   informal  no_accessibility  medium                 ?  familiar         f   \n",
       "3     casual  no_accessibility    high  lagranvia.com.mx  familiar         f   \n",
       "4   informal  no_accessibility     low                 ?  familiar         f   \n",
       "\n",
       "     area other_services  \n",
       "0  closed           none  \n",
       "1  closed           none  \n",
       "2  closed           none  \n",
       "3  closed           none  \n",
       "4  closed           none  "
      ]
     },
     "execution_count": 1755,
     "metadata": {},
     "output_type": "execute_result"
    }
   ],
   "source": [
    "query = \"SELECT * FROM user_profile u JOIN rating r USING (userID) JOIN location l USING (placeID);\"\n",
    "df_usloc = pd.read_sql(query, connection)\n",
    "df_usloc.head()\n",
    "## df_usloc.to_csv(\"../data/df_usloc.csv\",index=False)"
   ]
  },
  {
   "cell_type": "code",
   "execution_count": 1756,
   "metadata": {},
   "outputs": [
    {
     "name": "stdout",
     "output_type": "stream",
     "text": [
      "Value counts for smoker:\n",
      "smoker\n",
      "false    374\n",
      "true      37\n",
      "Name: count, dtype: int64\n",
      "\n",
      "\n",
      "Value counts for drink_level:\n",
      "drink_level\n",
      "casual drinker    206\n",
      "abstemious        137\n",
      "social drinker     68\n",
      "Name: count, dtype: int64\n",
      "\n",
      "\n",
      "Value counts for dress_preference:\n",
      "dress_preference\n",
      "informal         229\n",
      "no preference     92\n",
      "formal            76\n",
      "elegant           11\n",
      "?                  3\n",
      "Name: count, dtype: int64\n",
      "\n",
      "\n",
      "Value counts for ambience:\n",
      "ambience\n",
      "family      233\n",
      "friends      93\n",
      "solitary     82\n",
      "?             3\n",
      "Name: count, dtype: int64\n",
      "\n",
      "\n",
      "Value counts for transport:\n",
      "transport\n",
      "public       197\n",
      "on foot      137\n",
      "car owner     72\n",
      "?              5\n",
      "Name: count, dtype: int64\n",
      "\n",
      "\n",
      "Value counts for marital_status:\n",
      "marital_status\n",
      "single     386\n",
      "married     21\n",
      "widow        3\n",
      "?            1\n",
      "Name: count, dtype: int64\n",
      "\n",
      "\n",
      "Value counts for hijos:\n",
      "hijos\n",
      "independent    266\n",
      "kids           130\n",
      "?                9\n",
      "dependent        6\n",
      "Name: count, dtype: int64\n",
      "\n",
      "\n",
      "Value counts for interest:\n",
      "interest\n",
      "Variety         192\n",
      "Technology      129\n",
      "Eco friendly     49\n",
      "None             33\n",
      "Retro             8\n",
      "Name: count, dtype: int64\n",
      "\n",
      "\n",
      "Value counts for personality:\n",
      "personality\n",
      "Thrifty protector      166\n",
      "Hunter ostentatious    138\n",
      "Hard worker             99\n",
      "Conformist               8\n",
      "Name: count, dtype: int64\n",
      "\n",
      "\n",
      "Value counts for religion:\n",
      "religion\n",
      "Catholic     347\n",
      "none          50\n",
      "Christian      8\n",
      "Mormon         4\n",
      "Jewish         2\n",
      "Name: count, dtype: int64\n",
      "\n",
      "\n",
      "Value counts for activity:\n",
      "activity\n",
      "student          351\n",
      "professional      50\n",
      "?                  5\n",
      "unemployed         3\n",
      "working-class      2\n",
      "Name: count, dtype: int64\n",
      "\n",
      "\n",
      "Value counts for color:\n",
      "color\n",
      "Blue      128\n",
      "Purple    117\n",
      "Green      66\n",
      "White      29\n",
      "Black      24\n",
      "Red        24\n",
      "Orange     12\n",
      "Yellow     11\n",
      "Name: count, dtype: int64\n",
      "\n",
      "\n",
      "Value counts for budget:\n",
      "budget\n",
      "medium    232\n",
      "low       165\n",
      "high       10\n",
      "?           4\n",
      "Name: count, dtype: int64\n",
      "\n",
      "\n"
     ]
    }
   ],
   "source": [
    "# List of categorical columns\n",
    "categorical_columns = [\n",
    "    'smoker', \n",
    "    'drink_level',\n",
    "    'dress_preference',\n",
    "    'ambience',\n",
    "    'transport',\n",
    "    'marital_status',\n",
    "    'hijos', \n",
    "    'interest',\n",
    "    'personality',\n",
    "    'religion',\n",
    "    'activity',\n",
    "    'color', \n",
    "    'budget'\n",
    "]\n",
    "\n",
    "# Dictionary to store value_counts\n",
    "value_counts_dict = {}\n",
    "\n",
    "# Loop through each categorical column to apply value_counts() and sort it\n",
    "for column in categorical_columns:\n",
    "    value_counts_dict[column] = df_user[column].value_counts().sort_values(ascending=False)\n",
    "\n",
    "# Print the value_counts dictionary\n",
    "for column, counts in value_counts_dict.items():\n",
    "    print(f\"Value counts for {column}:\")\n",
    "    print(counts)\n",
    "    print(\"\\n\")"
   ]
  },
  {
   "cell_type": "markdown",
   "metadata": {},
   "source": [
    "## <h1 style=\"text-align: left; color: #FFB347; font-family: 'Bahnschrift', sans-serif; font-size: 1.5em;\">Religion\n",
    "</h1>\n"
   ]
  },
  {
   "cell_type": "code",
   "execution_count": 1757,
   "metadata": {},
   "outputs": [],
   "source": [
    "df_user.religion = df_user.religion.apply(lambda x: str(x).replace('_', ' ').title())"
   ]
  },
  {
   "cell_type": "code",
   "execution_count": 1758,
   "metadata": {},
   "outputs": [
    {
     "data": {
      "text/plain": [
       "religion\n",
       "Catholic     347\n",
       "None          50\n",
       "Christian      8\n",
       "Mormon         4\n",
       "Jewish         2\n",
       "Name: count, dtype: int64"
      ]
     },
     "execution_count": 1758,
     "metadata": {},
     "output_type": "execute_result"
    }
   ],
   "source": [
    "freq_religion = df_user.religion.value_counts().sort_values(ascending=False)\n",
    "freq_religion\n"
   ]
  },
  {
   "cell_type": "code",
   "execution_count": 1759,
   "metadata": {},
   "outputs": [],
   "source": [
    "df_user.religion = df_user.religion.apply(lambda x: \"Atheist\" if x == \"None\" else x)"
   ]
  },
  {
   "cell_type": "code",
   "execution_count": 1760,
   "metadata": {},
   "outputs": [
    {
     "data": {
      "text/plain": [
       "\" percentages = df_user['religion'].value_counts(normalize=True)\\ncategories_to_replace = percentages[percentages < 0.21].index\\ndf_user['religion'] = df_user['religion'].replace(categories_to_replace, 'Others')\\nfreq_religion_replaced = df_user.religion.value_counts().sort_values(ascending=False)\\nfreq_religion_replaced \""
      ]
     },
     "execution_count": 1760,
     "metadata": {},
     "output_type": "execute_result"
    }
   ],
   "source": [
    "## We deactivate this cell when we want to run the code  \n",
    "## to create `df_user_filter` and `df_user_filter_collapsed`,  \n",
    "## to avoid reducing the variety of religions in the filter.  \n",
    "## However, we deactivate it for `df_user` as it is intended  \n",
    "## for visualization, and to make it more user-friendly,  \n",
    "## we group the less represented categories under \"Others\".\n",
    "\n",
    "\"\"\" percentages = df_user['religion'].value_counts(normalize=True)\n",
    "categories_to_replace = percentages[percentages < 0.21].index\n",
    "df_user['religion'] = df_user['religion'].replace(categories_to_replace, 'Others')\n",
    "freq_religion_replaced = df_user.religion.value_counts().sort_values(ascending=False)\n",
    "freq_religion_replaced \"\"\"\n"
   ]
  },
  {
   "cell_type": "code",
   "execution_count": 1761,
   "metadata": {},
   "outputs": [
    {
     "data": {
      "image/png": "[encoded data removed]",
      "text/plain": [
       "<Figure size 640x480 with 1 Axes>"
      ]
     },
     "metadata": {},
     "output_type": "display_data"
    }
   ],
   "source": [
    "freq_religion_replaced.plot.pie(autopct='%1.0f%%' ,startangle=90)\n",
    "plt.show()"
   ]
  },
  {
   "cell_type": "markdown",
   "metadata": {},
   "source": [
    "## <h1 style=\"text-align: left; color: #FFB347; font-family: 'Bahnschrift', sans-serif; font-size: 1.5em;\">Smoker\n",
    "</h1>\n"
   ]
  },
  {
   "cell_type": "code",
   "execution_count": 1762,
   "metadata": {},
   "outputs": [],
   "source": [
    "df_user.smoker = df_user.smoker.apply(lambda x: str(x).replace('_', ' ').title())"
   ]
  },
  {
   "cell_type": "code",
   "execution_count": 1763,
   "metadata": {},
   "outputs": [
    {
     "data": {
      "text/plain": [
       "smoker\n",
       "False    374\n",
       "True      37\n",
       "Name: count, dtype: int64"
      ]
     },
     "execution_count": 1763,
     "metadata": {},
     "output_type": "execute_result"
    }
   ],
   "source": [
    "freq_smoker=df_user.smoker.value_counts()\n",
    "freq_smoker"
   ]
  },
  {
   "cell_type": "code",
   "execution_count": 1764,
   "metadata": {},
   "outputs": [],
   "source": [
    "df_user.smoker = df_user.smoker.apply(lambda x: \"False\" if x == \"?\" else x)"
   ]
  },
  {
   "cell_type": "code",
   "execution_count": 1765,
   "metadata": {},
   "outputs": [
    {
     "data": {
      "text/plain": [
       "smoker\n",
       "False    374\n",
       "True      37\n",
       "Name: count, dtype: int64"
      ]
     },
     "execution_count": 1765,
     "metadata": {},
     "output_type": "execute_result"
    }
   ],
   "source": [
    "freq_smoker=df_user.smoker.value_counts()\n",
    "freq_smoker"
   ]
  },
  {
   "cell_type": "code",
   "execution_count": 1766,
   "metadata": {},
   "outputs": [
    {
     "data": {
      "image/png": "[encoded data removed]",
      "text/plain": [
       "<Figure size 640x480 with 1 Axes>"
      ]
     },
     "metadata": {},
     "output_type": "display_data"
    }
   ],
   "source": [
    "freq_smoker.plot.pie(autopct='%1.0f%%' ,startangle=90)\n",
    "plt.show()"
   ]
  },
  {
   "cell_type": "markdown",
   "metadata": {},
   "source": [
    "## <h1 style=\"text-align: left; color: #FFB347; font-family: 'Bahnschrift', sans-serif; font-size: 1.5em;\">Drink level</h1>\n"
   ]
  },
  {
   "cell_type": "code",
   "execution_count": 1767,
   "metadata": {},
   "outputs": [],
   "source": [
    "df_user.drink_level = df_user.drink_level.apply(lambda x: str(x).replace('_', ' ').capitalize())"
   ]
  },
  {
   "cell_type": "code",
   "execution_count": 1768,
   "metadata": {},
   "outputs": [
    {
     "data": {
      "text/plain": [
       "drink_level\n",
       "Casual drinker    206\n",
       "Abstemious        137\n",
       "Social drinker     68\n",
       "Name: count, dtype: int64"
      ]
     },
     "execution_count": 1768,
     "metadata": {},
     "output_type": "execute_result"
    }
   ],
   "source": [
    "freq_drink=df_user.drink_level.value_counts()\n",
    "freq_drink"
   ]
  },
  {
   "cell_type": "code",
   "execution_count": 1769,
   "metadata": {},
   "outputs": [
    {
     "data": {
      "image/png": "[encoded data removed]",
      "text/plain": [
       "<Figure size 640x480 with 1 Axes>"
      ]
     },
     "metadata": {},
     "output_type": "display_data"
    }
   ],
   "source": [
    "freq_drink.plot.pie(autopct='%1.0f%%' ,startangle=90)\n",
    "plt.show()"
   ]
  },
  {
   "cell_type": "markdown",
   "metadata": {},
   "source": [
    "## <h1 style=\"text-align: left; color: #FFB347; font-family: 'Bahnschrift', sans-serif; font-size: 1.5em;\">Dress preference</h1>\n"
   ]
  },
  {
   "cell_type": "code",
   "execution_count": 1770,
   "metadata": {},
   "outputs": [],
   "source": [
    "df_user.dress_preference = df_user.dress_preference.apply(lambda x: str(x).replace('_', ' ').capitalize())"
   ]
  },
  {
   "cell_type": "code",
   "execution_count": 1771,
   "metadata": {},
   "outputs": [
    {
     "data": {
      "text/plain": [
       "dress_preference\n",
       "Informal         229\n",
       "No preference     92\n",
       "Formal            76\n",
       "Elegant           11\n",
       "?                  3\n",
       "Name: count, dtype: int64"
      ]
     },
     "execution_count": 1771,
     "metadata": {},
     "output_type": "execute_result"
    }
   ],
   "source": [
    "freq_dress=df_user.dress_preference.value_counts()\n",
    "freq_dress"
   ]
  },
  {
   "cell_type": "code",
   "execution_count": 1772,
   "metadata": {},
   "outputs": [],
   "source": [
    "df_user.dress_preference = df_user.dress_preference.replace(\"?\", None).ffill()\n",
    "freq_dress=df_user.dress_preference.value_counts()"
   ]
  },
  {
   "cell_type": "code",
   "execution_count": 1773,
   "metadata": {},
   "outputs": [
    {
     "data": {
      "image/png": "[encoded data removed]",
      "text/plain": [
       "<Figure size 640x480 with 1 Axes>"
      ]
     },
     "metadata": {},
     "output_type": "display_data"
    }
   ],
   "source": [
    "freq_dress.plot.pie(autopct='%1.0f%%' ,startangle=90)\n",
    "plt.show()"
   ]
  },
  {
   "cell_type": "markdown",
   "metadata": {},
   "source": [
    "<h1 style=\"text-align: left; color: #FFB347; font-family: 'Bahnschrift', sans-serif; font-size: 1.5em;\">Ambience</h1>\n"
   ]
  },
  {
   "cell_type": "code",
   "execution_count": 1774,
   "metadata": {},
   "outputs": [],
   "source": [
    "df_user.ambience = df_user.ambience.apply(lambda x: str(x).replace('_', ' ').title())"
   ]
  },
  {
   "cell_type": "code",
   "execution_count": 1775,
   "metadata": {},
   "outputs": [],
   "source": [
    "df_user.ambience = df_user.ambience.replace(\"?\", None).ffill()"
   ]
  },
  {
   "cell_type": "code",
   "execution_count": 1776,
   "metadata": {},
   "outputs": [
    {
     "data": {
      "text/plain": [
       "ambience\n",
       "Family      235\n",
       "Friends      94\n",
       "Solitary     82\n",
       "Name: count, dtype: int64"
      ]
     },
     "execution_count": 1776,
     "metadata": {},
     "output_type": "execute_result"
    }
   ],
   "source": [
    "freq_ambience=df_user.ambience.value_counts()\n",
    "freq_ambience"
   ]
  },
  {
   "cell_type": "code",
   "execution_count": 1777,
   "metadata": {},
   "outputs": [
    {
     "data": {
      "image/png": "[encoded data removed]",
      "text/plain": [
       "<Figure size 640x480 with 1 Axes>"
      ]
     },
     "metadata": {},
     "output_type": "display_data"
    }
   ],
   "source": [
    "freq_ambience.plot.pie(autopct='%1.0f%%' ,startangle=90)\n",
    "plt.show()"
   ]
  },
  {
   "cell_type": "markdown",
   "metadata": {},
   "source": [
    "## <h1 style=\"text-align: left; color: #FFB347; font-family: 'Bahnschrift', sans-serif; font-size: 1.5em;\">Transport</h1>\n"
   ]
  },
  {
   "cell_type": "code",
   "execution_count": 1778,
   "metadata": {},
   "outputs": [],
   "source": [
    "df_user.transport = df_user.transport.apply(lambda x: str(x).replace('_', ' ').capitalize())"
   ]
  },
  {
   "cell_type": "code",
   "execution_count": 1779,
   "metadata": {},
   "outputs": [],
   "source": [
    "df_user.transport = df_user.transport.replace(\"?\", None).ffill()"
   ]
  },
  {
   "cell_type": "code",
   "execution_count": 1780,
   "metadata": {},
   "outputs": [
    {
     "data": {
      "text/plain": [
       "transport\n",
       "Public       200\n",
       "On foot      139\n",
       "Car owner     72\n",
       "Name: count, dtype: int64"
      ]
     },
     "execution_count": 1780,
     "metadata": {},
     "output_type": "execute_result"
    }
   ],
   "source": [
    "freq_transport=df_user.transport.value_counts()\n",
    "freq_transport"
   ]
  },
  {
   "cell_type": "code",
   "execution_count": 1781,
   "metadata": {},
   "outputs": [
    {
     "data": {
      "image/png": "[encoded data removed]",
      "text/plain": [
       "<Figure size 640x480 with 1 Axes>"
      ]
     },
     "metadata": {},
     "output_type": "display_data"
    }
   ],
   "source": [
    "freq_transport.plot.pie(autopct='%1.0f%%' ,startangle=90)\n",
    "plt.show()"
   ]
  },
  {
   "cell_type": "markdown",
   "metadata": {},
   "source": [
    "## <h1 style=\"text-align: left; color: #FFB347; font-family: 'Bahnschrift', sans-serif; font-size: 1.5em;\">Marital status</h1>\n"
   ]
  },
  {
   "cell_type": "code",
   "execution_count": 1782,
   "metadata": {},
   "outputs": [],
   "source": [
    "df_user.marital_status = df_user.marital_status.apply(lambda x: str(x).replace('_', ' ').capitalize())"
   ]
  },
  {
   "cell_type": "code",
   "execution_count": 1783,
   "metadata": {},
   "outputs": [],
   "source": [
    "df_user.marital_status = df_user.marital_status.replace(\"?\", None).ffill()"
   ]
  },
  {
   "cell_type": "code",
   "execution_count": 1784,
   "metadata": {},
   "outputs": [
    {
     "data": {
      "text/plain": [
       "marital_status\n",
       "Single     387\n",
       "Married     21\n",
       "Widow        3\n",
       "Name: count, dtype: int64"
      ]
     },
     "execution_count": 1784,
     "metadata": {},
     "output_type": "execute_result"
    }
   ],
   "source": [
    "freq_marital=df_user.marital_status.value_counts()\n",
    "freq_marital"
   ]
  },
  {
   "cell_type": "code",
   "execution_count": 1785,
   "metadata": {},
   "outputs": [
    {
     "data": {
      "image/png": "[encoded data removed]",
      "text/plain": [
       "<Figure size 640x480 with 1 Axes>"
      ]
     },
     "metadata": {},
     "output_type": "display_data"
    }
   ],
   "source": [
    "freq_marital.plot.pie(autopct='%1.0f%%' ,startangle=90)\n",
    "plt.show()"
   ]
  },
  {
   "cell_type": "markdown",
   "metadata": {},
   "source": [
    "## <h1 style=\"text-align: left; color: #FFB347; font-family: 'Bahnschrift', sans-serif; font-size: 1.5em;\">Descendants</h1>\n"
   ]
  },
  {
   "cell_type": "code",
   "execution_count": 1786,
   "metadata": {},
   "outputs": [],
   "source": [
    "df_user.hijos = df_user.hijos.apply(lambda x: str(x).replace('_', ' ').capitalize())"
   ]
  },
  {
   "cell_type": "code",
   "execution_count": 1787,
   "metadata": {},
   "outputs": [],
   "source": [
    "df_user.hijos = df_user.hijos.replace(\"?\", None).ffill()"
   ]
  },
  {
   "cell_type": "code",
   "execution_count": 1788,
   "metadata": {},
   "outputs": [
    {
     "data": {
      "text/plain": [
       "hijos\n",
       "Independent    274\n",
       "Kids           131\n",
       "Dependent        6\n",
       "Name: count, dtype: int64"
      ]
     },
     "execution_count": 1788,
     "metadata": {},
     "output_type": "execute_result"
    }
   ],
   "source": [
    "freq_descendants=df_user.hijos.value_counts()\n",
    "freq_descendants"
   ]
  },
  {
   "cell_type": "code",
   "execution_count": 1789,
   "metadata": {},
   "outputs": [
    {
     "data": {
      "image/png": "[encoded data removed]",
      "text/plain": [
       "<Figure size 640x480 with 1 Axes>"
      ]
     },
     "metadata": {},
     "output_type": "display_data"
    }
   ],
   "source": [
    "freq_descendants.plot.pie(autopct='%1.0f%%' ,startangle=90)\n",
    "plt.show()"
   ]
  },
  {
   "cell_type": "markdown",
   "metadata": {},
   "source": [
    "## <h1 style=\"text-align: left; color: #FFB347; font-family: 'Bahnschrift', sans-serif; font-size: 1.5em;\">Activity</h1>\n"
   ]
  },
  {
   "cell_type": "code",
   "execution_count": 1790,
   "metadata": {},
   "outputs": [],
   "source": [
    "df_user.activity = df_user.activity.apply(lambda x: str(x).replace('_', ' ').capitalize())"
   ]
  },
  {
   "cell_type": "code",
   "execution_count": 1791,
   "metadata": {},
   "outputs": [],
   "source": [
    "df_user.activity = df_user.activity.replace(\"?\", None).ffill()"
   ]
  },
  {
   "cell_type": "code",
   "execution_count": 1792,
   "metadata": {},
   "outputs": [
    {
     "data": {
      "text/plain": [
       "activity\n",
       "Student          353\n",
       "Professional      53\n",
       "Unemployed         3\n",
       "Working-class      2\n",
       "Name: count, dtype: int64"
      ]
     },
     "execution_count": 1792,
     "metadata": {},
     "output_type": "execute_result"
    }
   ],
   "source": [
    "freq_activity=df_user.activity.value_counts()\n",
    "freq_activity"
   ]
  },
  {
   "cell_type": "code",
   "execution_count": 1793,
   "metadata": {},
   "outputs": [
    {
     "data": {
      "text/plain": [
       "activity\n",
       "Student         353\n",
       "Professional     53\n",
       "Others            5\n",
       "Name: count, dtype: int64"
      ]
     },
     "execution_count": 1793,
     "metadata": {},
     "output_type": "execute_result"
    }
   ],
   "source": [
    "\n",
    "percentages_activity = df_user['activity'].value_counts(normalize=True)\n",
    "categories_to_replace = percentages_activity[percentages_activity < 0.05].index\n",
    "df_user['activity'] = df_user['activity'].replace(categories_to_replace, 'Others')\n",
    "freq_activity_replaced = df_user.activity.value_counts().sort_values(ascending=False)\n",
    "freq_activity_replaced\n"
   ]
  },
  {
   "cell_type": "code",
   "execution_count": 1794,
   "metadata": {},
   "outputs": [
    {
     "data": {
      "image/png": "[encoded data removed]",
      "text/plain": [
       "<Figure size 640x480 with 1 Axes>"
      ]
     },
     "metadata": {},
     "output_type": "display_data"
    }
   ],
   "source": [
    "freq_activity_replaced.plot.pie(autopct='%1.0f%%' ,startangle=90)\n",
    "plt.show()"
   ]
  },
  {
   "cell_type": "markdown",
   "metadata": {},
   "source": [
    "## <h1 style=\"text-align: left; color: #FFB347; font-family: 'Bahnschrift', sans-serif; font-size: 1.5em;\">Budget</h1>\n"
   ]
  },
  {
   "cell_type": "code",
   "execution_count": 1795,
   "metadata": {},
   "outputs": [],
   "source": [
    "df_user.budget = df_user.budget.apply(lambda x: str(x).replace('_', ' ').capitalize())"
   ]
  },
  {
   "cell_type": "code",
   "execution_count": 1796,
   "metadata": {},
   "outputs": [],
   "source": [
    "df_user.budget = df_user.budget.replace(\"?\", None).ffill()"
   ]
  },
  {
   "cell_type": "code",
   "execution_count": 1797,
   "metadata": {},
   "outputs": [
    {
     "data": {
      "text/plain": [
       "budget\n",
       "Medium    236\n",
       "Low       165\n",
       "High       10\n",
       "Name: count, dtype: int64"
      ]
     },
     "execution_count": 1797,
     "metadata": {},
     "output_type": "execute_result"
    }
   ],
   "source": [
    "freq_budget=df_user.budget.value_counts()\n",
    "freq_budget"
   ]
  },
  {
   "cell_type": "code",
   "execution_count": 1798,
   "metadata": {},
   "outputs": [
    {
     "data": {
      "image/png": "[encoded data removed]",
      "text/plain": [
       "<Figure size 640x480 with 1 Axes>"
      ]
     },
     "metadata": {},
     "output_type": "display_data"
    }
   ],
   "source": [
    "freq_budget.plot.pie(autopct='%1.0f%%' ,startangle=90)\n",
    "plt.show()"
   ]
  },
  {
   "cell_type": "markdown",
   "metadata": {},
   "source": [
    "# <h1 style=\"text-align: left; color: #FFB347; font-family: 'Bahnschrift Condensed', sans-serif; font-size: 2.5em;\">Univariate Continuous Analysis\n",
    "</h1>\n"
   ]
  },
  {
   "cell_type": "markdown",
   "metadata": {},
   "source": [
    "From df_user, we will now focus on the continuous columns, examining their distribution."
   ]
  },
  {
   "cell_type": "code",
   "execution_count": 1799,
   "metadata": {},
   "outputs": [],
   "source": [
    "continuous_columns = ['birth_year','weight','height']  "
   ]
  },
  {
   "cell_type": "code",
   "execution_count": 1800,
   "metadata": {},
   "outputs": [
    {
     "data": {
      "text/html": [
       "<div>\n",
       "<style scoped>\n",
       "    .dataframe tbody tr th:only-of-type {\n",
       "        vertical-align: middle;\n",
       "    }\n",
       "\n",
       "    .dataframe tbody tr th {\n",
       "        vertical-align: top;\n",
       "    }\n",
       "\n",
       "    .dataframe thead th {\n",
       "        text-align: right;\n",
       "    }\n",
       "</style>\n",
       "<table border=\"1\" class=\"dataframe\">\n",
       "  <thead>\n",
       "    <tr style=\"text-align: right;\">\n",
       "      <th></th>\n",
       "      <th>birth_year</th>\n",
       "      <th>weight</th>\n",
       "      <th>height</th>\n",
       "    </tr>\n",
       "  </thead>\n",
       "  <tbody>\n",
       "    <tr>\n",
       "      <th>0</th>\n",
       "      <td>1989</td>\n",
       "      <td>69</td>\n",
       "      <td>1.77</td>\n",
       "    </tr>\n",
       "    <tr>\n",
       "      <th>1</th>\n",
       "      <td>1990</td>\n",
       "      <td>40</td>\n",
       "      <td>1.87</td>\n",
       "    </tr>\n",
       "    <tr>\n",
       "      <th>2</th>\n",
       "      <td>1989</td>\n",
       "      <td>60</td>\n",
       "      <td>1.69</td>\n",
       "    </tr>\n",
       "    <tr>\n",
       "      <th>3</th>\n",
       "      <td>1940</td>\n",
       "      <td>44</td>\n",
       "      <td>1.53</td>\n",
       "    </tr>\n",
       "    <tr>\n",
       "      <th>4</th>\n",
       "      <td>1940</td>\n",
       "      <td>44</td>\n",
       "      <td>1.53</td>\n",
       "    </tr>\n",
       "    <tr>\n",
       "      <th>...</th>\n",
       "      <td>...</td>\n",
       "      <td>...</td>\n",
       "      <td>...</td>\n",
       "    </tr>\n",
       "    <tr>\n",
       "      <th>406</th>\n",
       "      <td>1988</td>\n",
       "      <td>66</td>\n",
       "      <td>1.54</td>\n",
       "    </tr>\n",
       "    <tr>\n",
       "      <th>407</th>\n",
       "      <td>1988</td>\n",
       "      <td>66</td>\n",
       "      <td>1.54</td>\n",
       "    </tr>\n",
       "    <tr>\n",
       "      <th>408</th>\n",
       "      <td>1990</td>\n",
       "      <td>50</td>\n",
       "      <td>1.60</td>\n",
       "    </tr>\n",
       "    <tr>\n",
       "      <th>409</th>\n",
       "      <td>1989</td>\n",
       "      <td>72</td>\n",
       "      <td>1.78</td>\n",
       "    </tr>\n",
       "    <tr>\n",
       "      <th>410</th>\n",
       "      <td>1991</td>\n",
       "      <td>54</td>\n",
       "      <td>1.55</td>\n",
       "    </tr>\n",
       "  </tbody>\n",
       "</table>\n",
       "<p>411 rows × 3 columns</p>\n",
       "</div>"
      ],
      "text/plain": [
       "     birth_year  weight  height\n",
       "0          1989      69    1.77\n",
       "1          1990      40    1.87\n",
       "2          1989      60    1.69\n",
       "3          1940      44    1.53\n",
       "4          1940      44    1.53\n",
       "..          ...     ...     ...\n",
       "406        1988      66    1.54\n",
       "407        1988      66    1.54\n",
       "408        1990      50    1.60\n",
       "409        1989      72    1.78\n",
       "410        1991      54    1.55\n",
       "\n",
       "[411 rows x 3 columns]"
      ]
     },
     "execution_count": 1800,
     "metadata": {},
     "output_type": "execute_result"
    }
   ],
   "source": [
    "df_user_cont=df_user[continuous_columns]\n",
    "df_user_cont"
   ]
  },
  {
   "cell_type": "code",
   "execution_count": 1801,
   "metadata": {},
   "outputs": [
    {
     "data": {
      "text/html": [
       "<div>\n",
       "<style scoped>\n",
       "    .dataframe tbody tr th:only-of-type {\n",
       "        vertical-align: middle;\n",
       "    }\n",
       "\n",
       "    .dataframe tbody tr th {\n",
       "        vertical-align: top;\n",
       "    }\n",
       "\n",
       "    .dataframe thead th {\n",
       "        text-align: right;\n",
       "    }\n",
       "</style>\n",
       "<table border=\"1\" class=\"dataframe\">\n",
       "  <thead>\n",
       "    <tr style=\"text-align: right;\">\n",
       "      <th></th>\n",
       "      <th>count</th>\n",
       "      <th>mean</th>\n",
       "      <th>std</th>\n",
       "      <th>min</th>\n",
       "      <th>25%</th>\n",
       "      <th>50%</th>\n",
       "      <th>75%</th>\n",
       "      <th>max</th>\n",
       "    </tr>\n",
       "  </thead>\n",
       "  <tbody>\n",
       "    <tr>\n",
       "      <th>birth_year</th>\n",
       "      <td>411.0</td>\n",
       "      <td>1984.335766</td>\n",
       "      <td>12.575592</td>\n",
       "      <td>1930.0</td>\n",
       "      <td>1984.00</td>\n",
       "      <td>1988.00</td>\n",
       "      <td>1989.500</td>\n",
       "      <td>1994.0</td>\n",
       "    </tr>\n",
       "    <tr>\n",
       "      <th>weight</th>\n",
       "      <td>411.0</td>\n",
       "      <td>66.588808</td>\n",
       "      <td>13.979908</td>\n",
       "      <td>40.0</td>\n",
       "      <td>60.00</td>\n",
       "      <td>66.00</td>\n",
       "      <td>76.000</td>\n",
       "      <td>120.0</td>\n",
       "    </tr>\n",
       "    <tr>\n",
       "      <th>height</th>\n",
       "      <td>411.0</td>\n",
       "      <td>1.662676</td>\n",
       "      <td>0.117320</td>\n",
       "      <td>1.2</td>\n",
       "      <td>1.54</td>\n",
       "      <td>1.67</td>\n",
       "      <td>1.765</td>\n",
       "      <td>2.0</td>\n",
       "    </tr>\n",
       "  </tbody>\n",
       "</table>\n",
       "</div>"
      ],
      "text/plain": [
       "            count         mean        std     min      25%      50%       75%  \\\n",
       "birth_year  411.0  1984.335766  12.575592  1930.0  1984.00  1988.00  1989.500   \n",
       "weight      411.0    66.588808  13.979908    40.0    60.00    66.00    76.000   \n",
       "height      411.0     1.662676   0.117320     1.2     1.54     1.67     1.765   \n",
       "\n",
       "               max  \n",
       "birth_year  1994.0  \n",
       "weight       120.0  \n",
       "height         2.0  "
      ]
     },
     "execution_count": 1801,
     "metadata": {},
     "output_type": "execute_result"
    }
   ],
   "source": [
    "df_user_cont.describe().T"
   ]
  },
  {
   "cell_type": "markdown",
   "metadata": {},
   "source": [
    "## <h1 style=\"text-align: left; color: #FFB347; font-family: 'Bahnschrift', sans-serif; font-size: 1.5em;\">Birth year</h1>\n"
   ]
  },
  {
   "cell_type": "code",
   "execution_count": 1802,
   "metadata": {},
   "outputs": [
    {
     "data": {
      "image/png": "[encoded data removed]",
      "text/plain": [
       "<Figure size 640x480 with 1 Axes>"
      ]
     },
     "metadata": {},
     "output_type": "display_data"
    }
   ],
   "source": [
    "sns.histplot(data=df_user, x=\"birth_year\",kde=True,line_kws={'linewidth': 4}) \n",
    "plt.title(\"Birth year distribution\")\n",
    "plt.xlabel(\"Birth year\")\n",
    "plt.ylabel(\"Count\")\n",
    "plt.xticks(rotation=45)\n",
    "plt.show()"
   ]
  },
  {
   "cell_type": "code",
   "execution_count": 1803,
   "metadata": {},
   "outputs": [
    {
     "data": {
      "image/png": "[encoded data removed]",
      "text/plain": [
       "<Figure size 640x480 with 1 Axes>"
      ]
     },
     "metadata": {},
     "output_type": "display_data"
    }
   ],
   "source": [
    "import statsmodels.api as sm\n",
    "\n",
    "# Generating a Q-Q plot for 'SalePrice' to check if its distribution follows a normal distribution\n",
    "sm.qqplot(df_user['birth_year'], line='s');\n",
    "plt.show()"
   ]
  },
  {
   "cell_type": "markdown",
   "metadata": {},
   "source": [
    "## <h1 style=\"text-align: left; color: #FFB347; font-family: 'Bahnschrift', sans-serif; font-size: 1.5em;\">Weight</h1>\n"
   ]
  },
  {
   "cell_type": "code",
   "execution_count": 1804,
   "metadata": {},
   "outputs": [
    {
     "data": {
      "image/png": "[encoded data removed]",
      "text/plain": [
       "<Figure size 640x480 with 1 Axes>"
      ]
     },
     "metadata": {},
     "output_type": "display_data"
    }
   ],
   "source": [
    "sns.histplot(data=df_user, x=\"weight\",kde=True,line_kws={'linewidth': 4}) \n",
    "plt.title(\"Weight distribution\")\n",
    "plt.xlabel(\"Weight\")\n",
    "plt.ylabel(\"Count\")\n",
    "plt.xticks(rotation=90)\n",
    "plt.show()"
   ]
  },
  {
   "cell_type": "code",
   "execution_count": 1805,
   "metadata": {},
   "outputs": [
    {
     "data": {
      "image/png": "[encoded data removed]",
      "text/plain": [
       "<Figure size 640x480 with 1 Axes>"
      ]
     },
     "metadata": {},
     "output_type": "display_data"
    }
   ],
   "source": [
    "import statsmodels.api as sm\n",
    "\n",
    "# Generating a Q-Q plot for 'SalePrice' to check if its distribution follows a normal distribution\n",
    "sm.qqplot(df_user['weight'], line='s');\n",
    "plt.show()"
   ]
  },
  {
   "cell_type": "markdown",
   "metadata": {},
   "source": [
    "## <h1 style=\"text-align: left; color: #FFB347; font-family: 'Bahnschrift', sans-serif; font-size: 1.5em;\">Height</h1>\n"
   ]
  },
  {
   "cell_type": "code",
   "execution_count": 1806,
   "metadata": {},
   "outputs": [
    {
     "data": {
      "image/png": "[encoded data removed]",
      "text/plain": [
       "<Figure size 640x480 with 1 Axes>"
      ]
     },
     "metadata": {},
     "output_type": "display_data"
    }
   ],
   "source": [
    "sns.histplot(data=df_user, x=\"height\",kde=True,line_kws={'linewidth': 4}) \n",
    "plt.title(\"Height distribution\")\n",
    "plt.xlabel(\"Height\")\n",
    "plt.ylabel(\"Count\")\n",
    "plt.xticks(rotation=45)\n",
    "plt.show()"
   ]
  },
  {
   "cell_type": "code",
   "execution_count": 1807,
   "metadata": {},
   "outputs": [
    {
     "data": {
      "image/png": "[encoded data removed]",
      "text/plain": [
       "<Figure size 640x480 with 1 Axes>"
      ]
     },
     "metadata": {},
     "output_type": "display_data"
    }
   ],
   "source": [
    "import statsmodels.api as sm\n",
    "\n",
    "# Generating a Q-Q plot for 'SalePrice' to check if its distribution follows a normal distribution\n",
    "sm.qqplot(df_user['height'], line='s');\n",
    "plt.show()"
   ]
  },
  {
   "cell_type": "markdown",
   "metadata": {},
   "source": [
    "According to the QQ plot, we can observe that the `height` column has a fairly normalized distribution."
   ]
  },
  {
   "cell_type": "markdown",
   "metadata": {},
   "source": [
    "## <h1 style=\"text-align: left; color: #FFB347; font-family: 'Bahnschrift', sans-serif; font-size: 1.5em;\">Rating</h1>\n"
   ]
  },
  {
   "cell_type": "markdown",
   "metadata": {},
   "source": [
    "Finally, we will analyze the `rating` column, which is numeric but could be considered categorical due to its few unique values (5). We will test this with a barplot, although we will also check how it looks with a histogram."
   ]
  },
  {
   "cell_type": "code",
   "execution_count": 1808,
   "metadata": {},
   "outputs": [
    {
     "data": {
      "image/png": "[encoded data removed]",
      "text/plain": [
       "<Figure size 640x480 with 1 Axes>"
      ]
     },
     "metadata": {},
     "output_type": "display_data"
    }
   ],
   "source": [
    "sns.countplot(data=df_rating, x=\"food_rating\",palette = ['#FF7F7F', '#FFF9C4', '#A5D6A7', '#81D4FA', '#F1F1F1']) \n",
    "plt.title(\"Rating distribution\")\n",
    "plt.xlabel(\"Rating\")\n",
    "plt.ylabel(\"Count\")\n",
    "plt.show()"
   ]
  },
  {
   "cell_type": "code",
   "execution_count": 1809,
   "metadata": {},
   "outputs": [
    {
     "data": {
      "image/png": "[encoded data removed]",
      "text/plain": [
       "<Figure size 640x480 with 1 Axes>"
      ]
     },
     "metadata": {},
     "output_type": "display_data"
    }
   ],
   "source": [
    "df_melted = df_rating.melt(\n",
    "    value_vars=[\"food_rating\", \"rating\", \"service_rating\"], \n",
    "    var_name=\"rating_type\", \n",
    "    value_name=\"rating_value\"  # Cambiar el nombre aquí\n",
    ")\n",
    "\n",
    "# Crear el gráfico\n",
    "sns.countplot(data=df_melted, x=\"rating_value\", hue=\"rating_type\")\n",
    "plt.title(\"Ratings Distribution\")\n",
    "plt.xlabel(\"Rating\")\n",
    "plt.ylabel(\"Count\")\n",
    "plt.show()"
   ]
  },
  {
   "cell_type": "markdown",
   "metadata": {},
   "source": [
    "# <h1 style=\"text-align: left; color: #FFB347; font-family: 'Bahnschrift Condensed', sans-serif; font-size: 2.5em;\">Bivariate Analysis\n",
    "</h1>\n"
   ]
  },
  {
   "cell_type": "code",
   "execution_count": 1810,
   "metadata": {},
   "outputs": [
    {
     "data": {
      "text/html": [
       "<div>\n",
       "<style scoped>\n",
       "    .dataframe tbody tr th:only-of-type {\n",
       "        vertical-align: middle;\n",
       "    }\n",
       "\n",
       "    .dataframe tbody tr th {\n",
       "        vertical-align: top;\n",
       "    }\n",
       "\n",
       "    .dataframe thead th {\n",
       "        text-align: right;\n",
       "    }\n",
       "</style>\n",
       "<table border=\"1\" class=\"dataframe\">\n",
       "  <thead>\n",
       "    <tr style=\"text-align: right;\">\n",
       "      <th></th>\n",
       "      <th>userID</th>\n",
       "      <th>latitude</th>\n",
       "      <th>longitude</th>\n",
       "      <th>smoker</th>\n",
       "      <th>drink_level</th>\n",
       "      <th>dress_preference</th>\n",
       "      <th>ambience</th>\n",
       "      <th>transport</th>\n",
       "      <th>marital_status</th>\n",
       "      <th>hijos</th>\n",
       "      <th>birth_year</th>\n",
       "      <th>interest</th>\n",
       "      <th>personality</th>\n",
       "      <th>religion</th>\n",
       "      <th>activity</th>\n",
       "      <th>color</th>\n",
       "      <th>weight</th>\n",
       "      <th>budget</th>\n",
       "      <th>height</th>\n",
       "      <th>Upayment</th>\n",
       "      <th>Rcuisine</th>\n",
       "    </tr>\n",
       "  </thead>\n",
       "  <tbody>\n",
       "    <tr>\n",
       "      <th>0</th>\n",
       "      <td>U1001</td>\n",
       "      <td>22.139997</td>\n",
       "      <td>-100.978803</td>\n",
       "      <td>False</td>\n",
       "      <td>Abstemious</td>\n",
       "      <td>Informal</td>\n",
       "      <td>Family</td>\n",
       "      <td>On foot</td>\n",
       "      <td>Single</td>\n",
       "      <td>Independent</td>\n",
       "      <td>1989</td>\n",
       "      <td>Variety</td>\n",
       "      <td>Thrifty protector</td>\n",
       "      <td>Atheist</td>\n",
       "      <td>Student</td>\n",
       "      <td>Black</td>\n",
       "      <td>69</td>\n",
       "      <td>Medium</td>\n",
       "      <td>1.77</td>\n",
       "      <td>Cash</td>\n",
       "      <td>American</td>\n",
       "    </tr>\n",
       "    <tr>\n",
       "      <th>1</th>\n",
       "      <td>U1002</td>\n",
       "      <td>22.150087</td>\n",
       "      <td>-100.983325</td>\n",
       "      <td>False</td>\n",
       "      <td>Abstemious</td>\n",
       "      <td>Informal</td>\n",
       "      <td>Family</td>\n",
       "      <td>Public</td>\n",
       "      <td>Single</td>\n",
       "      <td>Independent</td>\n",
       "      <td>1990</td>\n",
       "      <td>Technology</td>\n",
       "      <td>Hunter ostentatious</td>\n",
       "      <td>Catholic</td>\n",
       "      <td>Student</td>\n",
       "      <td>Red</td>\n",
       "      <td>40</td>\n",
       "      <td>Low</td>\n",
       "      <td>1.87</td>\n",
       "      <td>Cash</td>\n",
       "      <td>Mexican</td>\n",
       "    </tr>\n",
       "    <tr>\n",
       "      <th>2</th>\n",
       "      <td>U1003</td>\n",
       "      <td>22.119847</td>\n",
       "      <td>-100.946527</td>\n",
       "      <td>False</td>\n",
       "      <td>Social drinker</td>\n",
       "      <td>Formal</td>\n",
       "      <td>Family</td>\n",
       "      <td>Public</td>\n",
       "      <td>Single</td>\n",
       "      <td>Independent</td>\n",
       "      <td>1989</td>\n",
       "      <td>None</td>\n",
       "      <td>Hard worker</td>\n",
       "      <td>Catholic</td>\n",
       "      <td>Student</td>\n",
       "      <td>Blue</td>\n",
       "      <td>60</td>\n",
       "      <td>Low</td>\n",
       "      <td>1.69</td>\n",
       "      <td>Cash</td>\n",
       "      <td>Mexican</td>\n",
       "    </tr>\n",
       "    <tr>\n",
       "      <th>3</th>\n",
       "      <td>U1004</td>\n",
       "      <td>18.867000</td>\n",
       "      <td>-99.183000</td>\n",
       "      <td>False</td>\n",
       "      <td>Abstemious</td>\n",
       "      <td>Informal</td>\n",
       "      <td>Family</td>\n",
       "      <td>Public</td>\n",
       "      <td>Single</td>\n",
       "      <td>Independent</td>\n",
       "      <td>1940</td>\n",
       "      <td>Variety</td>\n",
       "      <td>Hard worker</td>\n",
       "      <td>Atheist</td>\n",
       "      <td>Professional</td>\n",
       "      <td>Green</td>\n",
       "      <td>44</td>\n",
       "      <td>Medium</td>\n",
       "      <td>1.53</td>\n",
       "      <td>Bank debit cards</td>\n",
       "      <td>Bakery</td>\n",
       "    </tr>\n",
       "    <tr>\n",
       "      <th>4</th>\n",
       "      <td>U1004</td>\n",
       "      <td>18.867000</td>\n",
       "      <td>-99.183000</td>\n",
       "      <td>False</td>\n",
       "      <td>Abstemious</td>\n",
       "      <td>Informal</td>\n",
       "      <td>Family</td>\n",
       "      <td>Public</td>\n",
       "      <td>Single</td>\n",
       "      <td>Independent</td>\n",
       "      <td>1940</td>\n",
       "      <td>Variety</td>\n",
       "      <td>Hard worker</td>\n",
       "      <td>Atheist</td>\n",
       "      <td>Professional</td>\n",
       "      <td>Green</td>\n",
       "      <td>44</td>\n",
       "      <td>Medium</td>\n",
       "      <td>1.53</td>\n",
       "      <td>Cash</td>\n",
       "      <td>Bakery</td>\n",
       "    </tr>\n",
       "  </tbody>\n",
       "</table>\n",
       "</div>"
      ],
      "text/plain": [
       "  userID   latitude   longitude smoker     drink_level dress_preference  \\\n",
       "0  U1001  22.139997 -100.978803  False      Abstemious         Informal   \n",
       "1  U1002  22.150087 -100.983325  False      Abstemious         Informal   \n",
       "2  U1003  22.119847 -100.946527  False  Social drinker           Formal   \n",
       "3  U1004  18.867000  -99.183000  False      Abstemious         Informal   \n",
       "4  U1004  18.867000  -99.183000  False      Abstemious         Informal   \n",
       "\n",
       "  ambience transport marital_status        hijos  birth_year    interest  \\\n",
       "0   Family   On foot         Single  Independent        1989     Variety   \n",
       "1   Family    Public         Single  Independent        1990  Technology   \n",
       "2   Family    Public         Single  Independent        1989        None   \n",
       "3   Family    Public         Single  Independent        1940     Variety   \n",
       "4   Family    Public         Single  Independent        1940     Variety   \n",
       "\n",
       "           personality  religion      activity  color  weight  budget  height  \\\n",
       "0    Thrifty protector   Atheist       Student  Black      69  Medium    1.77   \n",
       "1  Hunter ostentatious  Catholic       Student    Red      40     Low    1.87   \n",
       "2          Hard worker  Catholic       Student   Blue      60     Low    1.69   \n",
       "3          Hard worker   Atheist  Professional  Green      44  Medium    1.53   \n",
       "4          Hard worker   Atheist  Professional  Green      44  Medium    1.53   \n",
       "\n",
       "           Upayment  Rcuisine  \n",
       "0              Cash  American  \n",
       "1              Cash   Mexican  \n",
       "2              Cash   Mexican  \n",
       "3  Bank debit cards    Bakery  \n",
       "4              Cash    Bakery  "
      ]
     },
     "execution_count": 1810,
     "metadata": {},
     "output_type": "execute_result"
    }
   ],
   "source": [
    "df_user.head()"
   ]
  },
  {
   "cell_type": "markdown",
   "metadata": {},
   "source": [
    "## <h1 style=\"text-align: left; color: #FFB347; font-family: 'Bahnschrift', sans-serif; font-size: 1.5em;\">Interest vs. Budget</h1>\n"
   ]
  },
  {
   "cell_type": "code",
   "execution_count": 1811,
   "metadata": {},
   "outputs": [
    {
     "data": {
      "text/html": [
       "<div>\n",
       "<style scoped>\n",
       "    .dataframe tbody tr th:only-of-type {\n",
       "        vertical-align: middle;\n",
       "    }\n",
       "\n",
       "    .dataframe tbody tr th {\n",
       "        vertical-align: top;\n",
       "    }\n",
       "\n",
       "    .dataframe thead th {\n",
       "        text-align: right;\n",
       "    }\n",
       "</style>\n",
       "<table border=\"1\" class=\"dataframe\">\n",
       "  <thead>\n",
       "    <tr style=\"text-align: right;\">\n",
       "      <th>budget</th>\n",
       "      <th>High</th>\n",
       "      <th>Low</th>\n",
       "      <th>Medium</th>\n",
       "    </tr>\n",
       "    <tr>\n",
       "      <th>interest</th>\n",
       "      <th></th>\n",
       "      <th></th>\n",
       "      <th></th>\n",
       "    </tr>\n",
       "  </thead>\n",
       "  <tbody>\n",
       "    <tr>\n",
       "      <th>Eco friendly</th>\n",
       "      <td>0</td>\n",
       "      <td>20</td>\n",
       "      <td>29</td>\n",
       "    </tr>\n",
       "    <tr>\n",
       "      <th>None</th>\n",
       "      <td>1</td>\n",
       "      <td>5</td>\n",
       "      <td>27</td>\n",
       "    </tr>\n",
       "    <tr>\n",
       "      <th>Retro</th>\n",
       "      <td>0</td>\n",
       "      <td>2</td>\n",
       "      <td>6</td>\n",
       "    </tr>\n",
       "    <tr>\n",
       "      <th>Technology</th>\n",
       "      <td>7</td>\n",
       "      <td>17</td>\n",
       "      <td>105</td>\n",
       "    </tr>\n",
       "    <tr>\n",
       "      <th>Variety</th>\n",
       "      <td>2</td>\n",
       "      <td>121</td>\n",
       "      <td>69</td>\n",
       "    </tr>\n",
       "  </tbody>\n",
       "</table>\n",
       "</div>"
      ],
      "text/plain": [
       "budget        High  Low  Medium\n",
       "interest                       \n",
       "Eco friendly     0   20      29\n",
       "None             1    5      27\n",
       "Retro            0    2       6\n",
       "Technology       7   17     105\n",
       "Variety          2  121      69"
      ]
     },
     "execution_count": 1811,
     "metadata": {},
     "output_type": "execute_result"
    }
   ],
   "source": [
    "crosstab_result=pd.crosstab(index=df_user.interest,columns=df_user.budget)\n",
    "crosstab_result"
   ]
  },
  {
   "cell_type": "code",
   "execution_count": 1812,
   "metadata": {},
   "outputs": [
    {
     "data": {
      "image/png": "[encoded data removed]",
      "text/plain": [
       "<Figure size 640x480 with 2 Axes>"
      ]
     },
     "metadata": {},
     "output_type": "display_data"
    }
   ],
   "source": [
    "sns.heatmap(crosstab_result, annot=True, cmap=\"Reds\", fmt=\"d\")\n",
    "plt.show()"
   ]
  },
  {
   "cell_type": "markdown",
   "metadata": {},
   "source": [
    "The heatmap doesn't retrieves anything valuable, since medium budget is quite positively unbalanced, so everything seems correlated with that column. "
   ]
  },
  {
   "cell_type": "code",
   "execution_count": 1813,
   "metadata": {},
   "outputs": [],
   "source": [
    "# Chi-square test for 'MSZoning' and 'SaleCondition'\n",
    "chi2_stats, chi2_pvalue, _, _ = chi2_contingency(crosstab_result)"
   ]
  },
  {
   "cell_type": "code",
   "execution_count": 1814,
   "metadata": {},
   "outputs": [
    {
     "data": {
      "text/plain": [
       "np.float64(7.395210843830613e-17)"
      ]
     },
     "execution_count": 1814,
     "metadata": {},
     "output_type": "execute_result"
    }
   ],
   "source": [
    "chi2_pvalue "
   ]
  },
  {
   "cell_type": "markdown",
   "metadata": {},
   "source": [
    "We fail to reject the null hypothesis because the p-value is greater than 0.05, indicating, then, that the two features (interest and budget) are independent."
   ]
  },
  {
   "cell_type": "markdown",
   "metadata": {},
   "source": [
    "## <h1 style=\"text-align: left; color: #FFB347; font-family: 'Bahnschrift', sans-serif; font-size: 1.5em;\">Smoker vs. Drink Level</h1>\n"
   ]
  },
  {
   "cell_type": "code",
   "execution_count": 1815,
   "metadata": {},
   "outputs": [
    {
     "data": {
      "text/html": [
       "<div>\n",
       "<style scoped>\n",
       "    .dataframe tbody tr th:only-of-type {\n",
       "        vertical-align: middle;\n",
       "    }\n",
       "\n",
       "    .dataframe tbody tr th {\n",
       "        vertical-align: top;\n",
       "    }\n",
       "\n",
       "    .dataframe thead th {\n",
       "        text-align: right;\n",
       "    }\n",
       "</style>\n",
       "<table border=\"1\" class=\"dataframe\">\n",
       "  <thead>\n",
       "    <tr style=\"text-align: right;\">\n",
       "      <th>drink_level</th>\n",
       "      <th>Abstemious</th>\n",
       "      <th>Casual drinker</th>\n",
       "      <th>Social drinker</th>\n",
       "    </tr>\n",
       "    <tr>\n",
       "      <th>smoker</th>\n",
       "      <th></th>\n",
       "      <th></th>\n",
       "      <th></th>\n",
       "    </tr>\n",
       "  </thead>\n",
       "  <tbody>\n",
       "    <tr>\n",
       "      <th>False</th>\n",
       "      <td>136</td>\n",
       "      <td>190</td>\n",
       "      <td>48</td>\n",
       "    </tr>\n",
       "    <tr>\n",
       "      <th>True</th>\n",
       "      <td>1</td>\n",
       "      <td>16</td>\n",
       "      <td>20</td>\n",
       "    </tr>\n",
       "  </tbody>\n",
       "</table>\n",
       "</div>"
      ],
      "text/plain": [
       "drink_level  Abstemious  Casual drinker  Social drinker\n",
       "smoker                                                 \n",
       "False               136             190              48\n",
       "True                  1              16              20"
      ]
     },
     "execution_count": 1815,
     "metadata": {},
     "output_type": "execute_result"
    }
   ],
   "source": [
    "crosstab_result_2=pd.crosstab(index=df_user.smoker,columns=df_user.drink_level)\n",
    "crosstab_result_2"
   ]
  },
  {
   "cell_type": "code",
   "execution_count": 1816,
   "metadata": {},
   "outputs": [
    {
     "data": {
      "image/png": "[encoded data removed]",
      "text/plain": [
       "<Figure size 640x480 with 2 Axes>"
      ]
     },
     "metadata": {},
     "output_type": "display_data"
    }
   ],
   "source": [
    "sns.heatmap(crosstab_result_2, annot=True, cmap=\"Reds\", fmt=\"d\")\n",
    "plt.show()"
   ]
  },
  {
   "cell_type": "code",
   "execution_count": 1817,
   "metadata": {},
   "outputs": [],
   "source": [
    "# Chi-square test for 'MSZoning' and 'SaleCondition'\n",
    "chi2_stats, chi2_pvalue, _, _ = chi2_contingency(crosstab_result_2)"
   ]
  },
  {
   "cell_type": "code",
   "execution_count": 1818,
   "metadata": {},
   "outputs": [
    {
     "data": {
      "text/plain": [
       "np.float64(8.382012154386263e-11)"
      ]
     },
     "execution_count": 1818,
     "metadata": {},
     "output_type": "execute_result"
    }
   ],
   "source": [
    "chi2_pvalue "
   ]
  },
  {
   "cell_type": "code",
   "execution_count": 1819,
   "metadata": {},
   "outputs": [
    {
     "data": {
      "text/plain": [
       "0.33601607555808"
      ]
     },
     "execution_count": 1819,
     "metadata": {},
     "output_type": "execute_result"
    }
   ],
   "source": [
    "# Computing the association between variables in 'crosstab_result' using the \"cramer\" method\n",
    "association(crosstab_result_2, method='cramer')"
   ]
  },
  {
   "cell_type": "markdown",
   "metadata": {},
   "source": [
    "Although the 'smoker' variable is also imbalanced, we observe a clear pattern indicating that there are almost no people who both smoke and are also abstainers. This is why the chi-square test detects some dependency between the two columns though, regarding the Cramer test, we can see the relation is not strong.  "
   ]
  },
  {
   "cell_type": "markdown",
   "metadata": {},
   "source": [
    "## <h1 style=\"text-align: left; color: #FFB347; font-family: 'Bahnschrift', sans-serif; font-size: 1.5em;\">Ambience vs. Marital Status</h1>\n"
   ]
  },
  {
   "cell_type": "code",
   "execution_count": 1820,
   "metadata": {},
   "outputs": [
    {
     "data": {
      "text/html": [
       "<div>\n",
       "<style scoped>\n",
       "    .dataframe tbody tr th:only-of-type {\n",
       "        vertical-align: middle;\n",
       "    }\n",
       "\n",
       "    .dataframe tbody tr th {\n",
       "        vertical-align: top;\n",
       "    }\n",
       "\n",
       "    .dataframe thead th {\n",
       "        text-align: right;\n",
       "    }\n",
       "</style>\n",
       "<table border=\"1\" class=\"dataframe\">\n",
       "  <thead>\n",
       "    <tr style=\"text-align: right;\">\n",
       "      <th>marital_status</th>\n",
       "      <th>Married</th>\n",
       "      <th>Single</th>\n",
       "      <th>Widow</th>\n",
       "    </tr>\n",
       "    <tr>\n",
       "      <th>ambience</th>\n",
       "      <th></th>\n",
       "      <th></th>\n",
       "      <th></th>\n",
       "    </tr>\n",
       "  </thead>\n",
       "  <tbody>\n",
       "    <tr>\n",
       "      <th>Family</th>\n",
       "      <td>17</td>\n",
       "      <td>218</td>\n",
       "      <td>0</td>\n",
       "    </tr>\n",
       "    <tr>\n",
       "      <th>Friends</th>\n",
       "      <td>2</td>\n",
       "      <td>90</td>\n",
       "      <td>2</td>\n",
       "    </tr>\n",
       "    <tr>\n",
       "      <th>Solitary</th>\n",
       "      <td>2</td>\n",
       "      <td>79</td>\n",
       "      <td>1</td>\n",
       "    </tr>\n",
       "  </tbody>\n",
       "</table>\n",
       "</div>"
      ],
      "text/plain": [
       "marital_status  Married  Single  Widow\n",
       "ambience                              \n",
       "Family               17     218      0\n",
       "Friends               2      90      2\n",
       "Solitary              2      79      1"
      ]
     },
     "execution_count": 1820,
     "metadata": {},
     "output_type": "execute_result"
    }
   ],
   "source": [
    "crosstab_result_3=pd.crosstab(index=df_user.ambience,columns=df_user.marital_status)\n",
    "crosstab_result_3"
   ]
  },
  {
   "cell_type": "code",
   "execution_count": 1821,
   "metadata": {},
   "outputs": [
    {
     "data": {
      "image/png": "[encoded data removed]",
      "text/plain": [
       "<Figure size 640x480 with 2 Axes>"
      ]
     },
     "metadata": {},
     "output_type": "display_data"
    }
   ],
   "source": [
    "sns.heatmap(crosstab_result_3, annot=True, cmap=\"Reds\", fmt=\"d\")\n",
    "plt.show()"
   ]
  },
  {
   "cell_type": "code",
   "execution_count": 1822,
   "metadata": {},
   "outputs": [],
   "source": [
    "# Chi-square test for 'MSZoning' and 'SaleCondition'\n",
    "chi2_stats, chi2_pvalue, _, _ = chi2_contingency(crosstab_result_3)"
   ]
  },
  {
   "cell_type": "code",
   "execution_count": 1823,
   "metadata": {},
   "outputs": [
    {
     "data": {
      "text/plain": [
       "np.float64(0.05033086965833308)"
      ]
     },
     "execution_count": 1823,
     "metadata": {},
     "output_type": "execute_result"
    }
   ],
   "source": [
    "chi2_pvalue "
   ]
  },
  {
   "cell_type": "markdown",
   "metadata": {},
   "source": [
    "We observe that there are no singnificative relation between the preferred ambience and marital status. The heatmap just shows a concentration in single column due to the unbalanced data. "
   ]
  },
  {
   "cell_type": "markdown",
   "metadata": {},
   "source": [
    "## <h1 style=\"text-align: left; color: #FFB347; font-family: 'Bahnschrift', sans-serif; font-size: 1.5em;\">Height vs. Weight</h1>\n"
   ]
  },
  {
   "cell_type": "code",
   "execution_count": 1824,
   "metadata": {},
   "outputs": [
    {
     "data": {
      "image/png": "[encoded data removed]",
      "text/plain": [
       "<Figure size 640x480 with 1 Axes>"
      ]
     },
     "metadata": {},
     "output_type": "display_data"
    }
   ],
   "source": [
    "# Plotting a scatter plot to visualize the relationship between 'GrLivArea' and 'SalePrice'\n",
    "sns.scatterplot(data=df_user, x='height', y='weight',palette = ['#FF7F7F', '#FFF9C4', '#A5D6A7', '#81D4FA', '#F1F1F1'])\n",
    "plt.show()"
   ]
  },
  {
   "cell_type": "code",
   "execution_count": 1825,
   "metadata": {},
   "outputs": [
    {
     "data": {
      "text/plain": [
       "np.float64(0.48614985698960633)"
      ]
     },
     "execution_count": 1825,
     "metadata": {},
     "output_type": "execute_result"
    }
   ],
   "source": [
    "# Calculating the Pearson correlation coefficient between 'SalePrice' and 'GrLivArea' columns\n",
    "df_user.weight.corr(df_user.height) # PEARSON"
   ]
  },
  {
   "cell_type": "code",
   "execution_count": 1826,
   "metadata": {},
   "outputs": [
    {
     "data": {
      "text/plain": [
       "np.float64(0.6046205094630359)"
      ]
     },
     "execution_count": 1826,
     "metadata": {},
     "output_type": "execute_result"
    }
   ],
   "source": [
    "# Calculating the Spearman rank correlation between 'SalePrice' and 'GrLivArea'\n",
    "df_user.weight.corr(df_user.height, method='spearman')"
   ]
  },
  {
   "cell_type": "markdown",
   "metadata": {},
   "source": [
    "Both the Pearson and Spearman tests show some correlation between the two columns (positive, as greater height is expected to correspond to greater weight). The relationship is slightly stronger when non-linearity is assumed (Spearman > Pearson)."
   ]
  },
  {
   "cell_type": "markdown",
   "metadata": {},
   "source": [
    "## <h1 style=\"text-align: left; color: #FFB347; font-family: 'Bahnschrift', sans-serif; font-size: 1.5em;\">Height vs. Marital Status</h1>\n"
   ]
  },
  {
   "cell_type": "code",
   "execution_count": null,
   "metadata": {},
   "outputs": [],
   "source": []
  },
  {
   "cell_type": "code",
   "execution_count": 1827,
   "metadata": {},
   "outputs": [
    {
     "data": {
      "image/png": "[encoded data removed]",
      "text/plain": [
       "<Figure size 640x480 with 1 Axes>"
      ]
     },
     "metadata": {},
     "output_type": "display_data"
    }
   ],
   "source": [
    "# Plotting a violin plot to visualize the distribution of 'SalePrice' for each 'MSZoning' category, using the \"coolwarm\" color palette\n",
    "sns.violinplot(data=df_user, x=\"marital_status\", y=\"weight\",palette = ['#FF7F7F', '#FFF9C4', '#A5D6A7', '#81D4FA', '#F1F1F1'])\n",
    "plt.show()"
   ]
  },
  {
   "cell_type": "code",
   "execution_count": 1828,
   "metadata": {},
   "outputs": [],
   "source": [
    "column_small = df_user[(df_user[\"marital_status\"] == \"Single\")][\"weight\"]\n",
    "column_medium = df_user[(df_user[\"marital_status\"] == \"Married\")][\"weight\"]\n",
    "column_large = df_user[(df_user[\"marital_status\"] == \"Widow\")][\"weight\"]\n"
   ]
  },
  {
   "cell_type": "code",
   "execution_count": 1829,
   "metadata": {},
   "outputs": [
    {
     "name": "stdout",
     "output_type": "stream",
     "text": [
      "66.44702842377261\n",
      "65.47619047619048\n",
      "92.66666666666667\n"
     ]
    }
   ],
   "source": [
    "print(column_small.mean())\n",
    "print(column_medium.mean())\n",
    "print(column_large.mean())"
   ]
  },
  {
   "cell_type": "code",
   "execution_count": 1830,
   "metadata": {},
   "outputs": [
    {
     "name": "stdout",
     "output_type": "stream",
     "text": [
      "F-Statistic: 5.42\n",
      "P-Value: 0.0048\n",
      "\n",
      "Reject the Null Hypothesis: There is a significant difference in weight based on marital status.\n"
     ]
    }
   ],
   "source": [
    "# Perform One-Way ANOVA\n",
    "f_stat, p_value = st.f_oneway(column_small,column_medium, column_large) ## python considera anova como un subtipo de fisher, por eso es f_\n",
    "print(f\"F-Statistic: {f_stat:.2f}\")\n",
    "print(f\"P-Value: {p_value:.4f}\")\n",
    "print()\n",
    "\n",
    "# Significance level\n",
    "alpha = 0.05\n",
    "\n",
    "# Decision-Making\n",
    "if p_value > alpha:\n",
    "    print(\"Fail to Reject the Null Hypothesis: Marital status has no significant impact on weight.\")\n",
    "else:\n",
    "    print(\"Reject the Null Hypothesis: There is a significant difference in weight based on marital status.\")"
   ]
  },
  {
   "cell_type": "markdown",
   "metadata": {},
   "source": [
    "# <h1 style=\"text-align: left; color: #FFB347; font-family: 'Bahnschrift Condensed', sans-serif; font-size: 2.5em;\">Exporting the datasets\n",
    "</h1>\n"
   ]
  },
  {
   "cell_type": "code",
   "execution_count": 1831,
   "metadata": {},
   "outputs": [],
   "source": [
    "## df_user.to_csv(\"../data/df_user.csv\",index=False)"
   ]
  },
  {
   "cell_type": "markdown",
   "metadata": {},
   "source": [
    "## <h1 style=\"text-align: left; color: #FFB347; font-family: 'Bahnschrift', sans-serif; font-size: 1.5em;\">Renaming columns for Dataframe filter oriented</h1>\n"
   ]
  },
  {
   "cell_type": "code",
   "execution_count": 1832,
   "metadata": {},
   "outputs": [],
   "source": [
    "rename_columns = {\n",
    "    \"userID\": \"User ID\",\n",
    "    \"latitude\": \"Latitude\",\n",
    "    \"longitude\": \"Longitude\",\n",
    "    \"smoker\": \"Smoking Habit\",\n",
    "    \"drink_level\": \"Drinking Habit\",\n",
    "    \"dress_preference\": \"Dress Preference\",\n",
    "    \"ambience\": \"Preferred Ambience\",\n",
    "    \"transport\": \"Transport Mode\",\n",
    "    \"marital_status\": \"Marital Status\",\n",
    "    \"hijos\": \"People Under Charge\",\n",
    "    \"birth_year\": \"Birth Year\",\n",
    "    \"interest\": \"Interest\",\n",
    "    \"personality\": \"Personality\",\n",
    "    \"religion\": \"Religion\",\n",
    "    \"activity\": \"Activity Level\",\n",
    "    \"color\": \"Favorite Color\",\n",
    "    \"weight\": \"Weight (kg)\",\n",
    "    \"budget\": \"Budget\",\n",
    "    \"height\": \"Height (cm)\",\n",
    "    \"Upayment\": \"Preferred Payment Method\",\n",
    "    \"Rcuisine\": \"User Preference\"\n",
    "}\n",
    "\n",
    "\n",
    "df_user.rename(columns=rename_columns, inplace=True)\n"
   ]
  },
  {
   "cell_type": "code",
   "execution_count": 1833,
   "metadata": {},
   "outputs": [],
   "source": [
    "## This cell will just be activated in case we have dropped\n",
    "## the duplicates at the beginning of the notebook.\n",
    "## df_user.to_csv(\"../data/df_user_filter_collapsed.csv\",index=False)"
   ]
  },
  {
   "cell_type": "code",
   "execution_count": null,
   "metadata": {},
   "outputs": [],
   "source": [
    "## This cell will just be activated in case we haven't\n",
    "## dropped the duplicates \n",
    "## df_user.to_csv(\"../data/df_user_filter.csv\",index=False)"
   ]
  }
 ],
 "metadata": {
  "kernelspec": {
   "display_name": "Python 3",
   "language": "python",
   "name": "python3"
  },
  "language_info": {
   "codemirror_mode": {
    "name": "ipython",
    "version": 3
   },
   "file_extension": ".py",
   "mimetype": "text/x-python",
   "name": "python",
   "nbconvert_exporter": "python",
   "pygments_lexer": "ipython3",
   "version": "3.11.9"
  }
 },
 "nbformat": 4,
 "nbformat_minor": 2
}
